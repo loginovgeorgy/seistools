{
 "cells": [
  {
   "cell_type": "markdown",
   "metadata": {},
   "source": [
    "# Пакет лучевого трассирования SeisLab\n",
    "## Руководство для быстрого старта"
   ]
  },
  {
   "cell_type": "markdown",
   "metadata": {},
   "source": [
    "Пакет SeisLab предназначен для расчёта синтетических волновых полей в приближении главного члена лучевого ряда. Алгоритмы, реализованные в пакете, основаны двух допущениях:\n",
    "1. Рассматриваются только однородно-слоистые модели сред без выклинивания;\n",
    "2. При построении лучей решается двухточечная задача.\n",
    "\n",
    "Кроме них есть и другие, более локальные предположения. Они будут проявляться по мере продвижения по основным модулям SeisLab."
   ]
  },
  {
   "cell_type": "markdown",
   "metadata": {},
   "source": [
    "## Обзор основных модулей"
   ]
  },
  {
   "cell_type": "code",
   "execution_count": 13,
   "metadata": {},
   "outputs": [],
   "source": [
    "# Импортируем главные компоненты для лучевого моделирования\n",
    "import sys\n",
    "sys.path.insert(0, \"C:/Users/USER/seislab\") # Не нашёл другого решения, чтобы импортировать модули из внешней директории\n",
    "\n",
    "from src.tprt import FlatHorizon,\\\n",
    "GridHorizon,\\\n",
    "ISOVelocity,\\\n",
    "Layer,\\\n",
    "Velocity_model,\\\n",
    "DilatCenter,\\\n",
    "RotatCenter,\\\n",
    "Receiver,\\\n",
    "Ray"
   ]
  },
  {
   "cell_type": "markdown",
   "metadata": {},
   "source": [
    "Выше были импортированы наиболее значимые классы, фигурирующие в проекте. Некоторые из них являются дочерними к более общим сущностям. Так, классы FlatHorizon и GridHorizon наследуют методы класса Horizon. \n",
    "\n",
    "Физические сущности, стоящие за подгруженными классами, можно понять из названий:\n",
    "\n",
    "- FlatHorizon - класс, описывающий плоские геологические границы;\n",
    "- GridHorizon - класс, описывающий криволинейные границы, заданные на сетке;\n",
    "- ISOVelocity - класс, созданные для взаимодействия с изотропными скоростными моделями. По сути, объекты этого класса являются парами [Vp, Vs] с возможностью удобного (с точки зрения сейсмика) вызова любого из элементов;\n",
    "- Layer - класс, описывающий геологические слои;\n",
    "- Velocity_model - класс, описывающий скоростные (и плотностные, на самом деле) модели среды;\n",
    "- DilatCenter - класс, описывающий источники типа центра расширения;\n",
    "- RotatCenter - класс, описывающий источники типа центра вращения;\n",
    "- Receiver - класс, описывающий приёмники;\n",
    "- Ray - класс, описывающий лучи."
   ]
  },
  {
   "cell_type": "code",
   "execution_count": null,
   "metadata": {
    "collapsed": true
   },
   "outputs": [],
   "source": []
  }
 ],
 "metadata": {
  "kernelspec": {
   "display_name": "Python 3",
   "language": "python",
   "name": "python3"
  },
  "language_info": {
   "codemirror_mode": {
    "name": "ipython",
    "version": 3
   },
   "file_extension": ".py",
   "mimetype": "text/x-python",
   "name": "python",
   "nbconvert_exporter": "python",
   "pygments_lexer": "ipython3",
   "version": "3.6.2"
  }
 },
 "nbformat": 4,
 "nbformat_minor": 2
}
