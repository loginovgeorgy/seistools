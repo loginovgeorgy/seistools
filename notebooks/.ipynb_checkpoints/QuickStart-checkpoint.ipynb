{
 "cells": [
  {
   "cell_type": "markdown",
   "metadata": {},
   "source": [
    "# Пакет лучевого трассирования SeisLab\n",
    "## Руководство для быстрого старта"
   ]
  },
  {
   "cell_type": "markdown",
   "metadata": {},
   "source": [
    "Пакет SeisLab предназначен для расчёта синтетических волновых полей в приближении главного члена лучевого ряда. Алгоритмы, реализованные в пакете, основаны двух допущениях:\n",
    "1. Рассматриваются только однородно-слоистые модели сред без выклинивания;\n",
    "2. При построении лучей решается двухточечная задача.\n",
    "\n",
    "Кроме них есть и другие, более локальные предположения. Они будут проявляться по мере продвижения по основным модулям SeisLab.\n",
    "\n",
    "В этом руководстве будет приведена инструкция для как можно более быстрого начала работы с программой. Детальное описание работы всего-всего-всего здесь не даётся."
   ]
  },
  {
   "cell_type": "markdown",
   "metadata": {},
   "source": [
    "## Основные модули"
   ]
  },
  {
   "cell_type": "code",
   "execution_count": 1,
   "metadata": {
    "collapsed": true
   },
   "outputs": [],
   "source": [
    "# Импортируем библиотеки. Я не понимаю, почему, но \"сковзной\" импорт не работает.\n",
    "import numpy as np\n",
    "import matplotlib.pyplot as plt\n",
    "from mpl_toolkits.mplot3d import Axes3D\n",
    "# Импортируем главные компоненты для лучевого моделирования\n",
    "import sys\n",
    "sys.path.insert(0, \"C:/Users/USER/seislab\") # Не нашёл другого решения, чтобы импортировать модули из внешней директории.\n",
    "# ПРИ ЗАПУСКЕ НА ДРУГОМ ПК НЕОБХОДИМО ИСПРАВИТЬ ПУТЬ В ДИРЕКТОРИЮ!!!\n",
    "\n",
    "from src.tprt import FlatHorizon,\\\n",
    "GridHorizon,\\\n",
    "ISOVelocity,\\\n",
    "Layer,\\\n",
    "Velocity_model,\\\n",
    "DilatCenter,\\\n",
    "RotatCenter,\\\n",
    "Receiver,\\\n",
    "Ray"
   ]
  },
  {
   "cell_type": "markdown",
   "metadata": {},
   "source": [
    "Выше были импортированы наиболее значимые классы, фигурирующие в проекте. Некоторые из них являются дочерними к более общим сущностям. Так, классы FlatHorizon и GridHorizon наследуют методы класса Horizon. \n",
    "\n",
    "Названия классов более или менее соответсвуют физическим сущностям, которые эти классы описывают:\n",
    "\n",
    "- FlatHorizon - класс, описывающий плоские геологические границы;\n",
    "- GridHorizon - класс, описывающий криволинейные границы, заданные на сетке;\n",
    "- ISOVelocity - класс, созданные для взаимодействия с изотропными скоростными моделями. По сути, объекты этого класса являются парами [Vp, Vs] с возможностью удобного (с точки зрения сейсмика) вызова любого из элементов;\n",
    "- Layer - класс, описывающий геологические слои;\n",
    "- Velocity_model - класс, описывающий скоростные (и плотностные, на самом деле) модели среды;\n",
    "- DilatCenter - класс, описывающий источники типа центра расширения;\n",
    "- RotatCenter - класс, описывающий источники типа центра вращения;\n",
    "- Receiver - класс, описывающий приёмники;\n",
    "- Ray - класс, описывающий лучи.\n",
    "\n",
    "Ниже под \"моделями\", \"слоями\" или \"горизонтами\" будут иметься ввиду объекты соответствующих классов.\n",
    "<hr>"
   ]
  },
  {
   "cell_type": "markdown",
   "metadata": {
    "collapsed": true
   },
   "source": [
    "## Создание модели*\n",
    "### * На примере трёхслойной модели с одной плоской и одной криволинейной границами со следующими свойствами слоёв:\n",
    "* Vp_1 = 2000 м/с, Vs_1 = 1000 м/с, Dens_1 = 2300 кг/м**3\n",
    "* Vp_2 = 2500 м/с, Vs_2 = 1250 м/с, Dens_2 = 2400 кг/м**3\n",
    "* Vp_3 = 3000 м/с, Vs_3 = 1500 м/с, Dens_3 = 2500 кг/м**3"
   ]
  },
  {
   "cell_type": "markdown",
   "metadata": {},
   "source": [
    "В конструктор класса моделей передаются массивы скоростей, плотностей и горизонтов, из которых затем автоматически собирается слоистая модель. **Важно отметить, что свободная поверхность не моделируется, т.е. модель простирается на бесконечность \"вверх\" и \"вниз\".** Скорости и плотности создаются тривиально:"
   ]
  },
  {
   "cell_type": "code",
   "execution_count": 2,
   "metadata": {
    "collapsed": true
   },
   "outputs": [],
   "source": [
    "# Скорости волн в слое задаются объектами класса ISOVelocity, в конструктор которого подаются пары Vp, Vs.\n",
    "# Желательно задавать скорости в м/с.\n",
    "vel_1 = ISOVelocity(vp=2000, vs=1000)\n",
    "vel_2 = ISOVelocity(vp=2500, vs=1250)\n",
    "vel_3 = ISOVelocity(vp=3000, vs=1500)"
   ]
  },
  {
   "cell_type": "code",
   "execution_count": 3,
   "metadata": {
    "collapsed": true
   },
   "outputs": [],
   "source": [
    "# Плотности задаются напрямую - просто числами. Желательно задавать плостности в кг/м**3:\n",
    "dens_1 = 2300\n",
    "dens_2 = 2400\n",
    "dens_3 = 2500"
   ]
  },
  {
   "cell_type": "markdown",
   "metadata": {},
   "source": [
    "Создание горизонтов - более сложный процесс. Во-первых, есть два класса для горизонтов, и для создания каждого из них требуются разные данные. Во-вторых, **пользователь гарантирует, что задаваемые им горизонты не пересекаются в моделируемом участке среды и несёт личную ответственность за достоверность предоставленных сведений**.\n",
    "\n",
    "В нашей трёхслойной всего две границы. Пусть одна из них (верхняя) будет <i>плоским горизонтом</i>."
   ]
  },
  {
   "cell_type": "markdown",
   "metadata": {},
   "source": [
    "Плоские горизонты задаются через глубину точки, лежащей на таком горизонте, её координаты на плоскости, угол и азимут падения горизонта, а также через дополнительный параметр - область задания горизонта:"
   ]
  },
  {
   "cell_type": "code",
   "execution_count": 4,
   "metadata": {
    "collapsed": true
   },
   "outputs": [],
   "source": [
    "hor_1 = FlatHorizon(depth=200,\n",
    "                    anchor=np.array([0, 0]),\n",
    "                    dip = 10, # угола падения В ГРАДУСАХ\n",
    "                    azimuth=0, # азимут падения в ГРАДУСАХ\n",
    "                    region = np.array([[- 1000, - 1000],\n",
    "                                       [1000, 1000]]))"
   ]
  },
  {
   "cell_type": "markdown",
   "metadata": {},
   "source": [
    "Стоит сказать несколько слов про последний аргумент в конструкторе. <i>Регион</i> является прямоугольной областью на плоскости, задаваемой в виде [[x_min, y_min], [x_max, y_max]], т.е. в виде массива, в котором явно задаются координаты противолежащих углов прямоугольника. **На данный момент это поле используется только при определении ганиц отрисовки горизонтов**."
   ]
  },
  {
   "cell_type": "markdown",
   "metadata": {},
   "source": [
    "Вторая граница будет <i>криволинейной</i>. Криволинейные границы в SeisLab задаются дискретно, на регулярной прямоугольной сетке. Для создания границы необходимы:\n",
    "* Массив x_set = [x_0, x_1, ..., x_M]\n",
    "* Массив y_set = [y_0, y_1, ..., y_N]\n",
    "* Массив z_set = [[z_00, z_01, ..., z_0N], [z_10, z_11, ..., z_1N], ... , [z_M0, z_M1, ..., zMN]]\n",
    "\n",
    "Пусть наша граница будет задана на сетке x_set = [- 1000, - 998, ..., 998, 1000], y_set = [- 1000, - 998, ..., 998, 1000]. В качестве функции границы возьмём медленно осциллирующий синус: z = 700 + 100 * sin(2 * pi * (x / 4000 + y / 4000))."
   ]
  },
  {
   "cell_type": "code",
   "execution_count": 5,
   "metadata": {
    "collapsed": true
   },
   "outputs": [],
   "source": [
    "x_set = np.linspace(- 1000, 1000, 1001)\n",
    "y_set = np.linspace(- 1000, 1000, 1001)\n",
    "\n",
    "yy_set, xx_set = np.meshgrid(y_set, x_set)\n",
    "\n",
    "z_set = 700 + 100 * np.sin(2 * np.pi * (xx_set + yy_set) / 4000)"
   ]
  },
  {
   "cell_type": "markdown",
   "metadata": {},
   "source": [
    "Для создания криволинейной границы необходимо в конструктор подать все три массива - x_set, y_set и z_set. Опциональным агументом, повышающим устойчивость интерполяции к выбивающимся точкам, но понижающим общую точность интерполяции, подаётся булевская величина - True или False. Для целей этого руководства мы приравняем её False (т.е. этот триггер отключен):"
   ]
  },
  {
   "cell_type": "code",
   "execution_count": 6,
   "metadata": {
    "collapsed": true
   },
   "outputs": [],
   "source": [
    "hor_2 = GridHorizon(x_set=x_set,\n",
    "                    y_set=y_set,\n",
    "                    z_set=z_set,\n",
    "                    bool_parab=False)"
   ]
  },
  {
   "cell_type": "markdown",
   "metadata": {},
   "source": [
    "**Внутри конструктора вычисляются полиномиальные коэффициенты бикубической интерполяции**, что в имеющейся на данный момент имплементации является очень долгой процедурой (более пяти минут на компьютере с частотой процессора 1.8 ГГц, а сетка была не самой большой (процессор тоже далеко не мощный, но мысль, я надеюсь, понятна)). Поэтому есть возможность подать ещё одним аргументом уже готовый массив полиномиальных коэффициентов, если он был насчитан заранее. Это удобно, если одну и ту же границу нуно будет использовать во многих сериях вычислений.\n",
    "\n",
    "Надо отметить, что <i>регион</i> в случае криволинейных границ явно не задаётся. Его границы определяются по входным массивам x_set и y_set.\n",
    "<hr>\n",
    "В конструктор модели последовательно передаются:\n",
    "* массив скоростей;\n",
    "* массив плотностей;\n",
    "* массив номеров (если честно, не вполне знаю, зачем);\n",
    "* массив границ"
   ]
  },
  {
   "cell_type": "code",
   "execution_count": 7,
   "metadata": {
    "collapsed": true
   },
   "outputs": [],
   "source": [
    "model = Velocity_model(np.array([vel_1, vel_2, vel_3]),\n",
    "                       np.array([dens_1, dens_2, dens_3]),\n",
    "                       np.array([1, 2, 3]),                      \n",
    "                       [hor_1, hor_2])"
   ]
  },
  {
   "cell_type": "markdown",
   "metadata": {},
   "source": [
    "<hr>"
   ]
  },
  {
   "cell_type": "markdown",
   "metadata": {},
   "source": [
    "## Взаимодействие с моделью и её элементами"
   ]
  },
  {
   "cell_type": "markdown",
   "metadata": {},
   "source": [
    "Модель состоит из слоёв, каждый из которых характеризуется номером, скоростями распространения волн, плотностью и двумя перекрывающими горизонтами (выше было отмечено, что первый номер в модели простирается на бесконечность \"вверх\", что реализуется в виде плоского горизонта на бесконечности)."
   ]
  },
  {
   "cell_type": "code",
   "execution_count": 8,
   "metadata": {},
   "outputs": [
    {
     "name": "stdout",
     "output_type": "stream",
     "text": [
      "Имя первого горизонта: 1\n",
      "Скорость P-волн в первом слое равна 2000 м/с\n",
      "Скорость S-волн в первом слое равна 1000 м/с\n",
      "Плотность пород в первом слое равна 2300 кг/м**3\n"
     ]
    }
   ],
   "source": [
    "layers = model.layers\n",
    "\n",
    "print(\"Имя первого горизонта:\", layers[0].name)\n",
    "print(\"Скорость P-волн в первом слое равна\", layers[0].get_velocity(0)[\"vp\"], \"м/с\")\n",
    "print(\"Скорость S-волн в первом слое равна\", layers[0].get_velocity(0)[\"vs\"], \"м/с\")\n",
    "print(\"Плотность пород в первом слое равна\", layers[0].get_density(), \"кг/м**3\")"
   ]
  },
  {
   "cell_type": "markdown",
   "metadata": {},
   "source": [
    "В предыдущей ячейке продемонстрирован вызов скоростей волн в слое. Метод layer.get_velocity(<i>something</i>) принимает в качестве аргумента любое число (на самом деле, <i>пока что</i> можно вместо числа подать список или строку). Это число сейчас ни на что не влияет, но в дальнейшем планируется его использование для нахождения скорости в заданном направлении для анизотропной среды.\n",
    "\n",
    "Приписка [\"vp\"] или [\"vs\"] после вызова метода необходима, чтобы получить конкретную скорость. Без неё метод возвращает словарь из двух элементов:"
   ]
  },
  {
   "cell_type": "code",
   "execution_count": 9,
   "metadata": {},
   "outputs": [
    {
     "data": {
      "text/plain": [
       "{'vp': 2000, 'vs': 1000}"
      ]
     },
     "execution_count": 9,
     "metadata": {},
     "output_type": "execute_result"
    }
   ],
   "source": [
    "layers[0].get_velocity(0)"
   ]
  },
  {
   "cell_type": "markdown",
   "metadata": {},
   "source": [
    "Вызов плостности не нуждается в дополнительных комментариях.\n",
    "<hr>\n",
    "Для вызова горизонтов, ограничивающих данный слой, используются отдельные методы класса Layer. Определённые выше hor_1 и hor_2 ограничивают сверху и снизу второй слой. Вызовем эти горизонты через него:"
   ]
  },
  {
   "cell_type": "code",
   "execution_count": 10,
   "metadata": {
    "collapsed": true
   },
   "outputs": [],
   "source": [
    "top_hor = layers[1].top\n",
    "bottom_hor = layers[1].bottom"
   ]
  },
  {
   "cell_type": "markdown",
   "metadata": {},
   "source": [
    "**Все горизонты в SeisLab должны являться дважды гладкими функциями вида z = z(x, y)**. В частности, бикубическая интерполяция строится именно из условия непрерывности второй производной.\n",
    "\n",
    "У таких горизонтов в любой их точке определены:\n",
    "* Глубина;\n",
    "* Градиент;\n",
    "* Нормаль;\n",
    "* Вторые производные (=> кривизны).\n",
    "\n",
    "Первые три величины могут быть получены следуюшим образом:"
   ]
  },
  {
   "cell_type": "code",
   "execution_count": 11,
   "metadata": {},
   "outputs": [
    {
     "name": "stdout",
     "output_type": "stream",
     "text": [
      "Глубина верхнего горизонта в точке с координатами x = 0, y - 0: 200.0 м\n",
      "Градиент функции верхнего горизонта в точке с координатами x = 0, y - 0: [ 0.17632698  0.        ]\n",
      "Нормаль к верхнему горизонту в точке с координатами x = 0, y - 0: [-0.17364818 -0.          0.98480775]\n"
     ]
    }
   ],
   "source": [
    "print(\"Глубина верхнего горизонта в точке с координатами x = 0, y - 0:\", top_hor.get_depth(np.array([0, 0])), \"м\")\n",
    "print(\"Градиент функции верхнего горизонта в точке с координатами x = 0, y - 0:\",\n",
    "      top_hor.get_gradient(np.array([0, 0])))\n",
    "print(\"Нормаль к верхнему горизонту в точке с координатами x = 0, y - 0:\",\n",
    "      top_hor.get_normal(np.array([0, 0])))"
   ]
  },
  {
   "cell_type": "markdown",
   "metadata": {},
   "source": [
    "**Нормаль к границе строится таким образом, что её компонента по z положительна**.\n",
    "\n",
    "Вторые производные примечательны тем, что в теории лучевого метода они должны вычисляться, как правило, не в глобальной системе координат. На поверхность в некоторой точке падает луч, характеризующийся своим <i>направлением</i>. В точке падения строится локальная система координат, базисные векторы которой связаны с этим направлением и с нормалью к границе. Для вычисления лучевой амплитуды необходимо знать вторые производные функции поверхности в новой системе координат и матрицу перехода к этой системе.\n",
    "\n",
    "Поэтому метод класса Horizon, находящий вторые производные и матрицу перехода, называется get_local_properties, и ему на вход передаются x- и y-координаты точки падения, а также вектор направления падающего луча:"
   ]
  },
  {
   "cell_type": "code",
   "execution_count": 12,
   "metadata": {
    "collapsed": true
   },
   "outputs": [],
   "source": [
    "# пусть вертикальный луч падает на нижний горизонт в точке с координатами x = 0, y = 0:\n",
    "inc_vec = np.array([0, 0, 1])\n",
    "\n",
    "z_11, z_12, z_22, tr_matr = bottom_hor.get_local_properties(np.array([0, 0]), inc_vec)"
   ]
  },
  {
   "cell_type": "code",
   "execution_count": 13,
   "metadata": {},
   "outputs": [
    {
     "name": "stdout",
     "output_type": "stream",
     "text": [
      "Матрица вторых производных поверхности в локальной системе координат:\n",
      " [[  9.15107624e-15   1.52000053e-27]\n",
      " [  1.52000053e-27  -9.60266376e-15]]\n"
     ]
    }
   ],
   "source": [
    "print(\"Матрица вторых производных поверхности в локальной системе координат:\\n\",\n",
    "      np.array([[z_11, z_12], [z_12, z_22]]))"
   ]
  },
  {
   "cell_type": "code",
   "execution_count": 14,
   "metadata": {},
   "outputs": [
    {
     "name": "stdout",
     "output_type": "stream",
     "text": [
      "Матрица перехода в локальную систему координат:\n",
      " [[  6.90279901e-01  -7.07106781e-01  -1.53341640e-01]\n",
      " [  6.90279901e-01   7.07106781e-01  -1.53341640e-01]\n",
      " [  2.16857827e-01  -4.16333634e-17   9.76203198e-01]]\n",
      "Нормаль к нижней границе в точке падения [-0.15334164 -0.15334164  0.9762032 ]\n"
     ]
    }
   ],
   "source": [
    "print(\"Матрица перехода в локальную систему координат:\\n\", tr_matr)\n",
    "print(\"Нормаль к нижней границе в точке падения\", bottom_hor.get_normal(np.array([0, 0])))"
   ]
  },
  {
   "cell_type": "markdown",
   "metadata": {},
   "source": [
    "Заметьте, что третий столбец в матрице перехода в данном случае совпадает с нормалью к границе. Однако, в общем случае совпадения нет: локальная система координат строится с тем, чтобы ось z' в ней была направлена в ту же среду, куда и падающий луч, поэтому третий орт может как совпадать с нормалью, так и быть протвонаправлен ей.\n",
    "<hr>"
   ]
  },
  {
   "cell_type": "markdown",
   "metadata": {},
   "source": [
    "## Создание источников, приёмников и лучей*\n",
    "### * На примере волны, отражённой от второй границы в заданной модели"
   ]
  },
  {
   "cell_type": "markdown",
   "metadata": {},
   "source": [
    "В SeisLab на данный момент реализовано два типа точечных источников сейсмических волн - центр расширения (идеальный источник P-волн) и центр вращения (идеальный источник S-волн). Оба источника излучают в среду импульс Рикера с некоторой главной частотой.\n",
    "\n",
    "Для создания источника необходимы:\n",
    "* Главная частота импульса Рикера;\n",
    "* Модель, в которую источник помещается;\n",
    "* Координаты источника\n",
    "* (только для центра вращения) ось вращения.\n",
    "\n",
    "Создадим источник типа центра расширения, расположенный на поверхности z = 0 в точке с координатами x = - 500, y = 0 (т.е. в первом слое). В качестве главной частоты возьмём 25 Гц:"
   ]
  },
  {
   "cell_type": "code",
   "execution_count": 15,
   "metadata": {
    "collapsed": true
   },
   "outputs": [],
   "source": [
    "source_freq = 25\n",
    "source_location = np.array([- 500, 0, 0])"
   ]
  },
  {
   "cell_type": "code",
   "execution_count": 16,
   "metadata": {
    "collapsed": true
   },
   "outputs": [],
   "source": [
    "source = DilatCenter(source_freq, model, source_location)"
   ]
  },
  {
   "cell_type": "markdown",
   "metadata": {},
   "source": [
    "Приёмники характеризуются местоположением и ориентацией. Последнюю можно не задавать явно - по умолчанию оси чувствительности приёмника будут совпадать с осями глобальной системы координат.\n",
    "\n",
    "Зададим поверхностную приёмную линию длиной в 500 м и с шагом 25 м:"
   ]
  },
  {
   "cell_type": "code",
   "execution_count": 17,
   "metadata": {
    "collapsed": true
   },
   "outputs": [],
   "source": [
    "rec_coordinates = np.arange(0, 525, 25)\n",
    "\n",
    "receivers = np.empty(rec_coordinates.shape[0], dtype = Receiver)\n",
    "\n",
    "for i in range(rec_coordinates.shape[0]):\n",
    "    \n",
    "    receivers[i] = Receiver([rec_coordinates[i], 0, 0], orientation = np.array([[1, 0, 0],\n",
    "                                                                                [0, - 1, 0],\n",
    "                                                                                [0, 0, - 1]]))"
   ]
  },
  {
   "cell_type": "markdown",
   "metadata": {},
   "source": [
    "**Ориентация приёмников была выставлена так, чтобы их вертикальная ось чувствительности \"смотрела\" вверх. По умолчанию она направлена вниз, сонаправлено с осью глубин**.\n",
    "\n",
    "Для построения лучей необходимо задаться так называемым <i>лучевым кодом</i>. Лучевой код - это массив элементов вида:\n",
    "\n",
    "[<\"вверх\" или \"вниз\">, <номер слоя>, <тип волны>]\n",
    "\n",
    "* \"вверх\" или \"вниз\" - число, 1 или - 1. Задаёт направление движения по модели;\n",
    "* номер слоя - номер слоя, в котором распространется волна (нумерация слоёв - с нуля);\n",
    "* тип волны - число, указывающее на тип волны. 0 - P-волна, 1 - S-волна;\n",
    "\n",
    "Такой подход базируется на форме лучей в доступных для SeisLab моделях среды. В однородно-слоистых средах лучи являются ломаными кривыми, и лучевой код, по сути, задаёт последовательность сегментов этой ломаной.\n",
    "\n",
    "Мы будем моделировать P-волны, отражённые от второй границы:"
   ]
  },
  {
   "cell_type": "code",
   "execution_count": 18,
   "metadata": {
    "collapsed": true
   },
   "outputs": [],
   "source": [
    "raycode = [[1, 0, 0],\n",
    "           [1, 1, 0],\n",
    "           [- 1, 1, 0],\n",
    "           [- 1, 0, 0]]"
   ]
  },
  {
   "cell_type": "markdown",
   "metadata": {},
   "source": [
    "**В SeisLab нет автоматической проверки лучевого кода на корректность для данной модели. Пользователь несёт личную ответственность за осмысленность подаваемой программе последовательности**.\n",
    "\n",
    "Для создания лучей в конструктор необходимо подать:\n",
    "* Источник;\n",
    "* Приёмник;\n",
    "* Модель;\n",
    "* Лучевой код.\n",
    "\n",
    "Создадим лучи, идущие из источника в каждый из приёмников:"
   ]
  },
  {
   "cell_type": "code",
   "execution_count": 19,
   "metadata": {
    "collapsed": true
   },
   "outputs": [],
   "source": [
    "rays = np.empty(receivers.shape[0], dtype = Ray)\n",
    "\n",
    "for i in range(rays.shape[0]):\n",
    "    \n",
    "    rays[i] = Ray(source, receivers[i], model, raycode)"
   ]
  },
  {
   "cell_type": "markdown",
   "metadata": {},
   "source": [
    "**Созданные только что лучи не являются лучами в строгом понимании этого слова. Их траектория случайна (узлы ломаной находятся на правильных границах, но траектория ломаной не является оптимальной с точки зрения времён пробега), а амплитуды выставлены единичными**. Необходимо оптимизировать полученные лучи, а затем посчитать правильную амплитуду вдоль них:"
   ]
  },
  {
   "cell_type": "code",
   "execution_count": 20,
   "metadata": {},
   "outputs": [],
   "source": [
    "for i in range(rays.shape[0]):\n",
    "    \n",
    "    rays[i].optimize()\n",
    "    rays[i].ray_amplitude = rays[i].compute_ray_amplitude()[0]"
   ]
  },
  {
   "cell_type": "markdown",
   "metadata": {},
   "source": [
    "Для расчёта времени пробега волны и определения амплитуды на данной трассе в некоторый момент времени используются отдельные методы:"
   ]
  },
  {
   "cell_type": "code",
   "execution_count": 21,
   "metadata": {
    "collapsed": true
   },
   "outputs": [],
   "source": [
    "traveltime_curve = np.zeros(rays.shape[0]) # массив для годографа\n",
    "\n",
    "record_time = np.linspace(0, 2, 2001) # дискретизованное время записи\n",
    "\n",
    "seismogram_x = np.zeros((rays.shape[0], record_time.shape[0]), dtype=complex) # массив для сейсмограмм (x-компонента)\n",
    "seismogram_y = np.zeros((rays.shape[0], record_time.shape[0]), dtype=complex) # массив для сейсмограмм (y-компонента)\n",
    "seismogram_z = np.zeros((rays.shape[0], record_time.shape[0]), dtype=complex) # массив для сейсмограмм (z-компонента)"
   ]
  },
  {
   "cell_type": "code",
   "execution_count": 22,
   "metadata": {
    "collapsed": true
   },
   "outputs": [],
   "source": [
    "for i in range(rays.shape[0]):\n",
    "    \n",
    "    traveltime_curve[i] = rays[i].travel_time() # считаем время первых вступлений\n",
    "    \n",
    "    for j in range(record_time.shape[0]):\n",
    "        \n",
    "        seismogram_x[i, j], seismogram_y[i, j], seismogram_z[i, j] = rays[i].get_recorded_amplitude(record_time[j])\n",
    "        # записываем амплитуду в приёмнике"
   ]
  },
  {
   "cell_type": "markdown",
   "metadata": {},
   "source": [
    "## Графическое представление данных"
   ]
  },
  {
   "cell_type": "markdown",
   "metadata": {
    "collapsed": true
   },
   "source": [
    "**В SeisLab нет функции / метода вроде plot_model**. Для отрисовки модели и лучей необходимо вызвать методы классов Horizon и Ray, по очереди для каждого объектна в отдельности."
   ]
  },
  {
   "cell_type": "code",
   "execution_count": 24,
   "metadata": {},
   "outputs": [
    {
     "data": {
      "text/plain": [
       "<matplotlib.figure.Figure at 0x201f7c06d8>"
      ]
     },
     "metadata": {},
     "output_type": "display_data"
    },
    {
     "data": {
      "image/png": "[encoded data removed]",
      "text/plain": [
       "<matplotlib.figure.Figure at 0x2022113e10>"
      ]
     },
     "metadata": {},
     "output_type": "display_data"
    }
   ],
   "source": [
    "fig1 = plt.figure()\n",
    "ax = Axes3D(fig1)\n",
    "ax.invert_zaxis()\n",
    "\n",
    "ax.view_init(0, - 90)\n",
    "\n",
    "for layer in model.layers[:-1]:\n",
    "    layer.bottom.plot(ax=ax)\n",
    "\n",
    "\n",
    "source.plot(ax=ax, color='r', marker='p', s=50)\n",
    "\n",
    "for i in range(rays.shape[0]):\n",
    "\n",
    "    receivers[i].plot(ax=ax, color='k', marker='^', s=50)\n",
    "\n",
    "    rays[i].plot(ax=ax)\n",
    "\n",
    "# Create cubic bounding box to simulate equal aspect ratio\n",
    "# max_range = np.array([horizons[-1].X.max()-horizons[-1].X.min(), horizons[-1].Y.max()-horizons[-1].Y.min(), horizons[-1].Z.max()-horizons[-1].Z.min()]).max()\n",
    "# Xb = 0.5*max_range*np.mgrid[-1:2:2,-1:2:2,-1:2:2][0].flatten() + 0.5*(horizons[-1].X.max()+horizons[-1].X.min())\n",
    "# Yb = 0.5*max_range*np.mgrid[-1:2:2,-1:2:2,-1:2:2][1].flatten() + 0.5*(horizons[-1].Y.max()+horizons[-1].Y.min())\n",
    "# Zb = 0.5*max_range*np.mgrid[-1:2:2,-1:2:2,-1:2:2][2].flatten() + 0.5*(horizons[-1].Z.max()+horizons[-1].Z.min())\n",
    "# # Comment or uncomment following both lines to test the fake bounding box:\n",
    "# for xb, yb, zb in zip(Xb, Yb, Zb):\n",
    "#     ax.plot([xb], [yb], [zb], 'w')\n",
    "\n",
    "ax.set_xlabel(\"Расстояние по оси x, м\")\n",
    "# ax.set_ylabel(\"Расстояние по оси y, м\",)\n",
    "ax.set_zlabel(\"Глубина, м\")\n",
    "\n",
    "plt.show()"
   ]
  },
  {
   "cell_type": "markdown",
   "metadata": {},
   "source": [
    "Аналогично, **нет спецального метода для отрисовки сейсмограмм** - приходится сочинять что-то вроде этого:"
   ]
  },
  {
   "cell_type": "code",
   "execution_count": 25,
   "metadata": {},
   "outputs": [
    {
     "name": "stderr",
     "output_type": "stream",
     "text": [
      "C:\\Users\\USER\\Anaconda3\\lib\\site-packages\\matplotlib\\axes\\_axes.py:4846: ComplexWarning: Casting complex values to real discards the imaginary part\n",
      "  X[1:N + 1, 1] = y1slice\n",
      "C:\\Users\\USER\\Anaconda3\\lib\\site-packages\\numpy\\core\\numeric.py:531: ComplexWarning: Casting complex values to real discards the imaginary part\n",
      "  return array(a, dtype, copy=False, order=order)\n"
     ]
    },
    {
     "data": {
      "image/png": "[encoded data removed]",
      "text/plain": [
       "<matplotlib.figure.Figure at 0x2024837e80>"
      ]
     },
     "metadata": {},
     "output_type": "display_data"
    }
   ],
   "source": [
    "fig2 = plt.figure()\n",
    "\n",
    "plt.title(\"Сейсмограмма (Z-компонента)\")\n",
    "plt.gca().invert_yaxis()\n",
    "\n",
    "plt.yticks(np.arange(0, rays.shape[0], 1), np.round(rec_coordinates),\n",
    "           fontsize = - 5 / 16 * rays.shape[0] + 11 + 21 * 5 / 16)\n",
    "\n",
    "for i in range(rays.shape[0]):\n",
    "\n",
    "    plt.fill_between(record_time, seismogram_z[i, :] / np.max(abs(seismogram_z)) / 1.5 + i,\n",
    "                     np.ones(record_time.shape) * i,\n",
    "                     linewidth = 0.3, color = 'b', alpha = 0.5)\n",
    "\n",
    "\n",
    "plt.ylabel(\"Координаты вдоль профиля, м\")\n",
    "plt.xlabel(\"Время, с\")\n",
    "\n",
    "plt.show()"
   ]
  },
  {
   "cell_type": "markdown",
   "metadata": {},
   "source": [
    "Питон выдаёт предупреждение о потере мнимой части сейсмограмм - и это тоже проблема, с которой пока что надо мириться."
   ]
  }
 ],
 "metadata": {
  "kernelspec": {
   "display_name": "Python 3",
   "language": "python",
   "name": "python3"
  },
  "language_info": {
   "codemirror_mode": {
    "name": "ipython",
    "version": 3
   },
   "file_extension": ".py",
   "mimetype": "text/x-python",
   "name": "python",
   "nbconvert_exporter": "python",
   "pygments_lexer": "ipython3",
   "version": "3.6.2"
  }
 },
 "nbformat": 4,
 "nbformat_minor": 2
}
