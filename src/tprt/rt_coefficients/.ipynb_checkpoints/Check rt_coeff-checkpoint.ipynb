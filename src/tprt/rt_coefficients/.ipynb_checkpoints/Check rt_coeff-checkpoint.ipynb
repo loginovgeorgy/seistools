{
 "cells": [
  {
   "cell_type": "code",
   "execution_count": 1,
   "metadata": {
    "collapsed": true
   },
   "outputs": [],
   "source": [
    "import numpy as np\n",
    "import matplotlib.pyplot as plt"
   ]
  },
  {
   "cell_type": "code",
   "execution_count": 2,
   "metadata": {},
   "outputs": [
    {
     "ename": "ImportError",
     "evalue": "attempted relative import with no known parent package",
     "output_type": "error",
     "traceback": [
      "\u001b[1;31m---------------------------------------------------------------------------\u001b[0m",
      "\u001b[1;31mImportError\u001b[0m                               Traceback (most recent call last)",
      "\u001b[1;32m<ipython-input-2-18b93a010bcb>\u001b[0m in \u001b[0;36m<module>\u001b[1;34m()\u001b[0m\n\u001b[1;32m----> 1\u001b[1;33m \u001b[1;32mfrom\u001b[0m \u001b[0mrt_coefficients\u001b[0m \u001b[1;32mimport\u001b[0m \u001b[0mrt_coefficients\u001b[0m\u001b[1;33m\u001b[0m\u001b[0m\n\u001b[0m",
      "\u001b[1;32m~\\seislab\\src\\tprt\\rt_coefficients\\rt_coefficients.py\u001b[0m in \u001b[0;36m<module>\u001b[1;34m()\u001b[0m\n\u001b[0;32m      2\u001b[0m \u001b[1;32mimport\u001b[0m \u001b[0mcmath\u001b[0m \u001b[1;32mas\u001b[0m \u001b[0mcm\u001b[0m\u001b[1;33m\u001b[0m\u001b[0m\n\u001b[0;32m      3\u001b[0m \u001b[1;33m\u001b[0m\u001b[0m\n\u001b[1;32m----> 4\u001b[1;33m \u001b[1;32mfrom\u001b[0m \u001b[1;33m.\u001b[0m\u001b[0mc_ij_matrix\u001b[0m \u001b[1;32mimport\u001b[0m \u001b[0miso_c_ij\u001b[0m\u001b[1;33m,\u001b[0m \u001b[0mvoigt_notation\u001b[0m\u001b[1;33m,\u001b[0m \u001b[0mc_ijkl_from_c_ij\u001b[0m\u001b[1;33m\u001b[0m\u001b[0m\n\u001b[0m\u001b[0;32m      5\u001b[0m \u001b[1;32mfrom\u001b[0m \u001b[1;33m.\u001b[0m\u001b[0mpolarizations\u001b[0m \u001b[1;32mimport\u001b[0m \u001b[0mchristoffel\u001b[0m\u001b[1;33m,\u001b[0m \u001b[0mpolarizations\u001b[0m\u001b[1;33m\u001b[0m\u001b[0m\n\u001b[0;32m      6\u001b[0m \u001b[1;33m\u001b[0m\u001b[0m\n",
      "\u001b[1;31mImportError\u001b[0m: attempted relative import with no known parent package"
     ]
    }
   ],
   "source": [
    "from rt_coefficients import rt_coefficients"
   ]
  },
  {
   "cell_type": "code",
   "execution_count": 1,
   "metadata": {
    "collapsed": true
   },
   "outputs": [],
   "source": [
    "import rt_coefficients.polarizations"
   ]
  },
  {
   "cell_type": "code",
   "execution_count": null,
   "metadata": {
    "collapsed": true
   },
   "outputs": [],
   "source": [
    "vp1 = 2000\n",
    "vs1 = 1000\n",
    "rho1 = 2500\n",
    "\n",
    "vp2 = 2500\n",
    "vs2 = 1250\n",
    "rho2 = 2500"
   ]
  },
  {
   "cell_type": "code",
   "execution_count": null,
   "metadata": {
    "collapsed": true
   },
   "outputs": [],
   "source": [
    "cij = rt_coefficients.iso_c_ij([vp1,vs1],rho1)"
   ]
  },
  {
   "cell_type": "code",
   "execution_count": null,
   "metadata": {
    "collapsed": true
   },
   "outputs": [],
   "source": [
    "angles = np.linspace(0, np.pi / 2, 91)"
   ]
  },
  {
   "cell_type": "code",
   "execution_count": null,
   "metadata": {
    "collapsed": true
   },
   "outputs": [],
   "source": [
    "inc_vecs = np.array([np.sin(angles), np.zeros(angles.shape), np.cos(angles)]).T / vp1\n",
    "\n",
    "loc_sys = np.eye(3)"
   ]
  },
  {
   "cell_type": "code",
   "execution_count": null,
   "metadata": {
    "collapsed": true
   },
   "outputs": [],
   "source": [
    "coeff = np.zeros(angles.shape, dtype=complex)"
   ]
  },
  {
   "cell_type": "code",
   "execution_count": null,
   "metadata": {
    "collapsed": true
   },
   "outputs": [],
   "source": [
    "for i in range(coeff.shape[0]):\n",
    "    \n",
    "    coeff[i] = rt_coefficients.rt_coefficients(inc_slowness=inc_vecs[i],\n",
    "                                               inc_polariz=inc_vecs[i], \n",
    "                                               rt_signum=-1, \n",
    "                                               loc_sys=loc_sys,\n",
    "                                               vp1=vp1,\n",
    "                                               vs1=vs1,\n",
    "                                               rho1=rho1,\n",
    "                                               vp2=vp2,\n",
    "                                               vs2=vs2,\n",
    "                                               rho2=rho2)[0]"
   ]
  },
  {
   "cell_type": "code",
   "execution_count": null,
   "metadata": {
    "collapsed": true
   },
   "outputs": [],
   "source": [
    "plt.plot(angles, np.imag(coeff))\n",
    "plt.show()"
   ]
  }
 ],
 "metadata": {
  "kernelspec": {
   "display_name": "Python 3",
   "language": "python",
   "name": "python3"
  },
  "language_info": {
   "codemirror_mode": {
    "name": "ipython",
    "version": 3
   },
   "file_extension": ".py",
   "mimetype": "text/x-python",
   "name": "python",
   "nbconvert_exporter": "python",
   "pygments_lexer": "ipython3",
   "version": "3.6.2"
  }
 },
 "nbformat": 4,
 "nbformat_minor": 2
}
