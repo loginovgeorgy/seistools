{
 "cells": [
  {
   "cell_type": "code",
   "execution_count": 1,
   "metadata": {
    "collapsed": true
   },
   "outputs": [],
   "source": [
    "import numpy as np\n",
    "import cmath as cm\n",
    "import matplotlib.pyplot as plt"
   ]
  },
  {
   "cell_type": "code",
   "execution_count": 2,
   "metadata": {
    "collapsed": true
   },
   "outputs": [],
   "source": [
    "import rt_coefficients"
   ]
  },
  {
   "cell_type": "code",
   "execution_count": 3,
   "metadata": {
    "collapsed": true
   },
   "outputs": [],
   "source": [
    "def Reflection_And_Transmission_Coefficients_By_Aki_Richards(σ1,σ2,Vp1,Vs1,Vp2,Vs2,Wave_Type,Angle_Deg):\n",
    "    \n",
    "#     для начала, нужно немного поколдовать над входными данными - перевести угол из градусов в радианы:\n",
    "    Angle_Rad = np.radians(Angle_Deg)\n",
    "    \n",
    "#     и определить скорость падающей волны по заданному типу:\n",
    "    if Wave_Type == 0:\n",
    "        V0 = Vp1\n",
    "    if Wave_Type == 1 or Wave_Type == 2:\n",
    "        V0 = Vs1\n",
    "    \n",
    "#     затем надо по закону Снеллиуса найти углы отражения и преломления\n",
    "    # отражённые волны\n",
    "    AngleReflP = cm.asin(cm.sin(Angle_Rad)*Vp1/V0)\n",
    "    AngleReflS = cm.asin(cm.sin(Angle_Rad)*Vs1/V0)\n",
    "    # преломлённые волны\n",
    "    AngleTransP = cm.asin(cm.sin(Angle_Rad)*Vp2/V0)\n",
    "    AngleTransS = cm.asin(cm.sin(Angle_Rad)*Vs2/V0)\n",
    "    \n",
    "#     в данном источнике используются следующие коэффициенты:\n",
    "\n",
    "    p = cm.sin(Angle_Rad)/V0 #это параметр луча\n",
    "\n",
    "    a = σ2*(1 - 2*(Vs2**2)*(p**2)) - σ1*(1 - 2*(Vs1**2)*(p**2))\n",
    "    b = σ2*(1 - 2*(Vs2**2)*(p**2)) + 2*σ1*(Vs1**2)*(p**2)\n",
    "    c = σ1*(1 - 2*(Vs1**2)*(p**2)) + 2*σ2*(Vs2**2)*(p**2)\n",
    "    d = 2*(σ2*(Vs2**2) - σ1*(Vs1**2))\n",
    "    \n",
    "    E = b*cm.cos(AngleReflP)/Vp1 + c*cm.cos(AngleTransP)/Vp2\n",
    "    F = b*cm.cos(AngleReflS)/Vs1 + c*cm.cos(AngleTransS)/Vs2\n",
    "    G = a - d*(cm.cos(AngleReflP)/Vp1)*(cm.cos(AngleTransS)/Vs2)\n",
    "    H = a - d*(cm.cos(AngleTransP)/Vp2)*(cm.cos(AngleReflS)/Vs1)\n",
    "    \n",
    "    D =  E*F + G*H*(p**2)\n",
    "    \n",
    "#     для падающей S2-волны - свой коэффициент:\n",
    "    Δ = σ1*Vs1*cm.cos(AngleReflS) + σ2*Vs2*cm.cos(AngleTransS)\n",
    "    \n",
    "#     далее вобьём формулы для коэффициентов:\n",
    "    if Wave_Type == 0:\n",
    "        # коэффициент отражения P-волны:\n",
    "        Rp = ((b*cm.cos(AngleReflP)/Vp1 - c*cm.cos(AngleTransP)/Vp2)*F -\\\n",
    "              (a + d*(cm.cos(AngleReflP)/Vp1)*(cm.cos(AngleTransS)/Vs2))*H*(p**2))/D\n",
    "        \n",
    "        # коэффициент отражения S1-волны:\n",
    "        Rs1 = -2*(cm.cos(AngleReflP)/Vp1)*\\\n",
    "        (a*b + c*d*(cm.cos(AngleTransP)/Vp2)*(cm.cos(AngleTransS)/Vs2))*p*Vp1/(Vs1*D)\n",
    "        \n",
    "        # коэффициент отражения S2-волны:\n",
    "        Rs2 = 0;\n",
    "        \n",
    "        # коэффициент прохождения P-волны:\n",
    "        Tp = 2*σ1*(cm.cos(AngleReflP)/Vp1)*F*Vp1/(Vp2*D)\n",
    "        \n",
    "        # коэффициент прохождения S1-волны:\n",
    "        Ts1 = 2*σ1*(cm.cos(AngleReflP)/Vp1)*H*p*Vp1/(Vs2*D)\n",
    "        \n",
    "        # коэффициент прохождения S2-волны:\n",
    "        Ts2 = 0\n",
    "        \n",
    "        return Rp,Rs1,Rs2,Tp,Ts1,Ts2\n",
    "        \n",
    "    if Wave_Type == 1:\n",
    "        # коэффициент отражения P-волны:\n",
    "        Rp = -2*(cm.cos(AngleReflS)/Vs1)*\\\n",
    "        (a*b + c*d*(cm.cos(AngleTransP)/Vp2)*(cm.cos(AngleTransS)/Vs2))*p*Vs1/(Vp1*D)\n",
    "        \n",
    "        # коэффициент отражения S1-волны:\n",
    "        Rs1 = -((b*cm.cos(AngleReflS)/Vs1 - c*cm.cos(AngleTransS)/Vs2)*E -\\\n",
    "                (a + d*(cm.cos(AngleTransP)/Vp2)*(cm.cos(AngleReflS)/Vs1))*G*(p**2))/D\n",
    "        \n",
    "        # коэффициент отражения S2-волны:\n",
    "        Rs2 = 0;\n",
    "        \n",
    "        # коэффициент прохождения P-волны:\n",
    "        Tp = -2*σ1*(cm.cos(AngleReflS)/Vs1)*G*p*Vs1/(Vp2*D)\n",
    "        \n",
    "        # коэффициент прохождения S1-волны:\n",
    "        Ts1 = 2*σ1*(cm.cos(AngleReflS)/Vs1)*E*Vs1/(Vs2*D)\n",
    "        \n",
    "        # коэффициент прохождения S2-волны:\n",
    "        Ts2 = 0\n",
    "        \n",
    "        return Rp,Rs1,Rs2,Tp,Ts1,Ts2\n",
    "    \n",
    "    if Wave_Type == 2:\n",
    "        # коэффициент отражения P-волны:\n",
    "        Rp = 0\n",
    "        \n",
    "        # коэффициент отражения S1-волны:\n",
    "        Rs1 = 0\n",
    "        \n",
    "        # коэффициент отражения S2-волны:\n",
    "        Rs2 = (σ1*Vs1*cm.cos(AngleReflS) - σ2*Vs2*cm.cos(AngleTransS))/Δ;\n",
    "        \n",
    "        # коэффициент прохождения P-волны:\n",
    "        Tp = 0\n",
    "        \n",
    "        # коэффициент прохождения S1-волны:\n",
    "        Ts1 = 0\n",
    "        \n",
    "        # коэффициент прохождения S2-волны:\n",
    "        Ts2 = 2*σ1*Vs1*cm.cos(AngleReflS)/Δ\n",
    "        \n",
    "        return Rp,Rs1,Rs2,Tp,Ts1,Ts2"
   ]
  },
  {
   "cell_type": "code",
   "execution_count": 4,
   "metadata": {
    "collapsed": true
   },
   "outputs": [],
   "source": [
    "def Reflection_And_Transmission_Coefficients_By_Geophysicist_Handbook(σ1,σ2,Vp1,Vs1,Vp2,Vs2,Wave_Type,Angle_Deg):\n",
    "    \n",
    "#     для начала, нужно немного поколдовать над входными данными - перевести угол из градусов в радианы:\n",
    "    Angle_Rad = np.radians(Angle_Deg)\n",
    "    \n",
    "#     и определить скорость падающей волны по заданному типу:\n",
    "    if Wave_Type == 0:\n",
    "        V0 = Vp1\n",
    "    if Wave_Type == 1 or Wave_Type == 2:\n",
    "        V0 = Vs1\n",
    "    \n",
    "#     затем надо по закону Снеллиуса найти углы отражения и преломления\n",
    "# отражённые волны\n",
    "    AngleReflP = cm.asin(cm.sin(Angle_Rad)*Vp1/V0)\n",
    "    AngleReflS = cm.asin(cm.sin(Angle_Rad)*Vs1/V0)\n",
    "    # преломлённые волны\n",
    "    AngleTransP = cm.asin(cm.sin(Angle_Rad)*Vp2/V0)\n",
    "    AngleTransS = cm.asin(cm.sin(Angle_Rad)*Vs2/V0)\n",
    "    \n",
    "#     в формлах Справочника фигурируют следующие коэффициенты:\n",
    "    γ1 = Vs1/Vp1\n",
    "    γ2 = Vs2/Vp2\n",
    "    \n",
    "    m = (σ2*Vp2)/(σ1*Vp1)\n",
    "    \n",
    "    D = (m**2)*γ2*cm.cos(AngleReflP - AngleReflS)*\\\n",
    "    ((cm.cos(2*AngleTransS))**2 + (γ2**2)*cm.sin(2*AngleTransS)*cm.sin(2*AngleTransP)) +\\\n",
    "    γ1*cm.cos(AngleTransP - AngleTransS)*\\\n",
    "    ((cm.cos(2*AngleReflS))**2 + (γ1**2)*cm.sin(2*AngleReflS)*cm.sin(2*AngleReflP)) +\\\n",
    "    m*(γ1*cm.cos(AngleReflP)*cm.cos(AngleTransS) + γ2*cm.cos(AngleTransP)*cm.cos(AngleReflS) -\\\n",
    "      2*γ1*γ2*cm.sin(2*AngleReflS - AngleReflP)*cm.sin(2*AngleTransS - AngleTransP))\n",
    "    \n",
    "#     наконец, переходим к вбиванию формул:\n",
    "# рассматриваем случай падения P-волны:\n",
    "    if Wave_Type == 0:\n",
    "        \n",
    "        # коэффициент отражения P-волны:\n",
    "        Rp = 1 - (2/D)*(γ1*γ2*(m*cm.sin(AngleReflP)*cm.cos(2*AngleTransS) -\\\n",
    "                               cm.cos(2*AngleReflS)*cm.sin(AngleTransP))**2 +\\\n",
    "                        γ1*cm.cos(AngleTransP)*cm.cos(AngleTransS)*\\\n",
    "                        (cm.cos(2*AngleReflS) + 2*m*γ2*cm.sin(AngleTransS)*cm.sin(AngleReflP))**2 +\\\n",
    "                        m*γ2*cm.cos(AngleTransP)*cm.cos(AngleReflS))\n",
    "        \n",
    "        # коэффициент отражения S1-волны:\n",
    "        Rs1 = (2*cm.cos(AngleReflP)/D)*\\\n",
    "        (2*cm.cos(AngleTransP)*cm.cos(AngleTransS)*\\\n",
    "        (2*m*γ2*cm.sin(AngleReflP)*cm.sin(AngleTransS) + cm.cos(2*AngleReflS))*\\\n",
    "        (m*γ2*cm.sin(AngleTransS) - γ1*cm.sin(AngleReflS)) +\\\n",
    "        γ2*(m*cm.cos(2*AngleTransS) + 2*γ1*cm.sin(AngleReflS)*cm.sin(AngleTransP))*\\\n",
    "        (m*cm.sin(AngleReflP)*cm.cos(2*AngleTransS) - cm.sin(AngleTransP)*cm.cos(2*AngleReflS)))\n",
    "        \n",
    "        # коэффициент отражения S2-волны:\n",
    "        Rs2 = 0\n",
    "        \n",
    "        # коэффициент прохождения P-волны:\n",
    "        Tp = (2*cm.cos(AngleReflP)/D)*\\\n",
    "        (m*γ2*cm.cos(2*AngleTransS - AngleReflS) + γ1*cm.cos(2*AngleReflS - AngleTransS))\n",
    "        \n",
    "        # коэффициент прохождения S1-волны:\n",
    "        Ts1 = -(2*cm.cos(AngleReflP)/D)*\\\n",
    "        (m*(cm.sin(AngleReflS) - 2*γ2*cm.sin(AngleTransS)*cm.cos(AngleTransP - AngleReflS)) +\\\n",
    "        γ1*cm.sin(2*AngleReflS - AngleTransP))\n",
    "        \n",
    "        # коэффициент прохождения S2-волны:      \n",
    "        Ts2 = 0\n",
    "        \n",
    "#         возвращаем найденные значения:\n",
    "        return Rp,Rs1,Rs2,Tp,Ts1,Ts2\n",
    "\n",
    "# рассматриваем случай падения S1-волны:\n",
    "    if Wave_Type == 1:\n",
    "        \n",
    "        # коэффициент отражения P-волны:\n",
    "        Rp = (2*γ1*cm.cos(AngleReflS)/D)*\\\n",
    "        (2*cm.cos(AngleTransP)*cm.cos(AngleTransS)*\\\n",
    "        (2*m*γ2*cm.sin(AngleReflP)*cm.sin(AngleTransS) + cm.cos(2*AngleReflS))*\\\n",
    "        (m*γ2*cm.sin(AngleTransS) - γ1*cm.sin(AngleReflS)) +\\\n",
    "        γ2*(m*cm.cos(2*AngleTransS) + 2*γ1*cm.sin(AngleReflS)*cm.sin(AngleTransP))*\\\n",
    "        (m*cm.sin(AngleReflP)*cm.cos(2*AngleTransS) - cm.sin(AngleTransP)*cm.cos(2*AngleReflS)))\n",
    "        \n",
    "        # коэффициент отражения S1-волны:\n",
    "        Rs1 = 1 - (2*cm.cos(AngleReflS)/D)*\\\n",
    "        (4*cm.cos(AngleTransS)*cm.cos(AngleTransP)*cm.cos(AngleReflP)*\\\n",
    "        (m*γ2*cm.sin(AngleTransS) - γ1*cm.sin(AngleReflS))**2 +\\\n",
    "        γ2*cm.cos(AngleReflP)*(m*cm.cos(2*AngleTransS) + 2*γ1*cm.sin(AngleReflS)*cm.sin(AngleTransP))**2 +\\\n",
    "        m*γ2*cm.cos(AngleTransP))\n",
    "        \n",
    "        # коэффициент отражения S2-волны:\n",
    "        Rs2 = 0\n",
    "        \n",
    "        # коэффициент прохождения P-волны: ОЧЕНЬ СОМНИТЕЛЬНАЯ ФОРМУЛА. В СПРАВОЧНИКЕ ЕСТЬ ОПЕЧАТКА.\n",
    "        Tp = -(2*γ1*cm.cos(AngleReflS)/D)*\\\n",
    "        (m*γ2*cm.sin(2*AngleTransS - AngleReflP) +\\\n",
    "         (cm.sin(AngleTransS) - 2*γ1*cm.sin(AngleReflS)*cm.cos(AngleReflP - AngleTransS)))\n",
    "        \n",
    "        # коэффициент прохождения S1-волны:\n",
    "        Ts1 = (2*γ1*cm.cos(AngleReflS)/D)*\\\n",
    "        (m*((γ2**2)*cm.sin(AngleReflP)*cm.sin(2*AngleTransP) + cm.cos(2*AngleTransS)*cm.cos(AngleReflP)) +\\\n",
    "        ((γ1**2)*cm.sin(2*AngleReflP)*cm.sin(AngleTransP) + cm.cos(2*AngleTransS)*cm.cos(AngleReflP)))\n",
    "        \n",
    "        # коэффициент прохождения S2-волны:      \n",
    "        Ts2 = 0\n",
    "        \n",
    "#         возвращаем найденные значения:\n",
    "        return Rp,Rs1,Rs2,Tp,Ts1,Ts2\n",
    "\n",
    "\n",
    "# рассматриваем случай падения S2-волны: σ2\n",
    "    if Wave_Type == 2:\n",
    "        \n",
    "        # коэффициент отражения P-волны:\n",
    "        Rp = 0\n",
    "        \n",
    "        # коэффициент отражения S1-волны:\n",
    "        Rs1 = 0\n",
    "        \n",
    "        # коэффициент отражения S2-волны:\n",
    "        Rs2 = (σ1*Vs1*cm.cos(Angle_Rad) - σ2*Vs2*cm.cos(AngleTransS))/(σ1*Vs1*cm.cos(Angle_Rad) + σ2*Vs2*cm.cos(AngleTransS))\n",
    "        \n",
    "        # коэффициент прохождения P-волны: ОЧЕНЬ СОМНИТЕЛЬНАЯ ФОРМУЛА. В СПРАВОЧНИКЕ ЕСТЬ ОПЕЧАТКА.\n",
    "        Tp = 0\n",
    "        \n",
    "        # коэффициент прохождения S1-волны:\n",
    "        Ts1 = 0\n",
    "        \n",
    "        # коэффициент прохождения S2-волны:      \n",
    "        Ts2 = 2*σ1*Vs1*cm.cos(Angle_Rad)/(σ1*Vs1*cm.cos(Angle_Rad) + σ2*Vs2*cm.cos(AngleTransS))\n",
    "        \n",
    "#         возвращаем найденные значения:\n",
    "        return Rp,Rs1,Rs2,Tp,Ts1,Ts2"
   ]
  },
  {
   "cell_type": "code",
   "execution_count": 5,
   "metadata": {
    "collapsed": true
   },
   "outputs": [],
   "source": [
    "vp1 = 2000\n",
    "vs1 = 1000\n",
    "rho1 = 2500\n",
    "\n",
    "vp2 = 4000\n",
    "vs2 = 2500\n",
    "rho2 = 2500"
   ]
  },
  {
   "cell_type": "code",
   "execution_count": 6,
   "metadata": {
    "collapsed": true
   },
   "outputs": [],
   "source": [
    "cij = rt_coefficients.iso_c_ij([vp1/1000,vs1/1000],rho1 / 1000)\n",
    "\n",
    "angles = np.linspace(0, np.pi / 2, 91)\n",
    "\n",
    "inc_vecs = np.array([np.sin(angles), np.zeros(angles.shape), np.cos(angles)]).T\n",
    "\n",
    "loc_sys = np.eye(3)"
   ]
  },
  {
   "cell_type": "code",
   "execution_count": 7,
   "metadata": {},
   "outputs": [
    {
     "name": "stdout",
     "output_type": "stream",
     "text": [
      "[[ 0.+0.j  1.+0.j  0.+0.j]\n",
      " [ 0.+0.j  0.+0.j  1.+0.j]\n",
      " [ 1.+0.j  0.+0.j  0.+0.j]]\n"
     ]
    }
   ],
   "source": [
    "for i in range(1):\n",
    "    print(rt_coefficients.polarizations_alt(cij, \n",
    "                              np.conjugate(inc_vecs[i]))[:, :])"
   ]
  },
  {
   "cell_type": "code",
   "execution_count": 8,
   "metadata": {
    "collapsed": true
   },
   "outputs": [],
   "source": [
    "vv = rt_coefficients.polarizations(cij, inc_vecs[0])[:, :]"
   ]
  },
  {
   "cell_type": "code",
   "execution_count": 9,
   "metadata": {},
   "outputs": [
    {
     "data": {
      "text/plain": [
       "-1.0"
      ]
     },
     "execution_count": 9,
     "metadata": {},
     "output_type": "execute_result"
    }
   ],
   "source": [
    "np.dot(np.cross(vv[:, 1], vv[:, 2]), vv[:, 0])"
   ]
  },
  {
   "cell_type": "code",
   "execution_count": 10,
   "metadata": {},
   "outputs": [
    {
     "name": "stdout",
     "output_type": "stream",
     "text": [
      "[[ 0.  0.  1.]\n",
      " [ 0.  1.  0.]\n",
      " [ 1.  0.  0.]]\n",
      "[[ 0.01745241 -0.          0.9998477 ]\n",
      " [-0.         -1.         -0.        ]\n",
      " [ 0.9998477  -0.         -0.01745241]]\n",
      "[[ 0.0348995  -0.          0.99939083]\n",
      " [-0.         -1.         -0.        ]\n",
      " [ 0.99939083 -0.         -0.0348995 ]]\n",
      "[[ 0.05233596  0.99862953 -0.        ]\n",
      " [-0.         -0.         -1.        ]\n",
      " [ 0.99862953 -0.05233596 -0.        ]]\n",
      "[[ 0.06975647 -0.          0.99756405]\n",
      " [-0.         -1.         -0.        ]\n",
      " [ 0.99756405 -0.         -0.06975647]]\n"
     ]
    }
   ],
   "source": [
    "for i in range(5):\n",
    "    print(rt_coefficients.polarizations(cij, \n",
    "                              inc_vecs[i])[:, :])"
   ]
  },
  {
   "cell_type": "code",
   "execution_count": 11,
   "metadata": {
    "collapsed": true
   },
   "outputs": [],
   "source": [
    "coeff = np.zeros(angles.shape, dtype=complex)\n",
    "exact_coeff = np.zeros(angles.shape, dtype=complex)\n",
    "aki_coeff = np.zeros(angles.shape, dtype=complex)\n",
    "handb_coeff = np.zeros(angles.shape, dtype=complex)"
   ]
  },
  {
   "cell_type": "code",
   "execution_count": 12,
   "metadata": {},
   "outputs": [],
   "source": [
    "for i in range(91):\n",
    "    \n",
    "    coeff[i] = rt_coefficients.iso_rt_coefficients(inc_slowness=inc_vecs[i] / vp1,\n",
    "                                               inc_polariz=inc_vecs[i], \n",
    "                                               rt_signum=1, \n",
    "                                               vp1=vp1,\n",
    "                                               vs1=vs1,\n",
    "                                               rho1=rho1,\n",
    "                                               vp2=vp2,\n",
    "                                               vs2=vs2,\n",
    "                                               rho2=rho2)[1]\n",
    "    \n",
    "    exact_coeff[i] = rt_coefficients.rt_coefficients_alt(vp1,\n",
    "                                                         vs1,\n",
    "                                                         rho1,\n",
    "                                                         vp2,\n",
    "                                                         vs2,\n",
    "                                                         rho2,\n",
    "                                                         np.cos(angles[i]),\n",
    "                                                         inc_vecs[i], \n",
    "                                                         vp1,\n",
    "                                                         1)[1]\n",
    "    \n",
    "    aki_coeff[i] = Reflection_And_Transmission_Coefficients_By_Aki_Richards(rho1,\n",
    "                                                                            rho2,\n",
    "                                                                            vp1,\n",
    "                                                                            vs1,\n",
    "                                                                            vp2,\n",
    "                                                                            vs2,\n",
    "                                                                            0,\n",
    "                                                                            np.degrees(angles[i]))[4]\n",
    "    \n",
    "    handb_coeff[i] = Reflection_And_Transmission_Coefficients_By_Aki_Richards(rho1,\n",
    "                                                                              rho2,\n",
    "                                                                              vp1,\n",
    "                                                                              vs1,\n",
    "                                                                              vp2,\n",
    "                                                                              vs2,\n",
    "                                                                              0,\n",
    "                                                                              np.degrees(angles[i]))[4]\n",
    "    \n",
    "\n",
    "#     print(rt_coefficients.rt_coefficients(inc_slowness=inc_vecs[i] / vp1,\n",
    "#                                                inc_polariz=inc_vecs[i], \n",
    "#                                                rt_signum=-1, \n",
    "#                                                loc_sys=loc_sys,\n",
    "#                                                vp1=vp1,\n",
    "#                                                vs1=vs1,\n",
    "#                                                rho1=rho1,\n",
    "#                                                vp2=vp2,\n",
    "#                                                vs2=vs2,\n",
    "#                                                rho2=rho2), \"\\n\",\n",
    "#           rt_coefficients.rt_coefficients_alt(vp1,\n",
    "#                                               vs1,\n",
    "#                                               rho1,\n",
    "#                                               vp2,\n",
    "#                                               vs2,\n",
    "#                                               rho2,\n",
    "#                                               np.cos(angles[i]),\n",
    "#                                               inc_vecs[i], \n",
    "#                                               vp1,\n",
    "#                                               -1))"
   ]
  },
  {
   "cell_type": "code",
   "execution_count": 14,
   "metadata": {},
   "outputs": [
    {
     "data": {
      "image/png": "[encoded data removed]",
      "text/plain": [
       "<matplotlib.figure.Figure at 0x36d06a3860>"
      ]
     },
     "metadata": {},
     "output_type": "display_data"
    }
   ],
   "source": [
    "plt.plot(np.degrees(angles), np.imag(coeff), \"k-\", label = \"моя функция\")\n",
    "plt.plot(np.degrees(angles), np.imag(exact_coeff), \"r--\", label = \"старая функция\")\n",
    "plt.plot(np.degrees(angles), np.imag(aki_coeff), \"bo\", label = \"аки\")\n",
    "plt.plot(np.degrees(angles), np.imag(handb_coeff), \"mo\", label = \"справочник\")\n",
    "\n",
    "plt.legend()\n",
    "plt.show()"
   ]
  }
 ],
 "metadata": {
  "kernelspec": {
   "display_name": "Python 3",
   "language": "python",
   "name": "python3"
  },
  "language_info": {
   "codemirror_mode": {
    "name": "ipython",
    "version": 3
   },
   "file_extension": ".py",
   "mimetype": "text/x-python",
   "name": "python",
   "nbconvert_exporter": "python",
   "pygments_lexer": "ipython3",
   "version": "3.6.2"
  }
 },
 "nbformat": 4,
 "nbformat_minor": 2
}
