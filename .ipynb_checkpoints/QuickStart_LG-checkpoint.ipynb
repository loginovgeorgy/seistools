{
 "cells": [
  {
   "cell_type": "markdown",
   "metadata": {},
   "source": [
    "# Пакет лучевого трассирования SeisLab\n",
    "## Руководство для быстрого старта"
   ]
  },
  {
   "cell_type": "markdown",
   "metadata": {},
   "source": [
    "Пакет SeisLab предназначен для расчёта синтетических волновых полей в приближении главного члена лучевого ряда. Алгоритмы, реализованные в пакете, основаны двух допущениях:\n",
    "1. Рассматриваются только однородно-слоистые модели сред без выклинивания;\n",
    "2. При построении лучей решается двухточечная задача.\n",
    "\n",
    "Кроме них есть и другие, более локальные предположения. Они будут проявляться по мере продвижения по основным модулям SeisLab.\n",
    "\n",
    "В этом руководстве будет приведена инструкция для как можно более быстрого начала работы с программой. Детальное описание работы всего-всего-всего здесь не даётся."
   ]
  },
  {
   "cell_type": "markdown",
   "metadata": {},
   "source": [
    "## Основные модули"
   ]
  },
  {
   "cell_type": "code",
   "execution_count": 2,
   "metadata": {},
   "outputs": [
    {
     "name": "stdout",
     "output_type": "stream",
     "text": [
      "The autoreload extension is already loaded. To reload it, use:\n",
      "  %reload_ext autoreload\n"
     ]
    }
   ],
   "source": [
    "# Импортируем библиотеки. Я не понимаю, почему, но \"сковзной\" импорт не работает.\n",
    "import numpy as np\n",
    "import matplotlib.pyplot as plt\n",
    "from mpl_toolkits.mplot3d import Axes3D\n",
    "# Импортируем главные компоненты для лучевого моделирования\n",
    "import sys\n",
    "sys.path.append('..')\n",
    "\n",
    "%load_ext autoreload\n",
    "%autoreload 2\n",
    "import src\n",
    "\n",
    "from src import tprt\n"
   ]
  },
  {
   "cell_type": "markdown",
   "metadata": {},
   "source": [
    "Выше были импортированы наиболее значимые классы, фигурирующие в проекте. Некоторые из них являются дочерними к более общим сущностям. Так, классы FlatHorizon и GridHorizon наследуют методы класса Horizon. \n",
    "\n",
    "Названия классов более или менее соответсвуют физическим сущностям, которые эти классы описывают:\n",
    "- **FlatHorizon** - класс, описывающий плоские геологические границы;\n",
    "- **GridHorizon** - класс, описывающий криволинейные границы, заданные на сетке;\n",
    "- **ISOVelocity** - класс, созданные для взаимодействия с изотропными скоростными моделями. По сути, объекты этого класса являются парами [Vp, Vs] с возможностью удобного (с точки зрения сейсмика) вызова любого из элементов;\n",
    "- **Layer** - класс, описывающий геологические слои;\n",
    "- **Velocity_model** - класс, описывающий скоростные (и плотностные, на самом деле) модели среды;\n",
    "- **DilatCenter** - класс, описывающий источники типа центра расширения;\n",
    "- **RotatCenter** - класс, описывающий источники типа центра вращения;\n",
    "- **Receiver** - класс, описывающий приёмники;\n",
    "- **Ray** - класс, описывающий лучи.\n",
    "\n",
    "Ниже под \"моделями\", \"слоями\" или \"горизонтами\" будут иметься ввиду объекты соответствующих классов.\n",
    "<hr>"
   ]
  },
  {
   "cell_type": "markdown",
   "metadata": {
    "collapsed": true
   },
   "source": [
    "## Создание модели*\n",
    "### * На примере трёхслойной модели с одной плоской и одной криволинейной границами со следующими свойствами слоёв:\n",
    "* Vp_1 = 2000 м/с, Vs_1 = 1000 м/с, Dens_1 = 2300 кг/м**3\n",
    "* Vp_2 = 2500 м/с, Vs_2 = 1250 м/с, Dens_2 = 2400 кг/м**3\n",
    "* Vp_3 = 3000 м/с, Vs_3 = 1500 м/с, Dens_3 = 2500 кг/м**3"
   ]
  },
  {
   "cell_type": "markdown",
   "metadata": {},
   "source": [
    "В конструктор класса моделей передаются массивы скоростей, плотностей и горизонтов, из которых затем автоматически собирается слоистая модель. **Важно отметить, что свободная поверхность не моделируется, т.е. модель простирается на бесконечность \"вверх\" и \"вниз\".** Скорости и плотности создаются тривиально:"
   ]
  },
  {
   "cell_type": "code",
   "execution_count": 3,
   "metadata": {
    "collapsed": true
   },
   "outputs": [],
   "source": [
    "# Скорости волн в слое задаются объектами класса ISOVelocity, в конструктор которого подаются пары Vp, Vs.\n",
    "# Желательно задавать скорости в м/с.\n",
    "vel_1 = tprt.ISOVelocity(vp=2000.0, vs=1000.0)\n",
    "vel_2 = tprt.ISOVelocity(vp=2500.0, vs=1250.0)\n",
    "vel_3 = tprt.ISOVelocity(vp=3000.0, vs=1500.0)"
   ]
  },
  {
   "cell_type": "code",
   "execution_count": 4,
   "metadata": {
    "collapsed": true
   },
   "outputs": [],
   "source": [
    "# Плотности задаются напрямую - просто числами. Желательно задавать плостности в кг/м**3:\n",
    "dens_1 = 2300.0\n",
    "dens_2 = 2400.0\n",
    "dens_3 = 2500.0"
   ]
  },
  {
   "cell_type": "markdown",
   "metadata": {},
   "source": [
    "Создание горизонтов - более сложный процесс. Во-первых, есть два класса для горизонтов, и для создания каждого из них требуются разные данные. Во-вторых, **пользователь гарантирует, что задаваемые им горизонты не пересекаются в моделируемом участке среды и несёт личную ответственность за достоверность предоставленных сведений**.\n",
    "\n",
    "В нашей трёхслойной всего две границы. \n",
    "\n",
    "1) Пусть одна из них (верхняя) будет <i>плоским горизонтом</i>. Плоские горизонты задаются через глубину точки, лежащей на таком горизонте, её координаты на плоскости, угол и азимут падения горизонта, а также через дополнительный параметр - область задания горизонта:\n",
    "\n",
    "``` python \n",
    "hor_1 = tprt.FlatHorizon(depth=200,...)\n",
    "```\n",
    "\n",
    "2) Вторая граница будет криволинейной. Криволинейные границы в SeisLab задаются дискретно, на регулярной прямоугольной сетке. Для создания границы необходимы:\n",
    "    - Массив x_set = [x_0, x_1, ..., x_M]\n",
    "    - Массив y_set = [y_0, y_1, ..., y_N]\n",
    "    - Массив z_set = [[z_00, z_01, ..., z_0N], [z_10, z_11, ..., z_1N], ... , [z_M0, z_M1, ..., zMN]]\n",
    "Пусть наша граница будет задана на сетке \n",
    "    - x_set = [- 1000, - 998, ..., 998, 1000], \n",
    "    - y_set = [- 1000, - 998, ..., 998, 1000]. \n",
    "    - В качестве функции границы возьмём медленно осциллирующий синус: z = 700 + 100 sin(2 pi * (x / 4000 + y / 4000)).\n",
    "\n",
    "``` python \n",
    "hor_2 = GridHorizon(x_set=x_set, y_set=y_set,z_set=z_set,bool_parab=False)\n",
    "```"
   ]
  },
  {
   "cell_type": "markdown",
   "metadata": {},
   "source": [
    "Стоит сказать несколько слов про последний аргумент в конструкторе. <i>Регион</i> является прямоугольной областью на плоскости, задаваемой в виде [[x_min, y_min], [x_max, y_max]], т.е. в виде массива, в котором явно задаются координаты противолежащих углов прямоугольника. **На данный момент это поле используется только при определении ганиц отрисовки горизонтов**."
   ]
  },
  {
   "cell_type": "markdown",
   "metadata": {},
   "source": [
    "Для создания криволинейной границы необходимо в конструктор подать все три массива - x_set, y_set и z_set. Опциональным агументом, повышающим устойчивость интерполяции к выбивающимся точкам, но понижающим общую точность интерполяции, подаётся булевская величина - True или False. Для целей этого руководства мы приравняем её False (т.е. этот триггер отключен):"
   ]
  },
  {
   "cell_type": "markdown",
   "metadata": {},
   "source": [
    "### ВНИМАНИЕ\n",
    "\n",
    "**Внутри конструктора вычисляются полиномиальные коэффициенты бикубической интерполяции**, что в имеющейся на данный момент имплементации является очень долгой процедурой (более пяти минут на компьютере с частотой процессора 1.8 ГГц, а сетка была не самой большой (процессор тоже далеко не мощный, но мысль, я надеюсь, понятна)). Поэтому есть возможность подать ещё одним аргументом уже готовый массив полиномиальных коэффициентов, если он был насчитан заранее. Это удобно, если одну и ту же границу нуно будет использовать во многих сериях вычислений.\n",
    "\n",
    "Надо отметить, что <i>регион</i> в случае криволинейных границ явно не задаётся. Его границы определяются по входным массивам x_set и y_set.\n",
    "<hr>\n",
    "В конструктор модели последовательно передаются:\n",
    "* массив скоростей;\n",
    "* массив плотностей;\n",
    "* массив имен слоев (если хочется их называть);\n",
    "* массив границ"
   ]
  },
  {
   "cell_type": "code",
   "execution_count": 5,
   "metadata": {
    "collapsed": true
   },
   "outputs": [],
   "source": [
    "hor_1 = tprt.FlatHorizon(\n",
    "    depth=200,\n",
    "    anchor=np.array([0, 0]),\n",
    "    dip = 10, # угола падения В ГРАДУСАХ\n",
    "    azimuth=0, # азимут падения в ГРАДУСАХ\n",
    "    region = np.array([[- 1000, - 1000], [1000, 1000]])\n",
    ")"
   ]
  },
  {
   "cell_type": "code",
   "execution_count": 6,
   "metadata": {
    "collapsed": true
   },
   "outputs": [],
   "source": [
    "x_set = np.linspace(- 1000, 1000, 1001)\n",
    "y_set = np.linspace(- 1000, 1000, 1001)\n",
    "\n",
    "yy_set, xx_set = np.meshgrid(y_set, x_set)\n",
    "\n",
    "z_set = 700 + 100 * np.sin(2 * np.pi * (xx_set + yy_set) / 4000)"
   ]
  },
  {
   "cell_type": "code",
   "execution_count": 7,
   "metadata": {
    "collapsed": true
   },
   "outputs": [],
   "source": [
    "hor_2 = tprt.GridHorizon(\n",
    "    x_set=x_set,\n",
    "    y_set=y_set,\n",
    "    z_set=z_set,\n",
    "    bool_parab=False\n",
    ")"
   ]
  },
  {
   "cell_type": "code",
   "execution_count": 62,
   "metadata": {},
   "outputs": [],
   "source": [
    "model = tprt.VelocityModel(np.array([vel_1, vel_2, vel_3]),\n",
    "                       np.array([dens_1, dens_2, dens_3]),\n",
    "                       np.array([1, 2, 3]),                      \n",
    "                       [hor_1, hor_2])"
   ]
  },
  {
   "cell_type": "markdown",
   "metadata": {},
   "source": [
    "<hr>"
   ]
  },
  {
   "cell_type": "markdown",
   "metadata": {},
   "source": [
    "## Взаимодействие с моделью и её элементами"
   ]
  },
  {
   "cell_type": "markdown",
   "metadata": {},
   "source": [
    "Модель состоит из слоёв, каждый из которых характеризуется:\n",
    "- номером, \n",
    "- скоростями распространения волн, \n",
    "- плотностью,\n",
    "- двумя перекрывающими горизонтами (выше было отмечено, что первый номер в модели простирается на бесконечность \"вверх\", что реализуется в виде плоского горизонта на бесконечности)."
   ]
  },
  {
   "cell_type": "code",
   "execution_count": null,
   "metadata": {},
   "outputs": [],
   "source": [
    "layers = model.layers\n",
    "\n",
    "print(\"Имя первого горизонта:\", layers[0].name)\n",
    "print(\"Скорость P-волн в первом слое равна\", layers[0].get_velocity(0)[\"vp\"], \"м/с\")\n",
    "print(\"Скорость S-волн в первом слое равна\", layers[0].get_velocity(0)[\"vs\"], \"м/с\")\n",
    "print(\"Плотность пород в первом слое равна\", layers[0].get_density(), \"кг/м**3\")"
   ]
  },
  {
   "cell_type": "markdown",
   "metadata": {},
   "source": [
    "В предыдущей ячейке продемонстрирован вызов скоростей волн в слое. Метод layer.get_velocity(<i>something</i>) принимает в качестве аргумента любое число (на самом деле, <i>пока что</i> можно вместо числа подать список или строку). Это число сейчас ни на что не влияет, но в дальнейшем планируется его использование для нахождения скорости в заданном направлении для анизотропной среды.\n",
    "\n",
    "Приписка [\"vp\"] или [\"vs\"] после вызова метода необходима, чтобы получить конкретную скорость. Без неё метод возвращает словарь из двух элементов:"
   ]
  },
  {
   "cell_type": "code",
   "execution_count": null,
   "metadata": {},
   "outputs": [],
   "source": [
    "layers[0].get_velocity(0)"
   ]
  },
  {
   "cell_type": "markdown",
   "metadata": {},
   "source": [
    "Вызов плостности не нуждается в дополнительных комментариях.\n",
    "<hr>\n",
    "Для вызова горизонтов, ограничивающих данный слой, используются отдельные методы класса Layer. Определённые выше hor_1 и hor_2 ограничивают сверху и снизу второй слой. Вызовем эти горизонты через него:"
   ]
  },
  {
   "cell_type": "code",
   "execution_count": null,
   "metadata": {
    "collapsed": true
   },
   "outputs": [],
   "source": [
    "top_hor = layers[1].top\n",
    "bottom_hor = layers[1].bottom"
   ]
  },
  {
   "cell_type": "markdown",
   "metadata": {},
   "source": [
    "**Все горизонты в SeisLab должны являться дважды гладкими функциями вида z = z(x, y)**. В частности, бикубическая интерполяция строится именно из условия непрерывности второй производной.\n",
    "\n",
    "У таких горизонтов в любой их точке определены:\n",
    "* Глубина;\n",
    "* Градиент;\n",
    "* Нормаль;\n",
    "* Вторые производные (=> кривизны).\n",
    "\n",
    "Первые три величины могут быть получены следуюшим образом:"
   ]
  },
  {
   "cell_type": "code",
   "execution_count": null,
   "metadata": {},
   "outputs": [],
   "source": [
    "print(\"Глубина верхнего горизонта в точке с координатами x = 0, y - 0:\", top_hor.get_depth(np.array([0, 0])), \"м\")\n",
    "print(\"Градиент функции верхнего горизонта в точке с координатами x = 0, y - 0:\",\n",
    "      top_hor.get_gradient(np.array([0, 0])))\n",
    "print(\"Нормаль к верхнему горизонту в точке с координатами x = 0, y - 0:\",\n",
    "      top_hor.get_normal(np.array([0, 0])))"
   ]
  },
  {
   "cell_type": "markdown",
   "metadata": {},
   "source": [
    "**Нормаль к границе строится таким образом, что её компонента по z положительна**.\n",
    "\n",
    "Вторые производные примечательны тем, что в теории лучевого метода они должны вычисляться, как правило, не в глобальной системе координат. На поверхность в некоторой точке падает луч, характеризующийся своим <i>направлением</i>. В точке падения строится локальная система координат, базисные векторы которой связаны с этим направлением и с нормалью к границе. Для вычисления лучевой амплитуды необходимо знать вторые производные функции поверхности в новой системе координат и матрицу перехода к этой системе.\n",
    "\n",
    "Поэтому метод класса Horizon, находящий вторые производные и матрицу перехода, называется get_local_properties, и ему на вход передаются x- и y-координаты точки падения, а также вектор направления падающего луча:"
   ]
  },
  {
   "cell_type": "code",
   "execution_count": null,
   "metadata": {},
   "outputs": [],
   "source": [
    "# пусть вертикальный луч падает на нижний горизонт в точке с координатами x = 0, y = 0:\n",
    "inc_vec = np.array([0, 0, 1])\n",
    "\n",
    "z_11, z_12, z_22, tr_matr = bottom_hor.get_local_properties(np.array([0, 0]), inc_vec)"
   ]
  },
  {
   "cell_type": "code",
   "execution_count": null,
   "metadata": {},
   "outputs": [],
   "source": [
    "print(\"Матрица вторых производных поверхности в локальной системе координат:\\n\",\n",
    "      np.array([[z_11, z_12], [z_12, z_22]]))"
   ]
  },
  {
   "cell_type": "code",
   "execution_count": null,
   "metadata": {},
   "outputs": [],
   "source": [
    "print(\"Матрица перехода в локальную систему координат:\\n\", tr_matr)\n",
    "print(\"Нормаль к нижней границе в точке падения\", bottom_hor.get_normal(np.array([0, 0])))"
   ]
  },
  {
   "cell_type": "markdown",
   "metadata": {},
   "source": [
    "Заметьте, что третий столбец в матрице перехода в данном случае совпадает с нормалью к границе. Однако, в общем случае совпадения нет: локальная система координат строится с тем, чтобы ось z' в ней была направлена в ту же среду, куда и падающий луч, поэтому третий орт может как совпадать с нормалью, так и быть протвонаправлен ей.\n",
    "<hr>"
   ]
  },
  {
   "cell_type": "markdown",
   "metadata": {},
   "source": [
    "## Создание системы наблюдения (источники, приемники, лучи)\n",
    "### * На примере волны, отражённой от второй границы в заданной модели\n",
    "\n",
    "#### 1) Для начала нужно создать нужное количество источников и приемников\n",
    "#### 2) Для инициализации системы наблюдения нам понадобятся списки источников и приемников, и скоростная модель"
   ]
  },
  {
   "cell_type": "markdown",
   "metadata": {},
   "source": [
    "В SeisLab на данный момент реализовано два типа точечных источников сейсмических волн - центр расширения (идеальный источник P-волн) и центр вращения (идеальный источник S-волн). Оба источника излучают в среду импульс Рикера с некоторой главной частотой.\n",
    "\n",
    "Для создания источника необходимы:\n",
    "* Главная частота импульса Рикера;\n",
    "* Модель, в которую источник помещается;\n",
    "* Координаты источника\n",
    "* (только для центра вращения) ось вращения.\n",
    "\n",
    "Создадим источник типа центра расширения, расположенный на поверхности z = 0 в точке с координатами x = 0, y = 0 (т.е. в первом слое). В качестве главной частоты возьмём 25 Гц:"
   ]
  },
  {
   "cell_type": "code",
   "execution_count": 9,
   "metadata": {
    "collapsed": true
   },
   "outputs": [],
   "source": [
    "source_freq = 25.0\n",
    "source_location = np.array([0, 0, 0], dtype=float)"
   ]
  },
  {
   "cell_type": "markdown",
   "metadata": {},
   "source": [
    "Для дальнейшего создания системы наблюдения мы будем использовать список источников и приемников, поэтому создадим список из одного источника"
   ]
  },
  {
   "cell_type": "code",
   "execution_count": 10,
   "metadata": {},
   "outputs": [],
   "source": [
    "sources = [tprt.DilatCenter(model, source_freq, source_location)]"
   ]
  },
  {
   "cell_type": "markdown",
   "metadata": {},
   "source": [
    "Приёмники характеризуются местоположением и ориентацией. Последнюю можно не задавать явно - по умолчанию оси чувствительности приёмника будут совпадать с осями глобальной системы координат.\n",
    "\n",
    "Зададим 2 сети наблюдения:\n",
    "1. поверхностную сеть наблюдения в квадрате $x,y \\in [-800,800]\\, м$ с шагом $100 \\, м$ по обеим осям;\n",
    "2. скважинную в точке $(x,y) = (500,500)$ и $z \\in [125, 1525] \\, м$ с шагом $50 \\, м$."
   ]
  },
  {
   "cell_type": "code",
   "execution_count": 37,
   "metadata": {},
   "outputs": [],
   "source": [
    "rec_loc_x = np.arange(-800, 800, 100)\n",
    "rec_loc_z = np.arange(125, 1525, 50)\n",
    "shape = rec_loc_x.shape + rec_loc_x.shape\n",
    "receivers_surface = np.empty(shape, dtype=tprt.Receiver)\n",
    "receivers_borehole = np.empty(rec_loc_z.shape, dtype=tprt.Receiver)\n",
    "\n",
    "orientation = np.array([\n",
    "    [1, 0, 0],  # axis x\n",
    "    [0, -1, 0], # axis y\n",
    "    [0, 0, -1]  # axis z\n",
    "])\n",
    "\n",
    "for i, _x in enumerate(rec_loc_x):\n",
    "    for j, _y in enumerate(rec_loc_x):\n",
    "        receivers_surface[i, j] = tprt.Receiver([_x, _y, 0], orientation=orientation)\n",
    "        \n",
    "for i, _z in enumerate(rec_loc_z):\n",
    "    receivers_borehole[i] = tprt.Receiver([500.0, 500.0, _z], orientation=orientation)"
   ]
  },
  {
   "cell_type": "markdown",
   "metadata": {},
   "source": [
    "**Ориентация приёмников была выставлена так, чтобы их вертикальная ось чувствительности \"смотрела\" вверх. По умолчанию она направлена вниз, сонаправлено с осью глубин**.\n",
    "\n",
    "Для построения лучей необходимо задаться так называемым <i>лучевым кодом</i>. Лучевой код - это массив элементов вида:\n",
    "\n",
    "[<\"вверх\" или \"вниз\">, <номер слоя>, <тип волны>]\n",
    "\n",
    "* \"вверх\" или \"вниз\" - число, 1 или - 1. Задаёт направление движения по модели;\n",
    "* номер слоя - номер слоя, в котором распространется волна (нумерация слоёв - с нуля);\n",
    "* тип волны - число, указывающее на тип волны. 0 - P-волна, 1 - S-волна;\n",
    "\n",
    "Такой подход базируется на форме лучей в доступных для SeisLab моделях среды. В однородно-слоистых средах лучи являются ломаными кривыми, и лучевой код, по сути, задаёт последовательность сегментов этой ломаной.\n",
    "\n",
    "Пример P-волны, отражённой от второй границы:"
   ]
  },
  {
   "cell_type": "code",
   "execution_count": null,
   "metadata": {
    "collapsed": true
   },
   "outputs": [],
   "source": [
    "ray_code = [[1, 0, 0],\n",
    "           [1, 1, 0],\n",
    "           [- 1, 1, 0],\n",
    "           [- 1, 0, 0]]"
   ]
  },
  {
   "cell_type": "markdown",
   "metadata": {},
   "source": [
    "**В SeisLab есть автоматическая проверка лучевого кода на корректность для данной модели. Однако кастомное задание кода луча является специфической процедурой, которая может понадобится при рассмотрении каких-нибудь обменных или головных волн (только для плоских горизонтов). Здесь же, для создания лучей мы будем использовать специальный класс Survey который отвечает за автоматический сбор системы наблюдения с её составными частями - лучами. Нам нужно будет только указать, что мы хотим. Пока поддерживается 2 типа волн: отраженные (актуально для поверхностной системы наблюдения) и прямые (для скважинной) монотипные волны.**.\n",
    "\n",
    "Для инициализации системы наблюдения (Survey) в конструктор необходимо подать:\n",
    "* Список источников;\n",
    "* Список приёмников;\n",
    "* Скоростная модель.\n",
    "\n",
    "Соответственно мы создаем 2 системы наблюдения: скважинную (borehole) и поверхностную (surface). Источник оставим одним и тем же."
   ]
  },
  {
   "cell_type": "code",
   "execution_count": 65,
   "metadata": {},
   "outputs": [],
   "source": [
    "survey_surface = tprt.Survey(sources, receivers_surface, model)\n",
    "survey_borehole = tprt.Survey(sources, receivers_borehole, model)"
   ]
  },
  {
   "cell_type": "markdown",
   "metadata": {},
   "source": [
    "После, инициализации Survey, лучи еще не построены. При построении начальных лучей (которые пока не являются реальными) нам необходимо указать:\n",
    "* тип рассматриваемой волны - vtype ('vp' или 'vs')\n",
    "* если это отраженная волна то мы должны указать отражающий горизонт - reflect_horizon*\n",
    "* если это прямая волна - forward = True\n",
    "\n",
    "*reflect horizon - номер границы относительно положения источника при увеличении глубины.\n",
    "\n",
    "Для поверхностной системы наблюдения создадим лучи отраженные от второй границы, для скважинные используем прямые волны. На самом деле, для скважинной системы наблюдения мы тоже можем рассматривать отраженные волны, однако здесь необходимо учесть, что ВСЕ приемники в скважине находятся выше отражающего горизонта, иначе проверка кода луча даст ошибку. "
   ]
  },
  {
   "cell_type": "code",
   "execution_count": 67,
   "metadata": {},
   "outputs": [],
   "source": [
    "survey_surface.initialize_rays(reflect_horizon=2, vtype='vp', forward=False)\n",
    "survey_borehole.initialize_rays(reflect_horizon=2, vtype='vp', forward=True)"
   ]
  },
  {
   "cell_type": "markdown",
   "metadata": {},
   "source": [
    "**Созданные только что лучи не являются лучами в строгом понимании этого слова. Их траектория случайна (узлы ломаной находятся на правильных границах, но траектория ломаной не является оптимальной с точки зрения времён пробега), а амплитуды выставлены единичными**. Необходимо оптимизировать полученные лучи и посчитать правильную амплитуду вдоль них. Для этого используется метод Survey.calculate(). Этот метод имеет два аргумента:\n",
    "* method - метод оптимизации, влияет на скорость сходимости. \n",
    "Строго говоря нормальным образом поддерживаются только два: 'Nelder-Mead' (симплексный метод), 'BFGS' (градиентный). По умолчанию стоит BFGS, так как он использует производную вдоль луча, что в разы быстрее чем Nelder-Mead\n",
    "* survey2D - (boolean). Если True то лучи строятся в вертикальной плоскости Источник-Приемник, если False - то лучи 3-хмерные какими и должны быть. 2-мерная оптмизация работает быстрее чем 3-хмерная, и это становится актуальным если среда близка к горизонтально слоистой."
   ]
  },
  {
   "cell_type": "code",
   "execution_count": 71,
   "metadata": {},
   "outputs": [
    {
     "name": "stdout",
     "output_type": "stream",
     "text": [
      "Wall time: 30.1 s\n"
     ]
    }
   ],
   "source": [
    "%%time\n",
    "survey_surface.calculate(method='bfgs', survey2D=False)\n",
    "survey_borehole.calculate(method='bfgs', survey2D=False)"
   ]
  },
  {
   "cell_type": "markdown",
   "metadata": {},
   "source": [
    "Для расчёта времени пробега волны и определения амплитуды на данной трассе в некоторый момент времени используется еще один метод Survey.get_traveltimes(), который возвращает двумерный массив размера (число источников, число приемников)"
   ]
  },
  {
   "cell_type": "code",
   "execution_count": 80,
   "metadata": {},
   "outputs": [],
   "source": [
    "traveltime_curve = survey_surface.traveltimes # массив для годографа\n",
    "\n",
    "record_time = np.linspace(0, 2, 2001) # дискретизованное время записи\n",
    "\n",
    "seismogram_x = np.zeros((len(traveltime_curve.ravel()), record_time.shape[0]), dtype=complex) # массив для сейсмограмм (x-компонента)\n",
    "seismogram_y = seismogram_x.copy() # массив для сейсмограмм (y-компонента)\n",
    "seismogram_z = seismogram_x.copy() # массив для сейсмограмм (z-компонента)"
   ]
  },
  {
   "cell_type": "code",
   "execution_count": 85,
   "metadata": {},
   "outputs": [
    {
     "name": "stdout",
     "output_type": "stream",
     "text": [
      "Wall time: 5.78 s\n"
     ]
    }
   ],
   "source": [
    "%%time\n",
    "for i, ray in enumerate(survey_borehole.rays[0]):   \n",
    "    for j in range(record_time.shape[0]): \n",
    "        seismogram_x[i, j], seismogram_y[i, j], seismogram_z[i, j] = ray.get_recorded_amplitude(record_time[j])\n",
    "        # записываем амплитуду в приёмнике"
   ]
  },
  {
   "cell_type": "markdown",
   "metadata": {},
   "source": [
    "## Графическое представление данных"
   ]
  },
  {
   "cell_type": "markdown",
   "metadata": {
    "collapsed": true
   },
   "source": [
    "**В SeisLab нет функции / метода вроде plot_model**. Для отрисовки модели и лучей необходимо вызвать методы классов Horizon и Ray, по очереди для каждого объектна в отдельности."
   ]
  },
  {
   "cell_type": "code",
   "execution_count": 86,
   "metadata": {
    "collapsed": true
   },
   "outputs": [],
   "source": [
    "%matplotlib notebook"
   ]
  },
  {
   "cell_type": "code",
   "execution_count": 89,
   "metadata": {
    "scrolled": false
   },
   "outputs": [
    {
     "data": {
      "application/javascript": [
       "/* Put everything inside the global mpl namespace */\n",
       "window.mpl = {};\n",
       "\n",
       "\n",
       "mpl.get_websocket_type = function() {\n",
       "    if (typeof(WebSocket) !== 'undefined') {\n",
       "        return WebSocket;\n",
       "    } else if (typeof(MozWebSocket) !== 'undefined') {\n",
       "        return MozWebSocket;\n",
       "    } else {\n",
       "        alert('Your browser does not have WebSocket support.' +\n",
       "              'Please try Chrome, Safari or Firefox ≥ 6. ' +\n",
       "              'Firefox 4 and 5 are also supported but you ' +\n",
       "              'have to enable WebSockets in about:config.');\n",
       "    };\n",
       "}\n",
       "\n",
       "mpl.figure = function(figure_id, websocket, ondownload, parent_element) {\n",
       "    this.id = figure_id;\n",
       "\n",
       "    this.ws = websocket;\n",
       "\n",
       "    this.supports_binary = (this.ws.binaryType != undefined);\n",
       "\n",
       "    if (!this.supports_binary) {\n",
       "        var warnings = document.getElementById(\"mpl-warnings\");\n",
       "        if (warnings) {\n",
       "            warnings.style.display = 'block';\n",
       "            warnings.textContent = (\n",
       "                \"This browser does not support binary websocket messages. \" +\n",
       "                    \"Performance may be slow.\");\n",
       "        }\n",
       "    }\n",
       "\n",
       "    this.imageObj = new Image();\n",
       "\n",
       "    this.context = undefined;\n",
       "    this.message = undefined;\n",
       "    this.canvas = undefined;\n",
       "    this.rubberband_canvas = undefined;\n",
       "    this.rubberband_context = undefined;\n",
       "    this.format_dropdown = undefined;\n",
       "\n",
       "    this.image_mode = 'full';\n",
       "\n",
       "    this.root = $('<div/>');\n",
       "    this._root_extra_style(this.root)\n",
       "    this.root.attr('style', 'display: inline-block');\n",
       "\n",
       "    $(parent_element).append(this.root);\n",
       "\n",
       "    this._init_header(this);\n",
       "    this._init_canvas(this);\n",
       "    this._init_toolbar(this);\n",
       "\n",
       "    var fig = this;\n",
       "\n",
       "    this.waiting = false;\n",
       "\n",
       "    this.ws.onopen =  function () {\n",
       "            fig.send_message(\"supports_binary\", {value: fig.supports_binary});\n",
       "            fig.send_message(\"send_image_mode\", {});\n",
       "            if (mpl.ratio != 1) {\n",
       "                fig.send_message(\"set_dpi_ratio\", {'dpi_ratio': mpl.ratio});\n",
       "            }\n",
       "            fig.send_message(\"refresh\", {});\n",
       "        }\n",
       "\n",
       "    this.imageObj.onload = function() {\n",
       "            if (fig.image_mode == 'full') {\n",
       "                // Full images could contain transparency (where diff images\n",
       "                // almost always do), so we need to clear the canvas so that\n",
       "                // there is no ghosting.\n",
       "                fig.context.clearRect(0, 0, fig.canvas.width, fig.canvas.height);\n",
       "            }\n",
       "            fig.context.drawImage(fig.imageObj, 0, 0);\n",
       "        };\n",
       "\n",
       "    this.imageObj.onunload = function() {\n",
       "        fig.ws.close();\n",
       "    }\n",
       "\n",
       "    this.ws.onmessage = this._make_on_message_function(this);\n",
       "\n",
       "    this.ondownload = ondownload;\n",
       "}\n",
       "\n",
       "mpl.figure.prototype._init_header = function() {\n",
       "    var titlebar = $(\n",
       "        '<div class=\"ui-dialog-titlebar ui-widget-header ui-corner-all ' +\n",
       "        'ui-helper-clearfix\"/>');\n",
       "    var titletext = $(\n",
       "        '<div class=\"ui-dialog-title\" style=\"width: 100%; ' +\n",
       "        'text-align: center; padding: 3px;\"/>');\n",
       "    titlebar.append(titletext)\n",
       "    this.root.append(titlebar);\n",
       "    this.header = titletext[0];\n",
       "}\n",
       "\n",
       "\n",
       "\n",
       "mpl.figure.prototype._canvas_extra_style = function(canvas_div) {\n",
       "\n",
       "}\n",
       "\n",
       "\n",
       "mpl.figure.prototype._root_extra_style = function(canvas_div) {\n",
       "\n",
       "}\n",
       "\n",
       "mpl.figure.prototype._init_canvas = function() {\n",
       "    var fig = this;\n",
       "\n",
       "    var canvas_div = $('<div/>');\n",
       "\n",
       "    canvas_div.attr('style', 'position: relative; clear: both; outline: 0');\n",
       "\n",
       "    function canvas_keyboard_event(event) {\n",
       "        return fig.key_event(event, event['data']);\n",
       "    }\n",
       "\n",
       "    canvas_div.keydown('key_press', canvas_keyboard_event);\n",
       "    canvas_div.keyup('key_release', canvas_keyboard_event);\n",
       "    this.canvas_div = canvas_div\n",
       "    this._canvas_extra_style(canvas_div)\n",
       "    this.root.append(canvas_div);\n",
       "\n",
       "    var canvas = $('<canvas/>');\n",
       "    canvas.addClass('mpl-canvas');\n",
       "    canvas.attr('style', \"left: 0; top: 0; z-index: 0; outline: 0\")\n",
       "\n",
       "    this.canvas = canvas[0];\n",
       "    this.context = canvas[0].getContext(\"2d\");\n",
       "\n",
       "    var backingStore = this.context.backingStorePixelRatio ||\n",
       "\tthis.context.webkitBackingStorePixelRatio ||\n",
       "\tthis.context.mozBackingStorePixelRatio ||\n",
       "\tthis.context.msBackingStorePixelRatio ||\n",
       "\tthis.context.oBackingStorePixelRatio ||\n",
       "\tthis.context.backingStorePixelRatio || 1;\n",
       "\n",
       "    mpl.ratio = (window.devicePixelRatio || 1) / backingStore;\n",
       "\n",
       "    var rubberband = $('<canvas/>');\n",
       "    rubberband.attr('style', \"position: absolute; left: 0; top: 0; z-index: 1;\")\n",
       "\n",
       "    var pass_mouse_events = true;\n",
       "\n",
       "    canvas_div.resizable({\n",
       "        start: function(event, ui) {\n",
       "            pass_mouse_events = false;\n",
       "        },\n",
       "        resize: function(event, ui) {\n",
       "            fig.request_resize(ui.size.width, ui.size.height);\n",
       "        },\n",
       "        stop: function(event, ui) {\n",
       "            pass_mouse_events = true;\n",
       "            fig.request_resize(ui.size.width, ui.size.height);\n",
       "        },\n",
       "    });\n",
       "\n",
       "    function mouse_event_fn(event) {\n",
       "        if (pass_mouse_events)\n",
       "            return fig.mouse_event(event, event['data']);\n",
       "    }\n",
       "\n",
       "    rubberband.mousedown('button_press', mouse_event_fn);\n",
       "    rubberband.mouseup('button_release', mouse_event_fn);\n",
       "    // Throttle sequential mouse events to 1 every 20ms.\n",
       "    rubberband.mousemove('motion_notify', mouse_event_fn);\n",
       "\n",
       "    rubberband.mouseenter('figure_enter', mouse_event_fn);\n",
       "    rubberband.mouseleave('figure_leave', mouse_event_fn);\n",
       "\n",
       "    canvas_div.on(\"wheel\", function (event) {\n",
       "        event = event.originalEvent;\n",
       "        event['data'] = 'scroll'\n",
       "        if (event.deltaY < 0) {\n",
       "            event.step = 1;\n",
       "        } else {\n",
       "            event.step = -1;\n",
       "        }\n",
       "        mouse_event_fn(event);\n",
       "    });\n",
       "\n",
       "    canvas_div.append(canvas);\n",
       "    canvas_div.append(rubberband);\n",
       "\n",
       "    this.rubberband = rubberband;\n",
       "    this.rubberband_canvas = rubberband[0];\n",
       "    this.rubberband_context = rubberband[0].getContext(\"2d\");\n",
       "    this.rubberband_context.strokeStyle = \"#000000\";\n",
       "\n",
       "    this._resize_canvas = function(width, height) {\n",
       "        // Keep the size of the canvas, canvas container, and rubber band\n",
       "        // canvas in synch.\n",
       "        canvas_div.css('width', width)\n",
       "        canvas_div.css('height', height)\n",
       "\n",
       "        canvas.attr('width', width * mpl.ratio);\n",
       "        canvas.attr('height', height * mpl.ratio);\n",
       "        canvas.attr('style', 'width: ' + width + 'px; height: ' + height + 'px;');\n",
       "\n",
       "        rubberband.attr('width', width);\n",
       "        rubberband.attr('height', height);\n",
       "    }\n",
       "\n",
       "    // Set the figure to an initial 600x600px, this will subsequently be updated\n",
       "    // upon first draw.\n",
       "    this._resize_canvas(600, 600);\n",
       "\n",
       "    // Disable right mouse context menu.\n",
       "    $(this.rubberband_canvas).bind(\"contextmenu\",function(e){\n",
       "        return false;\n",
       "    });\n",
       "\n",
       "    function set_focus () {\n",
       "        canvas.focus();\n",
       "        canvas_div.focus();\n",
       "    }\n",
       "\n",
       "    window.setTimeout(set_focus, 100);\n",
       "}\n",
       "\n",
       "mpl.figure.prototype._init_toolbar = function() {\n",
       "    var fig = this;\n",
       "\n",
       "    var nav_element = $('<div/>')\n",
       "    nav_element.attr('style', 'width: 100%');\n",
       "    this.root.append(nav_element);\n",
       "\n",
       "    // Define a callback function for later on.\n",
       "    function toolbar_event(event) {\n",
       "        return fig.toolbar_button_onclick(event['data']);\n",
       "    }\n",
       "    function toolbar_mouse_event(event) {\n",
       "        return fig.toolbar_button_onmouseover(event['data']);\n",
       "    }\n",
       "\n",
       "    for(var toolbar_ind in mpl.toolbar_items) {\n",
       "        var name = mpl.toolbar_items[toolbar_ind][0];\n",
       "        var tooltip = mpl.toolbar_items[toolbar_ind][1];\n",
       "        var image = mpl.toolbar_items[toolbar_ind][2];\n",
       "        var method_name = mpl.toolbar_items[toolbar_ind][3];\n",
       "\n",
       "        if (!name) {\n",
       "            // put a spacer in here.\n",
       "            continue;\n",
       "        }\n",
       "        var button = $('<button/>');\n",
       "        button.addClass('ui-button ui-widget ui-state-default ui-corner-all ' +\n",
       "                        'ui-button-icon-only');\n",
       "        button.attr('role', 'button');\n",
       "        button.attr('aria-disabled', 'false');\n",
       "        button.click(method_name, toolbar_event);\n",
       "        button.mouseover(tooltip, toolbar_mouse_event);\n",
       "\n",
       "        var icon_img = $('<span/>');\n",
       "        icon_img.addClass('ui-button-icon-primary ui-icon');\n",
       "        icon_img.addClass(image);\n",
       "        icon_img.addClass('ui-corner-all');\n",
       "\n",
       "        var tooltip_span = $('<span/>');\n",
       "        tooltip_span.addClass('ui-button-text');\n",
       "        tooltip_span.html(tooltip);\n",
       "\n",
       "        button.append(icon_img);\n",
       "        button.append(tooltip_span);\n",
       "\n",
       "        nav_element.append(button);\n",
       "    }\n",
       "\n",
       "    var fmt_picker_span = $('<span/>');\n",
       "\n",
       "    var fmt_picker = $('<select/>');\n",
       "    fmt_picker.addClass('mpl-toolbar-option ui-widget ui-widget-content');\n",
       "    fmt_picker_span.append(fmt_picker);\n",
       "    nav_element.append(fmt_picker_span);\n",
       "    this.format_dropdown = fmt_picker[0];\n",
       "\n",
       "    for (var ind in mpl.extensions) {\n",
       "        var fmt = mpl.extensions[ind];\n",
       "        var option = $(\n",
       "            '<option/>', {selected: fmt === mpl.default_extension}).html(fmt);\n",
       "        fmt_picker.append(option)\n",
       "    }\n",
       "\n",
       "    // Add hover states to the ui-buttons\n",
       "    $( \".ui-button\" ).hover(\n",
       "        function() { $(this).addClass(\"ui-state-hover\");},\n",
       "        function() { $(this).removeClass(\"ui-state-hover\");}\n",
       "    );\n",
       "\n",
       "    var status_bar = $('<span class=\"mpl-message\"/>');\n",
       "    nav_element.append(status_bar);\n",
       "    this.message = status_bar[0];\n",
       "}\n",
       "\n",
       "mpl.figure.prototype.request_resize = function(x_pixels, y_pixels) {\n",
       "    // Request matplotlib to resize the figure. Matplotlib will then trigger a resize in the client,\n",
       "    // which will in turn request a refresh of the image.\n",
       "    this.send_message('resize', {'width': x_pixels, 'height': y_pixels});\n",
       "}\n",
       "\n",
       "mpl.figure.prototype.send_message = function(type, properties) {\n",
       "    properties['type'] = type;\n",
       "    properties['figure_id'] = this.id;\n",
       "    this.ws.send(JSON.stringify(properties));\n",
       "}\n",
       "\n",
       "mpl.figure.prototype.send_draw_message = function() {\n",
       "    if (!this.waiting) {\n",
       "        this.waiting = true;\n",
       "        this.ws.send(JSON.stringify({type: \"draw\", figure_id: this.id}));\n",
       "    }\n",
       "}\n",
       "\n",
       "\n",
       "mpl.figure.prototype.handle_save = function(fig, msg) {\n",
       "    var format_dropdown = fig.format_dropdown;\n",
       "    var format = format_dropdown.options[format_dropdown.selectedIndex].value;\n",
       "    fig.ondownload(fig, format);\n",
       "}\n",
       "\n",
       "\n",
       "mpl.figure.prototype.handle_resize = function(fig, msg) {\n",
       "    var size = msg['size'];\n",
       "    if (size[0] != fig.canvas.width || size[1] != fig.canvas.height) {\n",
       "        fig._resize_canvas(size[0], size[1]);\n",
       "        fig.send_message(\"refresh\", {});\n",
       "    };\n",
       "}\n",
       "\n",
       "mpl.figure.prototype.handle_rubberband = function(fig, msg) {\n",
       "    var x0 = msg['x0'] / mpl.ratio;\n",
       "    var y0 = (fig.canvas.height - msg['y0']) / mpl.ratio;\n",
       "    var x1 = msg['x1'] / mpl.ratio;\n",
       "    var y1 = (fig.canvas.height - msg['y1']) / mpl.ratio;\n",
       "    x0 = Math.floor(x0) + 0.5;\n",
       "    y0 = Math.floor(y0) + 0.5;\n",
       "    x1 = Math.floor(x1) + 0.5;\n",
       "    y1 = Math.floor(y1) + 0.5;\n",
       "    var min_x = Math.min(x0, x1);\n",
       "    var min_y = Math.min(y0, y1);\n",
       "    var width = Math.abs(x1 - x0);\n",
       "    var height = Math.abs(y1 - y0);\n",
       "\n",
       "    fig.rubberband_context.clearRect(\n",
       "        0, 0, fig.canvas.width, fig.canvas.height);\n",
       "\n",
       "    fig.rubberband_context.strokeRect(min_x, min_y, width, height);\n",
       "}\n",
       "\n",
       "mpl.figure.prototype.handle_figure_label = function(fig, msg) {\n",
       "    // Updates the figure title.\n",
       "    fig.header.textContent = msg['label'];\n",
       "}\n",
       "\n",
       "mpl.figure.prototype.handle_cursor = function(fig, msg) {\n",
       "    var cursor = msg['cursor'];\n",
       "    switch(cursor)\n",
       "    {\n",
       "    case 0:\n",
       "        cursor = 'pointer';\n",
       "        break;\n",
       "    case 1:\n",
       "        cursor = 'default';\n",
       "        break;\n",
       "    case 2:\n",
       "        cursor = 'crosshair';\n",
       "        break;\n",
       "    case 3:\n",
       "        cursor = 'move';\n",
       "        break;\n",
       "    }\n",
       "    fig.rubberband_canvas.style.cursor = cursor;\n",
       "}\n",
       "\n",
       "mpl.figure.prototype.handle_message = function(fig, msg) {\n",
       "    fig.message.textContent = msg['message'];\n",
       "}\n",
       "\n",
       "mpl.figure.prototype.handle_draw = function(fig, msg) {\n",
       "    // Request the server to send over a new figure.\n",
       "    fig.send_draw_message();\n",
       "}\n",
       "\n",
       "mpl.figure.prototype.handle_image_mode = function(fig, msg) {\n",
       "    fig.image_mode = msg['mode'];\n",
       "}\n",
       "\n",
       "mpl.figure.prototype.updated_canvas_event = function() {\n",
       "    // Called whenever the canvas gets updated.\n",
       "    this.send_message(\"ack\", {});\n",
       "}\n",
       "\n",
       "// A function to construct a web socket function for onmessage handling.\n",
       "// Called in the figure constructor.\n",
       "mpl.figure.prototype._make_on_message_function = function(fig) {\n",
       "    return function socket_on_message(evt) {\n",
       "        if (evt.data instanceof Blob) {\n",
       "            /* FIXME: We get \"Resource interpreted as Image but\n",
       "             * transferred with MIME type text/plain:\" errors on\n",
       "             * Chrome.  But how to set the MIME type?  It doesn't seem\n",
       "             * to be part of the websocket stream */\n",
       "            evt.data.type = \"image/png\";\n",
       "\n",
       "            /* Free the memory for the previous frames */\n",
       "            if (fig.imageObj.src) {\n",
       "                (window.URL || window.webkitURL).revokeObjectURL(\n",
       "                    fig.imageObj.src);\n",
       "            }\n",
       "\n",
       "            fig.imageObj.src = (window.URL || window.webkitURL).createObjectURL(\n",
       "                evt.data);\n",
       "            fig.updated_canvas_event();\n",
       "            fig.waiting = false;\n",
       "            return;\n",
       "        }\n",
       "        else if (typeof evt.data === 'string' && evt.data.slice(0, 21) == \"data:image/png;base64\") {\n",
       "            fig.imageObj.src = evt.data;\n",
       "            fig.updated_canvas_event();\n",
       "            fig.waiting = false;\n",
       "            return;\n",
       "        }\n",
       "\n",
       "        var msg = JSON.parse(evt.data);\n",
       "        var msg_type = msg['type'];\n",
       "\n",
       "        // Call the  \"handle_{type}\" callback, which takes\n",
       "        // the figure and JSON message as its only arguments.\n",
       "        try {\n",
       "            var callback = fig[\"handle_\" + msg_type];\n",
       "        } catch (e) {\n",
       "            console.log(\"No handler for the '\" + msg_type + \"' message type: \", msg);\n",
       "            return;\n",
       "        }\n",
       "\n",
       "        if (callback) {\n",
       "            try {\n",
       "                // console.log(\"Handling '\" + msg_type + \"' message: \", msg);\n",
       "                callback(fig, msg);\n",
       "            } catch (e) {\n",
       "                console.log(\"Exception inside the 'handler_\" + msg_type + \"' callback:\", e, e.stack, msg);\n",
       "            }\n",
       "        }\n",
       "    };\n",
       "}\n",
       "\n",
       "// from http://stackoverflow.com/questions/1114465/getting-mouse-location-in-canvas\n",
       "mpl.findpos = function(e) {\n",
       "    //this section is from http://www.quirksmode.org/js/events_properties.html\n",
       "    var targ;\n",
       "    if (!e)\n",
       "        e = window.event;\n",
       "    if (e.target)\n",
       "        targ = e.target;\n",
       "    else if (e.srcElement)\n",
       "        targ = e.srcElement;\n",
       "    if (targ.nodeType == 3) // defeat Safari bug\n",
       "        targ = targ.parentNode;\n",
       "\n",
       "    // jQuery normalizes the pageX and pageY\n",
       "    // pageX,Y are the mouse positions relative to the document\n",
       "    // offset() returns the position of the element relative to the document\n",
       "    var x = e.pageX - $(targ).offset().left;\n",
       "    var y = e.pageY - $(targ).offset().top;\n",
       "\n",
       "    return {\"x\": x, \"y\": y};\n",
       "};\n",
       "\n",
       "/*\n",
       " * return a copy of an object with only non-object keys\n",
       " * we need this to avoid circular references\n",
       " * http://stackoverflow.com/a/24161582/3208463\n",
       " */\n",
       "function simpleKeys (original) {\n",
       "  return Object.keys(original).reduce(function (obj, key) {\n",
       "    if (typeof original[key] !== 'object')\n",
       "        obj[key] = original[key]\n",
       "    return obj;\n",
       "  }, {});\n",
       "}\n",
       "\n",
       "mpl.figure.prototype.mouse_event = function(event, name) {\n",
       "    var canvas_pos = mpl.findpos(event)\n",
       "\n",
       "    if (name === 'button_press')\n",
       "    {\n",
       "        this.canvas.focus();\n",
       "        this.canvas_div.focus();\n",
       "    }\n",
       "\n",
       "    var x = canvas_pos.x * mpl.ratio;\n",
       "    var y = canvas_pos.y * mpl.ratio;\n",
       "\n",
       "    this.send_message(name, {x: x, y: y, button: event.button,\n",
       "                             step: event.step,\n",
       "                             guiEvent: simpleKeys(event)});\n",
       "\n",
       "    /* This prevents the web browser from automatically changing to\n",
       "     * the text insertion cursor when the button is pressed.  We want\n",
       "     * to control all of the cursor setting manually through the\n",
       "     * 'cursor' event from matplotlib */\n",
       "    event.preventDefault();\n",
       "    return false;\n",
       "}\n",
       "\n",
       "mpl.figure.prototype._key_event_extra = function(event, name) {\n",
       "    // Handle any extra behaviour associated with a key event\n",
       "}\n",
       "\n",
       "mpl.figure.prototype.key_event = function(event, name) {\n",
       "\n",
       "    // Prevent repeat events\n",
       "    if (name == 'key_press')\n",
       "    {\n",
       "        if (event.which === this._key)\n",
       "            return;\n",
       "        else\n",
       "            this._key = event.which;\n",
       "    }\n",
       "    if (name == 'key_release')\n",
       "        this._key = null;\n",
       "\n",
       "    var value = '';\n",
       "    if (event.ctrlKey && event.which != 17)\n",
       "        value += \"ctrl+\";\n",
       "    if (event.altKey && event.which != 18)\n",
       "        value += \"alt+\";\n",
       "    if (event.shiftKey && event.which != 16)\n",
       "        value += \"shift+\";\n",
       "\n",
       "    value += 'k';\n",
       "    value += event.which.toString();\n",
       "\n",
       "    this._key_event_extra(event, name);\n",
       "\n",
       "    this.send_message(name, {key: value,\n",
       "                             guiEvent: simpleKeys(event)});\n",
       "    return false;\n",
       "}\n",
       "\n",
       "mpl.figure.prototype.toolbar_button_onclick = function(name) {\n",
       "    if (name == 'download') {\n",
       "        this.handle_save(this, null);\n",
       "    } else {\n",
       "        this.send_message(\"toolbar_button\", {name: name});\n",
       "    }\n",
       "};\n",
       "\n",
       "mpl.figure.prototype.toolbar_button_onmouseover = function(tooltip) {\n",
       "    this.message.textContent = tooltip;\n",
       "};\n",
       "mpl.toolbar_items = [[\"Home\", \"Reset original view\", \"fa fa-home icon-home\", \"home\"], [\"Back\", \"Back to previous view\", \"fa fa-arrow-left icon-arrow-left\", \"back\"], [\"Forward\", \"Forward to next view\", \"fa fa-arrow-right icon-arrow-right\", \"forward\"], [\"\", \"\", \"\", \"\"], [\"Pan\", \"Pan axes with left mouse, zoom with right\", \"fa fa-arrows icon-move\", \"pan\"], [\"Zoom\", \"Zoom to rectangle\", \"fa fa-square-o icon-check-empty\", \"zoom\"], [\"\", \"\", \"\", \"\"], [\"Download\", \"Download plot\", \"fa fa-floppy-o icon-save\", \"download\"]];\n",
       "\n",
       "mpl.extensions = [\"eps\", \"jpeg\", \"pdf\", \"png\", \"ps\", \"raw\", \"svg\", \"tif\"];\n",
       "\n",
       "mpl.default_extension = \"png\";var comm_websocket_adapter = function(comm) {\n",
       "    // Create a \"websocket\"-like object which calls the given IPython comm\n",
       "    // object with the appropriate methods. Currently this is a non binary\n",
       "    // socket, so there is still some room for performance tuning.\n",
       "    var ws = {};\n",
       "\n",
       "    ws.close = function() {\n",
       "        comm.close()\n",
       "    };\n",
       "    ws.send = function(m) {\n",
       "        //console.log('sending', m);\n",
       "        comm.send(m);\n",
       "    };\n",
       "    // Register the callback with on_msg.\n",
       "    comm.on_msg(function(msg) {\n",
       "        //console.log('receiving', msg['content']['data'], msg);\n",
       "        // Pass the mpl event to the overridden (by mpl) onmessage function.\n",
       "        ws.onmessage(msg['content']['data'])\n",
       "    });\n",
       "    return ws;\n",
       "}\n",
       "\n",
       "mpl.mpl_figure_comm = function(comm, msg) {\n",
       "    // This is the function which gets called when the mpl process\n",
       "    // starts-up an IPython Comm through the \"matplotlib\" channel.\n",
       "\n",
       "    var id = msg.content.data.id;\n",
       "    // Get hold of the div created by the display call when the Comm\n",
       "    // socket was opened in Python.\n",
       "    var element = $(\"#\" + id);\n",
       "    var ws_proxy = comm_websocket_adapter(comm)\n",
       "\n",
       "    function ondownload(figure, format) {\n",
       "        window.open(figure.imageObj.src);\n",
       "    }\n",
       "\n",
       "    var fig = new mpl.figure(id, ws_proxy,\n",
       "                           ondownload,\n",
       "                           element.get(0));\n",
       "\n",
       "    // Call onopen now - mpl needs it, as it is assuming we've passed it a real\n",
       "    // web socket which is closed, not our websocket->open comm proxy.\n",
       "    ws_proxy.onopen();\n",
       "\n",
       "    fig.parent_element = element.get(0);\n",
       "    fig.cell_info = mpl.find_output_cell(\"<div id='\" + id + \"'></div>\");\n",
       "    if (!fig.cell_info) {\n",
       "        console.error(\"Failed to find cell for figure\", id, fig);\n",
       "        return;\n",
       "    }\n",
       "\n",
       "    var output_index = fig.cell_info[2]\n",
       "    var cell = fig.cell_info[0];\n",
       "\n",
       "};\n",
       "\n",
       "mpl.figure.prototype.handle_close = function(fig, msg) {\n",
       "    var width = fig.canvas.width/mpl.ratio\n",
       "    fig.root.unbind('remove')\n",
       "\n",
       "    // Update the output cell to use the data from the current canvas.\n",
       "    fig.push_to_output();\n",
       "    var dataURL = fig.canvas.toDataURL();\n",
       "    // Re-enable the keyboard manager in IPython - without this line, in FF,\n",
       "    // the notebook keyboard shortcuts fail.\n",
       "    IPython.keyboard_manager.enable()\n",
       "    $(fig.parent_element).html('<img src=\"' + dataURL + '\" width=\"' + width + '\">');\n",
       "    fig.close_ws(fig, msg);\n",
       "}\n",
       "\n",
       "mpl.figure.prototype.close_ws = function(fig, msg){\n",
       "    fig.send_message('closing', msg);\n",
       "    // fig.ws.close()\n",
       "}\n",
       "\n",
       "mpl.figure.prototype.push_to_output = function(remove_interactive) {\n",
       "    // Turn the data on the canvas into data in the output cell.\n",
       "    var width = this.canvas.width/mpl.ratio\n",
       "    var dataURL = this.canvas.toDataURL();\n",
       "    this.cell_info[1]['text/html'] = '<img src=\"' + dataURL + '\" width=\"' + width + '\">';\n",
       "}\n",
       "\n",
       "mpl.figure.prototype.updated_canvas_event = function() {\n",
       "    // Tell IPython that the notebook contents must change.\n",
       "    IPython.notebook.set_dirty(true);\n",
       "    this.send_message(\"ack\", {});\n",
       "    var fig = this;\n",
       "    // Wait a second, then push the new image to the DOM so\n",
       "    // that it is saved nicely (might be nice to debounce this).\n",
       "    setTimeout(function () { fig.push_to_output() }, 1000);\n",
       "}\n",
       "\n",
       "mpl.figure.prototype._init_toolbar = function() {\n",
       "    var fig = this;\n",
       "\n",
       "    var nav_element = $('<div/>')\n",
       "    nav_element.attr('style', 'width: 100%');\n",
       "    this.root.append(nav_element);\n",
       "\n",
       "    // Define a callback function for later on.\n",
       "    function toolbar_event(event) {\n",
       "        return fig.toolbar_button_onclick(event['data']);\n",
       "    }\n",
       "    function toolbar_mouse_event(event) {\n",
       "        return fig.toolbar_button_onmouseover(event['data']);\n",
       "    }\n",
       "\n",
       "    for(var toolbar_ind in mpl.toolbar_items){\n",
       "        var name = mpl.toolbar_items[toolbar_ind][0];\n",
       "        var tooltip = mpl.toolbar_items[toolbar_ind][1];\n",
       "        var image = mpl.toolbar_items[toolbar_ind][2];\n",
       "        var method_name = mpl.toolbar_items[toolbar_ind][3];\n",
       "\n",
       "        if (!name) { continue; };\n",
       "\n",
       "        var button = $('<button class=\"btn btn-default\" href=\"#\" title=\"' + name + '\"><i class=\"fa ' + image + ' fa-lg\"></i></button>');\n",
       "        button.click(method_name, toolbar_event);\n",
       "        button.mouseover(tooltip, toolbar_mouse_event);\n",
       "        nav_element.append(button);\n",
       "    }\n",
       "\n",
       "    // Add the status bar.\n",
       "    var status_bar = $('<span class=\"mpl-message\" style=\"text-align:right; float: right;\"/>');\n",
       "    nav_element.append(status_bar);\n",
       "    this.message = status_bar[0];\n",
       "\n",
       "    // Add the close button to the window.\n",
       "    var buttongrp = $('<div class=\"btn-group inline pull-right\"></div>');\n",
       "    var button = $('<button class=\"btn btn-mini btn-primary\" href=\"#\" title=\"Stop Interaction\"><i class=\"fa fa-power-off icon-remove icon-large\"></i></button>');\n",
       "    button.click(function (evt) { fig.handle_close(fig, {}); } );\n",
       "    button.mouseover('Stop Interaction', toolbar_mouse_event);\n",
       "    buttongrp.append(button);\n",
       "    var titlebar = this.root.find($('.ui-dialog-titlebar'));\n",
       "    titlebar.prepend(buttongrp);\n",
       "}\n",
       "\n",
       "mpl.figure.prototype._root_extra_style = function(el){\n",
       "    var fig = this\n",
       "    el.on(\"remove\", function(){\n",
       "\tfig.close_ws(fig, {});\n",
       "    });\n",
       "}\n",
       "\n",
       "mpl.figure.prototype._canvas_extra_style = function(el){\n",
       "    // this is important to make the div 'focusable\n",
       "    el.attr('tabindex', 0)\n",
       "    // reach out to IPython and tell the keyboard manager to turn it's self\n",
       "    // off when our div gets focus\n",
       "\n",
       "    // location in version 3\n",
       "    if (IPython.notebook.keyboard_manager) {\n",
       "        IPython.notebook.keyboard_manager.register_events(el);\n",
       "    }\n",
       "    else {\n",
       "        // location in version 2\n",
       "        IPython.keyboard_manager.register_events(el);\n",
       "    }\n",
       "\n",
       "}\n",
       "\n",
       "mpl.figure.prototype._key_event_extra = function(event, name) {\n",
       "    var manager = IPython.notebook.keyboard_manager;\n",
       "    if (!manager)\n",
       "        manager = IPython.keyboard_manager;\n",
       "\n",
       "    // Check for shift+enter\n",
       "    if (event.shiftKey && event.which == 13) {\n",
       "        this.canvas_div.blur();\n",
       "        event.shiftKey = false;\n",
       "        // Send a \"J\" for go to next cell\n",
       "        event.which = 74;\n",
       "        event.keyCode = 74;\n",
       "        manager.command_mode();\n",
       "        manager.handle_keydown(event);\n",
       "    }\n",
       "}\n",
       "\n",
       "mpl.figure.prototype.handle_save = function(fig, msg) {\n",
       "    fig.ondownload(fig, null);\n",
       "}\n",
       "\n",
       "\n",
       "mpl.find_output_cell = function(html_output) {\n",
       "    // Return the cell and output element which can be found *uniquely* in the notebook.\n",
       "    // Note - this is a bit hacky, but it is done because the \"notebook_saving.Notebook\"\n",
       "    // IPython event is triggered only after the cells have been serialised, which for\n",
       "    // our purposes (turning an active figure into a static one), is too late.\n",
       "    var cells = IPython.notebook.get_cells();\n",
       "    var ncells = cells.length;\n",
       "    for (var i=0; i<ncells; i++) {\n",
       "        var cell = cells[i];\n",
       "        if (cell.cell_type === 'code'){\n",
       "            for (var j=0; j<cell.output_area.outputs.length; j++) {\n",
       "                var data = cell.output_area.outputs[j];\n",
       "                if (data.data) {\n",
       "                    // IPython >= 3 moved mimebundle to data attribute of output\n",
       "                    data = data.data;\n",
       "                }\n",
       "                if (data['text/html'] == html_output) {\n",
       "                    return [cell, data, j];\n",
       "                }\n",
       "            }\n",
       "        }\n",
       "    }\n",
       "}\n",
       "\n",
       "// Register the function which deals with the matplotlib target/channel.\n",
       "// The kernel may be null if the page has been refreshed.\n",
       "if (IPython.notebook.kernel != null) {\n",
       "    IPython.notebook.kernel.comm_manager.register_target('matplotlib', mpl.mpl_figure_comm);\n",
       "}\n"
      ],
      "text/plain": [
       "<IPython.core.display.Javascript object>"
      ]
     },
     "metadata": {},
     "output_type": "display_data"
    },
    {
     "data": {
      "text/html": [
       "<img src=\"data:image/png;base64,iVBORw0KGgoAAAANSUhEUgAAAoAAAAHgCAYAAAA10dzkAAAgAElEQVR4nOy9d3Qb153+TcnHduRkk10rZeM4iZN9nb72xut4z27ySyLbsp1YXfZuIqukuMiO5N5kq1sSOylR3eqVTZRAgARIAmwgQaIDJNgL2DsJdlIu5PP+Ac4YAEES4AyGEPH9nPMcm+Jg7gDE3O9n7uDiBoEgCIIgCIIIKILm+gAIgiAIgiAIYSEBJAiCIAiCCDBIAAmCIAiCIAIMEkCCIAiCIIgAgwSQIAiCIAgiwCABJAiCIAiCCDBIAAmCIAiCIAIMEkCCIAiCIIgAgwSQIAiCIAgiwCABJAiCIAiCCDBIAAmCIAiCIAIMEkCCIAiCIIgAgwSQIAiCIAgiwCABJAiCIAiCCDBIAAmCIAiCIAIMEkCCIAiCIIgAgwSQIAiCIAgiwCABJAiCIAiCCDBIAAmCIAiCIAIMEkCCIAiCIIgAgwSQIAiCIAgiwCABJAiCIAiCCDBIAAmCIAiCIAIMEkCCIAiCIIgAgwSQIAiCIAgiwCABJAiCIAiCCDBIAAmCIAiCIAIMEkCCIAiCIIgAgwSQIAiCIAgiwCABJAiCIAiCCDBIAAmCIAiCIAIMEkCCIAiCIIgAgwSQIAiCIAgiwCABJAiCIAiCCDBIAAmCIAiCIAIMEkCCIAiCIIgAgwSQIAiCIAgiwCABJAiCIAiCCDBIAAmCIAiCIAIMEkCCIAiCIIgAgwSQIAiCIAgiwCABJAiCIAiCCDBIAAmCIAiCIAIMEkCCIAiCIIgAgwSQIAiCIAgiwCABJAiCIAiCCDBIAAmCIAiCIAIMEkCCIAiCIIgAgwSQIAiCIAgiwCABJAiCIAiCCDBIAAmCIAiCIAIMEkCCIAiCIIgAgwSQIAiCIAgiwCABJAiCIAiCCDBIAAmCIAiCIAIMEkCCIAiCIIgAgwSQIAiCIAgiwCABJAiCIAiCCDBIAAmCIAiCIAIMEkCCIAiCIIgAgwSQIAiCIAgiwCABJAiCIAiCCDBIAAmCIAiCIAIMEkCCIAiCIIgAgwSQIAiCIAgiwCABJAiCIAiCCDBIAAmCIAiCIAIMEkCCIAiCIIgAgwSQIAiCIAgiwCABJAiCIAiCCDBIAAmCIAiCIAIMEkCCIAiCIIgAgwSQIAiCIAgiwCABJAiCIAiCCDBIAAmCIAiCIAIMEkCCIAiCIIgAgwSQIAiCIAgiwCABJAiCIAiCCDBIAAmCIAiCIAIMEkCCIAiCIIgAgwSQIAiCIAgiwCABJAiCIAiCCDBIAAmCIAiCIAIMEkCCIAiCIIgAgwSQIAiCIAgiwCABJAiCIAiCCDBIAAmCIAiCIAIMEkCCIAiCIIgAgwSQIAiCIAgiwCABJAiCIAiCCDBIAAmCIAiCIAIMEkCCIAiCIIgAgwSQIAiCIAgiwCABJAiCIAiCCDBIAAmCIAiCIAIMEkCCIAiCIIgAgwTQAyQSCWw2Gz799NNJ+eyzzybl888/d8rY2JhTxsfHJ4UgCIIgiOlxVz9d41pzXeNao93ls88+m/e1mQRwBsbGxnDHHXdAr9ejp6fHKTabbcb09vait7cX9fX1qKurY392TF9fn1P6+/vR39+PgYEBNoODg04ZGhrC0NAQhoeHMTw8jJGREaeMjo465ebNm5PyySefOMUTwXV3opDgEgRB+BdcJckTUXI3AOIY13riWnNc465Ouday0dHRSfXONWVlZejr65vy90zddIy77T777LO5/jP6FBLAGWAE0Gg0YmBggJWz6eIqdH19fdDr9dDr9ezP7kTQNZ4Ips1mm1JMOzo6IJVK0dXVNWm7qR47W8F1POby8nL09PS4FVzH12kqufUnwXXXKZLgEsT8wB8kiQ9R8lSSKisrMTAwMKNAeSpKM0lUW1sbMjIyPBau2cTdc5dIJOjq6nL7u6ni+pqSABIYGxvDnXfeCYPB4DQi520MBgP0ej2nfXibnp4eiEQi2Gw2j7b3RG6nElwmTJudnZ0+FVzHn0tLS6HT6aaV2+lE2VO5ZdLW1oba2tpZj94ygjtdZzhT5+SuKNDHEwhfIMQtN3+QpN7eXlitVq8FxFtJYn5fX18PlUo15Ta+kCSmHngjRp5cbE8VZhDCm8fwEYlEgu7ubk77IAEkMDY2hi996Uu3pADabDavBJCP9Pb2QiQSobu7W7A2LRYLCgoKBBHcvr4+VFdXIzMzkxfBnWrk1fFnvV4Pi8XileDOZvSWkduamhpeP57gWsg8KSq32scT+JAkX9xym0mUPJEkV1FqaGhAd3c3r5I01WiSVqtFbW2tIJLU3NyM9PR0TnLkjSTV1dUhJydHMCliBLC3t1ewNjs6OiCTyUgA/RQSwBlgBJCrvBmNRhLAORZAvlJTU4OsrCzB2lOr1SgqKppxOz7ktqqqCllZWbx9RGGqUdeenh5YLBZoNJpJ2/ri4wmlpaXo7u6e9edvPREld1LR1NSEtrY2n99yq62thVqtnlKS+BSl3Nxc1NbWCiJJ+fn5qK6uFkQaWltbkZ6eLpikWK3WORHAvr4+wdpsb28nAfRjSABnYGxsDIsWLYJOp+NUxEkAfZe5EMDMzEzB2vNUAPlIdXW1YHJbXFyMwsJCj7blOnorEonQ3t4+q8/fTvdh8pluuWm1WpSUlPhclKqrq5Gfny9Icc3NzYXVahWkLRJA/kIC6F1IAAmMjY3hrrvuIgH0MEyxJQHkLySA3MN8LnU2j3U3AuhpGAH0dcEjAeQeEkD+QwLo35AAzgAjgFqtllMBIgH0XUgA+QsJ4OSQADqHBJCfkAD6LmKxmATQA0gAZ2BsbAxf/vKXodFoOBUgo9HIeRTR2zAC2NPTI1ibcyGAJSUl81oANRoNCSDHkADyl/kqgC0tLYILYG5urmDtBZoA9vT0cNoHCSCBsbExfOUrXyEB9DCBIIC1tbUkgDyEBJC/kAByT0tLCzIyMgRp6+ZNEkBfhgTQM0gAZ4ARQLVazakAkQD6LiSA/IUEcHJIAJ1DAshPhBbAkZERwQWwra2NBNCPIQGcgbGxMfzTP/0T50JlMpkEF0BmRi4JIL+ZCwE0m82CtEUCODkkgM4hAeQngSKAaWlpgrXHJDk5mQTQA0gAZ4AE0LswAtjV1SVYmyUlJVCpVIK1RwLIT0gA+QsJIPeQAPKfuRRAm83G+fUiAQxwGAHkOsJEAui7kADyFxLAyTEajbMuIiSA3EICyF8YAezv7xesTRJA/4YEcAbGx8fx1a9+lbNgkAD6LiSA/EVIAbRYLH4vgBcvXkRQUBCuXr06qyIyHwUwJyeHBJCH1NbWkgD6KCSAnkECOAPj4+P42te+xosAcv0uQW8zF6ty9Pf3kwDyHBJA7pmNAPb19eH+++9HUFAQfvzjH2NkZMTrIkICyC15eXkkgDyFBND714sEMMAYGhpCQ0MDmpub0d7ejs7OTvzzP/8z0tLS0NLSgp6eHrfrhc4UEkDfhQSQvwi5zrG/C+CzG9cgKCiIzWxGAeerANbV1QnSVl5eHmpqagRpiwSQ//i7ADqu4T00NIShoSH2/O/r6yMBDDQSEhKcOn3XbN26FSKRCCKRCMnJyRCLxRCLxZBIJEhJSUFqaiqkUilkMhnS0tKQlpaG9PR0pKamIiUlBQqFApmZmcjKykJ2djays7ORk5OD3NxcKJVK5OXlIT8/HyqVCgUFBSgsLERhYSHUajU0Gg20Wi10Oh30ej0MBgOMRiOMRiNMJhPMZjOKiopQXFwMi8WC4uJiiEQiFBcXo6ysDOXl5aioqEBlZSWqqqpQXV2Nmpoa1NbWora2FlarFXV1daivr0dDQwMaGxvR1NSE5uZmtLS0oKWlBa2trWhra0N7ezs6OjrQ2dmJrq4udHd3o6enB93d3U7rrnoryrMJCSB/IQG0p6+vD//y7W8gaMFCBAUFYeHChbMaBSQB5BYSwNmHkZvh4WEMDQ05XZwza2LbbDa23+7q6kJnZyc6OjrQ3t6OtrY2tLa2oqWlBc3NzWhqakJjYyMaGxtRX1+P+vp6WK1WWK1W1NTUoKamBlVVVaiqqkJFRQUqKipgMBiQkpKC0tJSlJSUsHWpqKgIZrMZJpMJRqMRBoMBer0eOp0OWq0WGo0GarUahYWFKCgogEqlQn5+PvLy8qBUKpGbm4ucnBxkZ2cjKysLmZmZUCgUkMvlyMjIgEgkgkwmg0wmg1QqZeuvRCKBWCxGcnIyW8enSkZGBgmgv3H06FHcd999uPPOO/HQQw9BqVT6pJ2xsTF8+umnGB4exuLFi5GSkoLq6mo0NzdPe6K4niwNDQ2or69HYWEhlEolrFYramtrUVNTg+rqalRVVaGyshIVFRUoLy9HWVkZysrKpj1hPDlpCgsLoVKpIBKJWLF0PXGmOnnS09NZeZ3qBPL0JPJWljMyMpCRkQG5XO6xLMvlcshkMo9kmXn9XGW5pKQEpaWl7Os/nSybTCakpaVxluWenh7YbDb09vZOK8skgMIL4IULF9xeAHo7CkgCyC3uBNDdqM3g4CAGBux3IGYrN6WlpZBKpaivr0ddXZ1HfTUXscnKykJqaipUKhXy8vKQl5eH3Nxc5ObmetQ/c5Ebx345OTkZEokEEokEqampSE1NZeWJGcCYqk+eafBCqVRCIpFM2RdP1w8zfXBFRQUrloxoMuLJiCgjpkwfLBKJUFdXN23/667vHRwcxNDQECvNJIB+RFxcHG6//XacOnUKZWVleO211/DlL38ZDQ0NPmtzfHwc//Iv/wKlUsmpAJnNZsFvAQvxnXzM7XCm0+3p6YFIJEJra+uMHe9UsuzY+XrSATMSOFUn7MkV5kxXmY6dcVpaGsRi8aTOeLoOmYssMz97I8s5OTmzGllWKpWQSqW8yTLTUbuTZaa91tZW3mSZDwFkP/u3YIGT/M1mFNBbAXQdtfFUbIqLi5Gdnc3LqM1MciOVSpGXl8f7qI07sXE8F7w5hxzPo6kuOF3FJj09HcnJydOKjUql8vhCcya50Wg0yMjIcHvOTHdxOdO5MpXYMCOAfX19GB0dxejoqM8FXuj1lZmIRCL09vZy2gd9BtDPeOSRR7B582anf/vJT36C999/32dtjo+P4+6770Zubi5nAeS6nJw/CqA7IeTylRuzSWlpqeC3gBUKxaxem+kK+VSynJ+fD41GM6MsMwV9OlmeacQiLy8PUql0xsI+U3H3pMAzcjvb0QvXIj/dyLJIJEJ6erpHsnz69OlpPwZy9uxZt6M27uSGOR5fjtow+0lOTuZl1GYmsZHJZFCpVLyP2riTm+zsbJSUlHg8ajMyMjJrsZmLW8BKpVKw9oaHhyESiTAwMCBYmySA/s0tI4CffPIJbrvtNly/ft3p31999VX89re/9Vm7JIAkgK6ZrQDONoF4C9gTWe7o6Jj2ll5TUxMaGhrQ0NAAkUiEyspKt7f1XGW5pKQEZ86cwbOb1+Gf9x3Ej/dsw9GjR3Hs2DGcP38e5eXlHo/aKJVKaLXaWY/auIrNVHITSLeAfZXm5ma/F8AvRohHMDg0hP6BQfQNDMLW14+e3n5023rR2W1DR7cNbZ3daOnoQnN7J5raOlDX1Ipzl2NRaW1AbWMrqhuaUVnXhEprI8prG1BW04CS6joUV1pRVFkLU3kNjGXVMJRWQWephNZSCXVROQrMZSgwlSLfWAKl3oJcXTGytUXI0hRBoTZBXmBEhsqAtHw94qVZCDl6BpIcDcQ5aiRnFeJGZgGuK1S4lpGPhPQ8xKcpESfLRaw0B/FpSuQZSlDX3DarWfdMSAA945YRwJaWFgQFBUGlUjn9+/79+/GjH/3IZ+2Oj49j8eLFyMnJ4VTsAkUABwa4fenubMLcBhaqPavVSgLIQ/z5M4ADAwP48MgufCvLhIflybMeVRLqM4BVVVW3lACOjo6yEjMwODRJYrp6etHRbYM0XQ69uZiVmMbWDtQ3t6GuuY2VmKr65kkSY6mqYyXGVFYzSWIKzeWsxOQZSpCrK4ZIrsTBU5egUJugKDSxEiPL0yNVqXWSGFFmISsxiRn5ThJzJTUbl1OycVGcifPJCpwTyXH2RgZOJ6Xj1LU0nEyU4USCDAdOXMG7IUdxJFaCmCtiHLosRvQlESIv3EDEhRsIP5eE0LPXEHImEQdOJ2D/qQR8dDJu1tl7Ihab3tmH3ceucNqPN/ng4Dk8/0HolL8/cDoB50RyZKrNqG5oxtDwMC/vUT4EcHh4mATQX2AEsKCgwOnf9+3bhx//+Mc+a3d8fBxf//rXkZ2dzakAzaUACvmVLLMttlxCAshfhBZAodZwns17cuehnfhWlgm/lKdgZGByYWIkZmh4mJWY3v4BJ4nJylWiQKNDa0f3hMR0TpKYmoYWVmIqrI2TJMZcUctKjL6kClpLJTTFFazEqIyluCZV4OTlROToipGlKUKm2sxKTLrKwEpMSq4W4hw1xNlqVmKS5CoHiVEiVpqDq6k5rMRcEGeyEnPmega2hR9H+Jl4nEiQ4Vh8Ko7GpU6SmKiLIlZiws4mzVpiXt4VhXfCPxZEVrZFn8ULH4YJJkfvhH+MzTsjBWvPHwRw/6kEnL2RAXmBEZXWRgwODfnkIoUE0DNuGQGcy1vAfAhgUVERCaCPMt8FUKvVkgByjDfvyf7+flgbm7F5+9v4+uE43PdRFPYfvYKQM4kIPp3olcRs2XsIbwQf83mhfTvsJF7eFSVIUX9pRwTeizwtSFskgPxlLgTww4Pn8G7wYaSrDCiraUD/wOzX1fZmdJmPNY9JAP2MRx55BC+//LLTv/30pz/1+SSQb3zjG5yLIgmg70ICyF8CUQB7e/tQZW1AltqES+JMhJxJxO5jV/DU31/G4u1HcO+HYXgv5MSsCiAJILeQAPKXPcevCiKAJxJkkCp1KKmug7WuXtDPVZIAesctJYDM18CcOXMGZWVleP311/HlL38Z9fX1PmtzfHwc3/zmNzl/8W9RURHUarVg0jAwMDercsxUbH0REkD+UlNTI9iXXM+VAPbYelFabUWGSo+zNzJw4FQ8dh+7Mil/+OtmLN5+BPdsj8CWPdGzKoYkgNwy3wVQqL/ZRyd9J4BH41IhydGgqLIWPb3Oq4wIPbOaBNA7bikBBOxfBP39738fd9xxBx566CHk5ub6tD0SwNkV246ODsHaCwQBNJlMgrQ1HwWws7sHJ85dwg15Hj5OlOGjE7Fuhc81f9z0IhZvP4J/3R6Fv7y3Z1bFkQSQW0gA+QtfAngkVoLkrEKYymrQbZv+c3YkgP7NLSeAQjM+Po5vfetbnAs+CaDvUlZWRgLIU+aDALZ1dEJfUoHkzAIcjU1hC9/2mAseiR8rgOtfwOLtR/DN7Qfxp63vzqpYbtl7CG+GHPd5cScB5J5AEcA9x6969bhDl8W4rlBBX1KFzu6Z19clAbx1IAGcgfHxcfzrv/4rCaAXIQHkNySAU6e/vx9Nre1Qm8twLSMPhy4nu5W5WQngn5/H4u1H8PXth7D6+X/MquiSAHILCSB/8VQAoy6KcC0jH5riCrR1dnNaMWQuBHBkZIQE0ENIAGeAEUC5XM6pUM2lAAr5ebyBgQEkJyeTAPIYEsAvwszQzdNbECfNQeT56x7J3GwE8Oln/4rF249g8fYjWLbhhVkVXRJAbiEB5C9TCWDEhRuIT1Oi0FyO5vZOXpeIE/rLtR0FsL+/n9N+SAAJjI+P49vf/jYyMjI4Fbvi4mLBBXBgQPgJGQMDgSGAXC8IvEkgC2Bfn32GbrbGjMuSTIROzND1NrMRwGWrN7EC+PT6v82q6JIAcsvmnZEkgDyFEcCQM4mIleZAZSxFU1uHT9cEbm5uhlwuJwH0U0gAZ2B8fBz33HMPCaAXmQsBzMvLE6w9EkB+4k4AmRm6cpUB56aZoSuEAK5YtoEVwD+uf35WRVdIAXxl9+xmKnsboQXw3YhTgrQ1XwUw9Ow1XE7JRrbGjHOXYzmLEQng/IEEcAYYAUxPT+dU7IqLiwVb9soxJID8hwSQn1gsFuTkKlFUXg2pUotT1zyfoSuEAD7x9N/x9TcPYvF7MXh6w99nVXxJALmFBND7BJ9OxEVxJrK1RahtbMXwsH1N3cHBQYhEIgwO+v7LmEkAbw1IAGeAEcC0tDROxY4E0HchAeQvvhbA9s4u6EsqIM4qxL5jF/GPPQd9InxcBHBbzCU8/Eo0vvXnA2zuX7cd2496N3vyo5MkgFxDAjhzHNfTraqfej1dRgCHfLT8GgngrQcJ4AyMj4/jO9/5DgmgF0lOTkZ7e7tg7QktgHV1dSSAHoaZoZskz0fMFecZum8EH8Mru6P9TgAffiUa/+ogf0x+9Yr3gkUCyC0kgJOz/1QCzly3r6db4cV6uoEmgAMDAySAM0ACOAOMAMpkMk6FcC4FUMjRuIEBEkC+o9PpbgkB7O/vR11TCztDN+rC9DN0/VEAX488P0n8HPPWwUteFWsSQG4hAYzDvo/j8fG1NKTl6zmtpzsXAtjU1CS4AA4PD5MAeggJ4AyMj4/j3nvvhVQq5VRYLRYLCaCPQgLIX7wRwL6+PlTVNc56hq4/CuDf9p2eVgCfDz7rVZEnAeSWQBXA4/FSpCq1sFTVobefm8jMtQAqFAoSQD+FBHAGxsfH8d3vfpcE0IuQAPIbIQWwtrZ2SgG09fairLqOtxm6/iiANAI4c0gA+YmjAB6NS4U4Rw1zxeT1dPkKCSAJoCskgDPACGBqaiqnwirkwveOEXpCxsDAAMRisaACWF5eTgLIUxwFsKunB8UVNT6boeuPArj7GH0GcKaQAHLP4asSnE6Q4FKiaMb1dEkASQB9BQngDIyPj+N73/seUlJSOBVWEkDfhQSQn7R3dkGRV4iIExdwLM6+hq4vpcxfBdDdLOD/b/1OfHjkiteFngSQW+aLAB68nMyup9sxsZ5uVVUV8vPzBROjgYEBEkASQCdIAGdgfHwc3//+90kAvQgJIL/xlQA2tbZDU+Q8Q/fdiFN4cXu4IFLmrwLIZOXyjXjolXfwg7cO4ImXtmAvfQ0MPjpJAuhJIi/cQOLEerqtHe7X0yUB9E2GhoZIAD2EBHAG+BLAkpISEkAfhQRw5vT396O+qRX5BgviZblTztAlAbyC3TFnsH/rWgRveJjN2395HHujzpAAkgC6Tfj564iTKVFgLvN4PV0SQN8KINcvvCYBJDA+Po777rsPEomEUwGeSwEUUsYGBuZGAJVKpWDt1dXVcV4a0JvMRgD7+vpQXd+EHK0ZlyVZCDt7zSP5IQG8gv1b1+LAhl85CeCBDQ9j/ytrSQDnsQC+H3XGYwEMO5uEWGkO8o0laGyd3Xq6VVVVUKlUggvg8BRfFO2LNDY2kgD6MSSAMzA+Po4f/OAHJIBeRCwWo62tTbD2AkEAjUbjtNuwM3QLDDgvkuPAqYRZiVKgC+CeyCNO4ueafQe9kzkSwFtLAF/cHu72dyFnEnE5JRu5umLUNbdhZGSEs6gEigBmZmaSAPopJIAe8IMf/ABisZhTEScB9F0CUQCZGboypRanr6Vh38k4XkQp0AVw74F90wtgSDAJYAAIYPDpRFyYWE+3pqGFXU+Xz5AAkgDONSSAHvDDH/4QycnJnIp4SUkJVCqVoCLGyBgJIL+ZCwFUFaphKKmEJLsQx+NTfTZDN9AFkEYAA1MA959KwKGLSTh4+tK06+mSAJIAzidIAD3g3/7t30gAvWyTBJBbmts6oCkqw3V5PrZHn8Kr+w4LIkqBLoC7j7n/DOD+DQ9jz/PLvRYLEkD/FMB9H8fjdFI6MlQGVFgbMTA4JLiskAD6Jnx93yEJYADy2Wefoa+vD/39/RgcHMTQ0BB++MMfIiEhAe3t7ejp6UFfXx+7DZOZCnogCaBEIpnXAlhfX8+rADrO0E1Iy0XUxRtOQrL1oxgSQAEF0N0s4Df+thRvvLmXBPAWFUBmPV1Znh6lNfVu19Od7wLY399PAjiR0dFRjI6OYmRkhM3w8DCboaEhDAwMkAAGGtnZ2QgKCpoyGzduhEgkmjbJyclsxGIxxGIxkpOTIRKJIJFIIJFIkJKS4pTU1FQ2UqmUjUwmY5OWlsYmPT2dTUZGBhu5XM5GoVBAJBIhIyMDCoUCmZmZbLKysthkZ2ezycnJcUpubi4bpVIJpVKJvLw8p+Tn57NRqVQQiURQKpUoKChgU1hYyEatVjtFo9Gw0Wq10Gq10Ol0TtHr9WwMBgMbo9EIpVKJtLQ0mEwmp5jNZjZFRUVsiouL2VgsFjYlJSVsSktL2ZSVlTlFr9dDKpWivLwcFRUVbCorK9lUVVWxqa6uZlNTU4Oqqiqo9SaI0nNw/KoIuw5fwLsRp5zyXuRpNi/visIru6PxXuRpvB91xm22RZ91mw8OnpsyHx46PylvhhzHCx+GYXvMhUnZcfii2+w8cmnK7Dp62W38WgAnsmr1M3h86zrc/86H+J833sI/3vBvAWSWFdt7InZS9hy/6jbunvdUfzPmb/rCh2F4O+wkdh65NOV7Ysfhi27fQ+7ecx8eOu/2/cl8LcvrB446vaenOgccz5n3Ik8j9FQsLt1IgyJPjbKKStTW1rKpqalhw5ybBoMBMpmMPW+Zc9nxHC8vL2fj2Cc49hdMH+LYtzj2OUw/lJeXh/T0dJjN5kl9l9FoZMP0dY59oGPfyPSZWq2W7Ucd+1em32X6ZpVKhYKCAqhUKjaOfbhj3870+Y51wLE+ONYOx5rC1Jn09HSIxWIoFAooFAq2NjnWLMda5ljjHGsfUw8d62RqaipbP5m6KpFIIBaLIRKJ2LrLZKa67Zrs7GwSwECDGQHs7e2FzWZDT08P7r//fpw/fx7l5eVoaGhAV1cXm87OTnR2dqKjo8Mp7e3tbNra2mAymZCbm4vW1lY2LS0tTmlubmbT1NTEprGxkU1DQwOb+vp6NnV1dWysViub5ORklJWVTdvxOcqKY8c3Xec3XQeYnJwMo9HoUSdYVFTkJGqedISunWFOTg5kMtmkDtFRLF2l0xXfpJ8AACAASURBVFFIHUV1qk7RsWPMzMyEWCye1DFO1TkqFJmIvy7GkbNXsSv6JP6xKwovbg9n88KHYW7z/AeheP6DUPz1vQP463sH2J//vi3Ebf72fvCUYfbhmr+8u39SNr2zj/2v0HF3PEymeg5TPWfH12bTO/ucfmZeS9e88GEYNn2wD7984//w3a2Psbn/1dVYt/nNKf9eU+2POUZP/1ae/o3m4u/j+v6Yzd9lqvfuVK/fX97dj79vC5n0ejueP0zeDj6MsBPncT4uCbJ0udcXsVlZWZBIJOz57+7i1fUC1vXC1fXi1d2FK9Of5ebmIj093e1FqzcXrFNdrDr21RUVFSgpKYFIJHK6WHV3oepYIxyl2bGuMLXGsQbV19eztYmpVxaLBenp6Wwtc6xxjrWPqYltbW1sHGuoY21laq5jHe7q6kJ3dze6u7vR3t4OkUiEzs5O2Gw2Nr29vWyYu3iOd/Ic78oMDg6iv7+fBFAoDhw4gIcffhhf+cpX8I1vfAMrV65ERUWF0zY3b97Eli1bsHjxYtx1111Yvnw5mpqanLZpaGjAsmXLcNddd2Hx4sXYunUrPvnkE07Hdv/99+P69eucbvOVlpbO2S1gIW/HDgwIfwu4oqICubm5grU30y3grp4eFFfW8jZDV+hbwC98GDbtNjONELmLuxGi1/Yfwcu7ojiPFDmOGLnL+1FnsOmdfXgn/ONpR4yYPPLuc/je1sedBPC7Wx/Dg1tWez3a+vKuKGz9KGbS83D3nGczysq89m+GHMfmnZHs6Kq7uBsBdDdauPdE7C1xCzjmihiizEIYy6rR1cN9PV2hb1dWVlbOyS1gPr7CxtM0NDQgKyvL724Be5KRkRESQKF48sknce7cOZSUlMBsNuPpp5/G9773PQwNDbHbbN68Gd/5zncgl8thNBqxZMkSPPjgg/j8888BAJ9//jl+8YtfYMmSJTAajZDL5bjnnnuwZcsWTsf2ox/9CElJSZwFMD8/nwRwHgpgR2c3jKVV7AzdvSdieZUyfxNAvuKPt4DfOHhskvg55u3DJ/32FvB8/wxg9CURkuQq6CyVaO/q4V0cSAD5z1wI4MAAPyuekADOIZ2dnQgKCkJubi4AoK+vD7fffjvi4uLYbVpaWrBw4UKkpaUBAKRSKRYuXIiWlhZ2m9jYWNx5553o7++f9bGQAHovgK2trfNWAC1lFTh9KR7X5fk4fEXsc3khARROAJ8PC51WAF+McP9FwYEkgC9uDxdEACMv3MCBI2eRosibcj1dPtPY2CiorJAA+iaMAHKd7EICOIdUV1cjKCgIFosFAJCZmYmgoCDYbDan7R544AHs3LkTALBjxw488MADTr+32WwICgpCVlbWrI/lxz/+Ma5du3ZLCqDQo3HzTQD7+/vR0NwKlbGEnaH7XuRpPP9BqCDiQgIorADSCODcCSC7nq6pFE1t9vV0c3NzYbVaBRGHuRDAgoICwdojAfQuIyMj7N3F+YpfCuD4+DiWL1+O3/zmN+y/XblyBXfcccekbZcuXYoXX3wRAPDCCy9g6dKlk7a54447cPXq1Vkfz09+8hMkJiZyEomysjISwFtAAJk1dHO1RbiS4n4NXRLA+SuAu49dwX+/vxHfe3XyZwAfepXWAmYE8P2oM5z3E3Y2CVdT7evpNrS0uxUTIQVQaFkRWgD7+vpIAL0ICeAc8corr+D73/++0wSPqQTw8ccfx0svvQTALoBPPPHEpG1uv/12xMbGzvp4SAC9S0pKyi0jgLbeXpTX1ENRaMSFZM/W0CUBnN8CuO3wWfz3+xtdZgGvwj8+OEACyEEAQ84k4pIky6v1dEkA+ctcCGB9fT0JoB/jdwK4ZcsW3HvvvbBarU7/Ppe3gH/6058iISGBBHAeCGB3jw3FlbVIy9PhTNLsZuiSAM5vAWSyYuUa/NeLm3Df6zvw69ffwrYQ727/BroABp9OxPlkBbI0s19PlwSQv8yVAGZnZwvW3s2bJIDe4DcCOD4+jn/84x+45557UFVVNen3zCSQ+Ph49t9aW1vdTgJpbW1lt4mLi+M8CeRnP/sZ4uPjb1kBFFLG/E0AmRm6KTlqnEjgZ4YuCeD8FsBd0Wfx7vL1ePOXS9j8/dGV2B19jgRwGgHcfyoBZ29kQFFoQmVdEwY5zsK8eXN+C2BFRcWcCKCvJ9M4Zi4FkKvokgAKyMsvv4yvfe1ryMnJcfoyyJGREXabzZs3495774VCoYDRaMSjjz7q9mtgHnvsMRiNRigUCtx7772cvwaGLwHMy8sjAfRBKisrWQFsae+AtqgcNxQqHLnqmxm6JIDzWwDfXb4ebz70qJMAvvHQEry3YgMJoIMAMuvppqsMKK9twMAgd+FzTU5ODgkgTwkUAeRrsgsJoIBMtfTauXPn2G1GR0exZcsW3H333Vi0aBGWLVuGxsZGp/00NDTg6aefxqJFi3D33Xdjy5YtuHnzJqdj+9nPfoa4uDgSQD8TQGaGbnJGDkKPn0e0yxq6vsr7UWdIAHmIPwrgzuBjTuLnmj1hgT0L+GSiDJEnLyK3UI8+N+vp8p2cnBzU1dUJIg4kgPyHBNC/8RsB9Gd+/vOfIzY29pYUQKFH45g2W1paeN9vX18faiZm6F5NzUb4OfsM3bfDTuKlHRGCCRkJID/xRwHcvi1kWgHc+WFYQAngsfhUpORqUVxpha2vHzdv3kRWVhYaGhoEKebzXQALCwsFa48E0LuQABIA+BHA8vJyEkAv09vbh4pa+wzdi8kKBJ92P0OXBJC/BLoABvoI4JFYCcTZapjKa9DT2+e2MJIA8hMSQN+EBNBzSAA94Be/+AWuXr1KAuhjAezuscHCzNC9no79H3s2Q5cEkL8EugDuPhZYnwE8dFmMG5kFMJRWobPb5lFhJAHkJ0ILYG9vr+ACWFdXJ7gA8jXbmQSQAAD8+7//O65cuUICyLMAdnZ1w1TGfYYuCSB/IQGcahbwCuyNuXDLCyCznq52Yj3d2cgACSA/IQH0TUgAPYcE0AP4EkClUhkQApiamupWAFvaO6Ar5n+GLgkgfyEB/CLb3zuI3z2/Bfe9EYzfvvrGrMRsrgUw4sINJKTnodBcjpaOLl6K/3wVQKG/tHiuBFCo9m7etAtgTk6OoG3ydaubBJAAYP+y6VtZAH0xIWMmAWxubkZjSxsKTCVITFP6dIbuXAjg37eFCNYeCSD3zEYA333rOB7Zugf3vhtzywhg+LkkxMlyJ9bT7fDJaM98FkAhR6tIAH0TEkDPIQH0gAcffBCXL18mAZwm/f39qG1ohlJXhJ0Rx7DvhDBytPsYCSCfIQG8gh2HLmHj8zFYvTqczbI/f4TdR676nQCGnr2GK6nZSExVQCLLEGSVBxJAfkIC6JuQAHoOCaAH8CGAFRUV80oAe3v7UGltQKabGbp/ez8YHxw8J5ggkQDyFxLAK9j4fAzWOMifPWHY9MLhORfAkDOJuCjORI6uGNamVnZ5NSGXFSMB5Cfl5eUkgD4ICaDnkAB6wH/8x3/g0qVLt6QATvV5PG/DzNBNz595hi4JIL95dd9hEkCO8VQAt0VccBE/52yPuiyoAB44nYDzyQpkqs2obmjG0BTrm5IAcg8JIP+xWq0kgH4MCaAH/PKXv8TFixc5C+BU69X6owA6ztA9mSD1aobu394Pxrbos4IJEgkgfwl0AXxr75lpBfCdfed9KoBO6+laGz1eT5cEkHvmuwDabLY5EcDc3FxB2+RLdEkACQCBIYCt7Z3QFZdDlKnC0VgJ9hy/OutiSwLIb0gAucdfRwD3fRyPU9fSkK4yoKymAf2zXF5tvgpgdnb2vBZAtVotWHskgN6FBJAAADz00EO4cOHCvBHA/v5+dobutXQlDl4S8VpsSQD5DQkg9/jTZwBPJMggVepQUl3H23q681kA6+vrBWmLBJD/kAD6NySAHvCf//mfOH/+/C0rgE1NTewM3VhpNiLOJ/m02JIA8hsSQO7hPAv4T7OfBbz3yAVIcjQoqqxl19PlO0ILYGNjoyBtkQDyF5vNhuTkZMHau3mTBNDfIQH0gFtNAB1n6H4YdhR7jl4STFZ2HyMB5DskgNwzm+8B/NPmN/Hrv2/DD18Lw5Itr3ksfUdiJUjOKoSprAY5ynyUlpb6vOiRAHIPCSD/IQH0b0gAPeDhhx/GuXPnOElZZWWlzwSwx9aLkiqr2xm6QsvYXLRJAshfSACvYPvBc3hu48tY/tQaNn9Ysw67jlx0K3zMerr6ksnr6Wq1WhJADiEB5C+BIoB83eomASQAAL/61a9w9uxZvxHAzq5umMuq2Rm6H00zQ5cEkP/MhQBu/ShGkLZIAK/guY0vY8Uf1joJ4PKn1mD9plfw0ck4RF0U4VpGPrSWSrR1dk/7dRPzUQAzMzNJAHlIIAhgbW3tnAggH89zeHiYBJDgTwBzcnJm/fiOzm4YSiohzirEmevpOJOUhtPX7Dl1Tcbm40R7TiZIcTJBirf3H8LBC0k4kZCK4/H2HItLYXM0lomEzZGrYhy5KsbhK18k5koyYq4k49DlL3LwkggHL4kQffEGm6iLN7B1dyQOnLyKqAvXEXn+i0ScT0LE+SSEn7vGJuysPaFnEtmETCT4dAKbA6eYxLPZ/3Ec9n8ch/ciT+GVXZH46EQsm70T2XP8KhsSQBLAGf+2YScnid+aP6zG35avwpurVqDcYvHq+8VIALlFSAGsq6sjAeQ5JID+DQmgBzzyyCM4c+bMnArgbCOVStHc3Cx4m01NTYK1V1VVhezsbI+37+/vZ9PX14e+vj709n4RW28vbL296LF9ke4eG7p7bOjq6UFNrRViSQo6u3vs6epGZ1c3Ojq/SHtnF9o7u9DW0cmmtd2elvYONs1t9jS1trNpbGlzSrYyH5m5eWhobkV9kz11TS1srI3NsDY2o7bhi9TUN6GmvgnVDqmqa7TH2sCmciIVtfWoqK1Hgc6Iq9duoLymHmXVdWxKq60orbaipMoeS2Utm2ImFTVsisqrUVReDXPZFzGVVcFUVgVjqT2pihzEXpfAUFIJfUkFG51lIsXl0BWXQ1v0RTRFZdAUlUFt/iKFplIUmkpRYCphozLak2+wIN9gwcETZ6FQ6ZCntyBPX8xGqSuCUleEXK098bGJeH3VCry+agXeXLUCu9cuQ/izTyPif+2p1HgnWSSA3CK0AAr5pcVCC2BPT8+cCKBSqRS0TRJAzyEB9ID/+q//IgGcRwLINY2NjZDJZIK1ZzAYoNfrBWnLarVCLpcL0lZJSQlUKpUgbYlEInR0dMz8t62qZGXPXdrrrV4VERJAbpnPAlhWVkYC6IPwIYCjo6MkgIHI+Pg4Pv30U3z66af45JNPcPPmTfzqV7/CsWPH0NLSgo6ODthstknp6elxSnd3t1NKS0uRlZWFrq4udHV1obOzk01HR8ektLe3O6Wtrc0pra2tTmlpaXFKc3MzmpubkZKSgsrKSjQ3N6OpqckpjY2NbBoaGpxSX1/vlLq6ukmxWq1Oqa2tRW1tLVJSUlBcXIyamhqnVFdXs6mqqnJKZWXlpFRUVDilvLzcKWVlZWwnmpaWhtLSUqeUlJRMisViYVNcXOyUoqIip5jNZqeYTCaYTCYUFhZCIpHAZDLBaDQ6xWAwOEWv1ztFp9M5RavVOkWj0ThFrVYjIyMDGRkZUKvVKCwsdEpBQYFTVCrVpOTn5zslLy/PKUqlko1CoYBYLEZubi5yc3ORk5PjlOzs7EnJyspySmZmplMUCoVT5HI55HI5pFIpJBIJ+/wck56eziYtLc0pMpnMKVKp1CmpqamTIhKJIJFIkJKSgpSUFEgkEqeIxWI2x157CRH/t8xJ/ML/92kce+0lJCcnO20rFosn7YtpIyUlhd2eOQ7H43R9Hq7P0/E1cH19mNfQ9bVkXmPH19/17+P693P8+zJ/dyaO7w3m/SKRSJCZmTnpfeX6vnN8X7q+b9VqtVMc3/OO50NqaiqUSiV7vrieT67nm+v5yJyzTBzPZ9fzvaCgADKZDMXFxU79hMVicepDXPuZ0tJSti8qKyub1E+59mNM/1ZQUICsrCynftCxj3TtP5n+tba2dlLfa7Vanfpm1/67oaEBlZWVEIlETv1+Y2PjpLrA1I7m5uZJdcWx5rjWpLa2Nqea1dHRAYvFgqysLHR0dDjVPKYOMnGtl4611LXW9vb2smHu4Dimvb0dIpEI/f39ky7wBgcH2QwNDTlleHjYKYODgySAgUZJSQmCgoKmzKpVqyASiXyS5OTkSfGm2KSkpLgtfCkpKT4rPHK5fFKBT05ORkZGxqwKkDeFiElmZiZSUlKmLESuxcjbguRalPLz8yEWi51Ejs/C5FqgmNfNVVinKlCeFKmpCpVer4dUKnUqVExcpd2bguWuaGm1WnalB3dFiylcjvG0cLkWL5FIBKvVOunCyV0Ba7DW4srOd50EcP/mdWhrapr2Iq+7u3tSYVOpVDAajW4v9Dy9wJvq4s7xos5gMCA7O3tScXe9uJvuwm6qC7ra2lqnv6tMJoPRaPToYs5Vfqa7kCsrK5v0npXJZFCr1ZMu3lwv4Ka7eHM911zPRebCLS8vD1KpdNqLtuku2Fz7kOku1lQqFeRyOWQymdcXaa5943QXaI79rlwuh0gkmvHCTC6X83ZRJpFIkJyc7FSTHOvVdBdirrXQV3V3qqhUKhLAQOPTTz9lCwNzFfPII48gOjoa1dXVaHIpAtNdnTheoVRWViI7O9vp82dC3PoS+nbswMAAZDKZoG1WV1cjKytLsPboFjA/KS0t9btbwI4JO70Xb0Ufwe+vZOD9E/tmdSuJbgFzy3y/BazRaARrr6enB2KxWLD2bt68iZqaGp/eAh4dHWUzMjKCkZERdHV1QSQSOY3muY72OY4Eup73jp8NJwGcAw4cOICgoCC89tpr7L/dvHkTW7ZsweLFi3HXXXdh+fLlaGpqcnpcQ0MDli1bhrvuuguLFy/G1q1b8cknn3A+nv/+7//Gxx9/zKkACf05NSYkgPynqamJBJCH+KsA9nXY0HbShKb3lGxUu0UY6R3yukCRAHILCSB/mSsBzMvLE7RNPp4nfQZwjtBqtbjvvvvwwAMPOAng5s2b8Z3vfAdyuRxGoxFLlizBgw8+yP6BPv/8c/ziF7/AkiVLYDQaIZfLcc8992DLli2cj+l//ud/cPLkSU4FaK4EUGgZm4s2SQD5S11dXcALYNtJE5reVzoJYMN7uWj/2Ox1ISEB5BYSQP5CAuh5SADngMHBQdx///2Qy+X43e9+xwpgX18fbr/9dsTFxbHbtrS0YOHChUhLSwMASKVSLFy4EC0tLew2sbGxuPPOO9Hf38/puEgA/btNEkD+EugC2FvX6SR+rhlq6fOqkJAAcgsJIH/p7u4mAfQwJIBzwMaNG/H6668DgJMAZmZmIigoCDabzWn7Bx54ADt37gQA7NixAw888IDT7202G4KCgpCVlcXpuH7961/jxIkTnAoQCaDvMt8F0Gg0kgByjKcC2GNsnlYA+y3tXhUSEkBumc8CWFpaSgLop8+TBFBgYmNj8fOf/xyjo6MAnAXwypUruOOOOyY9ZunSpXjxxRcBAC+88AKWLl06aZs77rgDV69e5XRsv/nNb3D8+HFOBSjQBLCxsVGw9kgA+UugCyCNAM4cIQUwKytLMAG0Wq0kgDxnrgRQIpFw2gcJoIA0Njbim9/8JsxmM/tvngjg448/jpdeegmAXQCfeOKJSdvcfvvtiI2N5XR8fAhgdXX1nAmgkDI2F23W1NSQAPKUQBfAgYFb8zOAFRUV81YAGxoaBGnLarUKumzZXAggVzHyNiSA/o1fCOCNGzcQFBSE2267jU1QUBAWLFiA2267DQqFYk5vAf+///f/cOzYMU4FiATQdyEB5C8kgAPodzMLuGCXf88CJgHknrkQQK1WK1h7cyGA1dXVJIB+jF8I4MDAwKQv+Xz44Yexfv16WCwWdhJIfHw8+5jW1la3k0BaW1vZbeLi4niZBPLb3/4WR48e5VSAhL5NyYQEkP+QAPITfxVAJvt3b8fbHydiSaISO0/sn1UhIQHkFhJA/kIC6HlIAOcYx1vAgP1rYO69914oFAoYjUY8+uijbr8G5rHHHoPRaIRCocC9997Ly9fA3MoCmJaWJrgACt3mXAigVCoVrD0SQO7xRgA7Ojpw7tw57Nq164sc2I3e3l6vCwkJILeQAPKXuRLA/Px8QdskAfScW0YAR0dHsWXLFtx9991YtGgRli1bhsbGRqfHNDQ04Omnn8aiRYtw9913Y8uWLbh58yYvx3LkyBFOBYgE0HepqalBZmamYO2RAPITfxXAc+fOYffu3c4CuGsXzp8/73UhmY8CqFAoSAB5CAmg/z5PEkCC5fe//z0OHz7MqQAJPUrFZK4EsKGhQbD2AkEAdTqdIG0FugDW19dPEj/HtLa2elVISAC5hQSQv3R1dQWEAPLxPEkACZZbXQCFlLG5aJMEkL8EugAWFRVNK4DeyhwJILeQAPKXQBLAlJQUTvsgASRYlixZgpiYGE4FiATQdxFaAJubm0kAeYg/CiCNAM4chUKBpqYmQdoiAeQvcyGAVVVVJIB+zKwEcHx8nM3Y2JhT5iNLlizBoUOHOBUgoSWFCQkg/5nvApiRkSFIW/4ogAMD/H4GUKPRCCaAhYWFghRYEkB+EigCqFKpBG2TBNBzPBbATZs2YePGjdi4cSM2bNjAZv369WzWrVvny2OdM0gA/btNEkD+QgI4gM7OzkmzgPcc2DOrWcAkgNwynwWwpKREcAHkKkbehgTQv/FYAJ955hmsXbuWzTPPPMPm2WefxYoVK7BgwQKMj4/78njnhEcffRQHDx7kVIBIAH2X2tpaEkCeQgL4RY68+jweT4jFj1LyEH4mfFaFhASQW0gA+QsJoOchAfQSm82GhQsXzksBfOyxxxAdHc2pAAktKUzS09NJAHkOCSA/8XcBPPve/+EZRSQeyExF5NnIWRUSEkBuEVIAa2trSQB5zlwIYGdnJ1JTUzntgwTQS7q6urBw4cJ5+TlAEkD/bpMEkL+QAA7AZmuCVrceiswfsrmR8nsMDXV4XUhIALlFaAFUKpWCtHXzpl0AdTqdYO2RAHoeEkAv6e7uxoIFC+blC7Z06VJERUVxKkBzKYD19fWCt0kCyF/mswDm5+cL0pY3AmiXv/udBFCu+DfoDRu8LiQkgNySlZUl2FfOkADyHxJA/4ZXAbztttvm5Qv2xBNPkAD6cZu1tbVQKBSCtSe0AJpMJhJAjvFUADs6LU7i55re3gqvCgkJILeQAPKXzs5OwQWwsrKSBNCP4U0Ah4eH8dJLL83LzwDyJYBCSgoTEkD+QwLIT/xRABsbpdMKYGtbhleFhASQW4RcdzgQBJCrGHmbyspKwb6fks/nSQLoQldX17yUO0944oknEBkZyakAzZUAZmRkkADynObmZqSmpgrWHgkg99AIIH8hAeQnFouFBNAH6ejoIAH0EI8F8Lvf/S4SEhJ8eSx+y5NPPomIiAhOBYgE0HchAeQvgS6AAwP0GcCZQgLIT0gAfZOOjg5IpVJO+yABdGHnzp345je/iWPHjsFgMKC1tRXDw8P45JNP8Omnn/ryGOccPgTQarUGjAAK3SYJIH+ZrwKYnJzsxSzg5kmzgFNkj9Ms4ImQAPITEkDfhATQczwWwLGxMbz77rtYvHgxFi5ciAULFjhlPkvgU089hfDwcE4FiATQdyEB5C/19fUBL4BMgkPfwLLMo3ggMxWXkrxfBu7mTRJArpnvAqjX6wVrjwTQ85AATkN9fT0KCgqQkZGBxMRELFiwAJ988gnfx+Y3/OEPf0BYWBinAkQC6LsI/dq2tLSQAPIQfxXARlsvntFX4FtZJja/S1eiY2jY60JCAsgtJID8ZS4EsKKiggTQj+E8C7i/vx8LFy7EzZs3+Tgev4QvAZTL5YJJA5OMjAzU1dUJ3iYJIH8xmUzQarWCtDWfBbC9vR19fX3o7e1Fb28vbDYbenp60N3dja6uLnR1daGzsxOrNWW4x0H+vpVlwrczjVijLUNPTw9sNhtsNht6e3vR19eH/v5+DAwMYHBwEENDQxgeHsbIyAhGR0ehVqtJADlESAGsqamZ1wLIx+QIbyPk+9LxeZIAeobHAmi1WlFTU4Pa2lrU1NSguroaVVVV0Ov1WLBgAW7enL8C+Mc//hGhoaGcChAJoO8y3wXQaDRCo9Gw8uIoLoy8dHZ2oqOjA+3t7Whvb0dbWxtaW1vR0tKC5uZmNDc3o6mpCY2NjWhoaEB9fT3q6upQV1cHq9XKntdmsxlSqRRVVVWorKxERUUFysvLUV5ejrKyMpSWlqKkpAQWiwXFxcUoLi5GUVERzGYzTCYTjEYjjEYjDAYD9Ho9dDoddDodNBoNNBoN1Go1CgsLUVBQAIVCAalUivz8fOTl5UGpVCI3Nxe5ubnIyclBdnY2srKykJmZiczMTCgUCsjlcmRkZCAjIwPp6elIS0uDTCaDVCpFamoqUlNTkZKSAolEArFYjOTkZCQnJ0MkEnmUk+IUJ/FzzSmJ1Kv9MUlOToZYLIZEIkFKSgpSU1MhlUohk8mQlpaGtLQ0pKenIyMjA3K5HAqFApmZmcjKykJ2djZycnLY10apVCIvLw/5+flQqVTsaymTyaDRaKDVaqHVaqHT6aDX62EwGGA0GmEymWA2m1FUVISioiJYLBZYLBaUlJSgtLQUZWVlKC8vR0VFBSorK1FVVYWqqirU1NSwfb/VaoVMJkNxcTEaGhrQ2NiIpqYmNDU1oaWlBS0tLWhtbUVbWxva29vR0dGBzs5OdHV1se9XTwV6ZGQECoVCUAHMy8sTTFRIAH33PGUyGad9kAC6sGjRIixYsID9/B/z39tuu23e3wJ++umnERISwllSAkkA6+rq0N/fj/7+fidxcR11YcSFkRdHcWHkqchweAAAIABJREFUxVFcHOWFEReTyYS0tDT2ooQRF0ZeGHFxlRdGXBzlhREXRl60Wq2TuBQWFiI3NxfJycnIz8+fJC+MuDjKCyMujLy4igsjL4y4OMoLV9HwVDYY4cjIyIBYLEZOTg4rHa7CwUhHYWEh1Go11Go1Kx6O0jGVeBQXF8NisSA/Px9yuRxlZWWT5IMRkOrqaif5sFqtqKurQ319/SQBaW5uZgXEVUJEIhEaGxtZEWFG8pjRQEZEJE1t0wqgrK3bqUiMjo5iZGQEw8PDGBoawuDgIAYGBtj3fUFBAcxm85Tve0/e867vd0bIHN/vjAS6Srrre931fc68x13f5wUFBVCpVG7lXCwWIyMjY9L72/G97SrmrlLOp0Az7+vpBNpRot0JdGFhIbKysiCVSt2+l6d7H88k0K7vYeb9W1hYiLy8PLfv3+kE2vG9O5NAj46OBpwAtre3kwB6iMcCyHQqzJvd8Q1fVlbmy2OcE8bGxvDpp59idHQUTz75JPbu3Yva2lrU1dVN2Ym7jrowJ3ZjYyOKi4uRlpbGduSOnTnTkbuOujCF0Z24zDTqwnToKSkpyM3NderU3XXsTMGfbtRlus7dsYP3tnN37ODddfKO8uLYyTMdfXp6OsRi8aTREqajd9fZM/Li2tm7dvhGoxEGnQaGQiWMqkwYlGkoSEuE6Nwh6NPjoZddhi7lPHTJH0N7/Th0ohPQXT8GXVIMtAnR0CcehD4hCtqECGhjQ6C9GgxdfBgME9HHBcOYGG7PtQgYE0JhTAiDOTEC5sRwmBJCoTj6FhRH30RR/D4UxX2Eoiu7Ybi0A0VXd6LoynaYL26D+exbMJ1+HabTW2E+vQXmEy9Bf+QvMBz+KwyHN8F4aAP0B9dBF70OxoPrYDi0AfpDG6CN+hN00etgOLwehpj1KAxdi7QPl8JwaB0Mh9bDcHA9tNH/B130cxM/2/+rjfqT/f8Prof+0Hpoo/80sc0GGGLs2+mi7dvomW2i/sTuR39oPXKDV0K+8w8wHHoO+pgNMBxaD13Un6GbaMNwaAMMB9dBH73Ovh9mv1F/ZvdjjFkP/cF10B9cB8PBdfa2D22ANurP0B1cB8OhjTDFbIBs2+NQR/wvDIf+bN8mZiN00X+G9uCfYYh5DsbD9vazI/4PO3auwI5dq7B95yrs2LkC2z9Yhu077T/nRa2H8dBzMB3eCNPhTTAd+QtMMRugj34OxpiNMB3ZBNPhjTAeWgfz4Y3I2rMCecFrYYrZCH20/XHGI5tgOrIRxpgNMMWsh+nIRpgP/wXGmA3QH1zvsM0mGGLWw3R4g72do5tgPLwR+oP24zUybcU8B+X+lcjaswymI3+xb3NoPUwx9n2YjmyCKWY9DIeeg+mI/RiNhzdCH70exsMbYT66CcYjG2GO2QDDoXXsY4yHN00c8yaYjm6C6fAmmI9sRNr2pdBE/Glim79Af2hiP4ftx2M+vBGmQ+thPrwR5iObYD72N5iOPg/zic0oPvsqis++juJzb6Lo/NsoufQBSq7uQEnsHlhi96Aodi8siQdQci0ElsQQpES+gsKLe2C5EQnLjWiYr0eiKCkK5hvRKL4eDfO1KJgSwmFKioDpWhRM16JgTIyAISEcxsRoGG/EwHg9BvqkQzDeOAaj+AQM4o+hF5+CXnwKBulFGNOvwqi4BmXyRcjiT8OUnw5zYTZMmnwUGXVu+1suAs30s0z/KZRAM4/zlUC7uxjMzs5Geno625+aTCaPBNpRoqcSaOYCkLkIZAS6qqoKqampkwTa3cWfO4FmJHp4eBhjY2NzrSI+hfNnAMfHx9Hb28vHsfgFHR0dCAoKmjJLlixxe2K5iovrqItUar915HqCeXqbx/VEY26pubtSdbxaTU1NhVqtdnuyeXPF6m7Uhbm16HjV2tbWhrS0NFRUVMx45ep48gk5utrf3w9bZxs6G6vRUmlEo0UFqzYN1XnXUa64hFLZGVgkJ1CcfBjmxAgY4w/AlBgG80TUlz5CUshLMCWEwXwtAqbEMBjjgu0/J4bbxS0xFKb4EPvP1yJgTgyDMTYYxvjQiX2Fw5wYBlN8qP331yLt28Qf+OJxE9sojr6D9KNvTwihvS1zQqj98ex+mMdEwHwtHIb4YBjjQ2BKDLdvkxAGw5W9MF7eBcOFD2A4+y50J7dCc/QF6A7/FbpDm6CNfg55+1cg7b3fQROyEtqw1VCHrYE6ZDU0YauhDVsLbfgz0ISutv8+ZCU0oWugCV8NdcgqaMNWQRu+BtrwtdCEroE2dKV9u/A10IStgSZkNdShq6ALWwtt+Brk7HkKGdt+D93E45htNKGr2f1oJ9rSha2CNmwNNGFr7ccTutq+ffgaaMNWQxOyAtrQ1fZtwtdCHbJqoi37Y6Tv/AYF+5+27y98LbTha1EYstJ+3OFrJ/azBprQFTi54yns2/Yk9m57Cvu3PYED7z+OfR88iRM7n4Y+4hlow1ZBH74Guoi10Ec+M/F8V0Mf8Sz0Uc9CF74W2tCV0IetgWLHUuTs+QN0EWuhCVsFXcQz0Ec9a99P6CrowtdAH/ksdJHPQhe+BlpmP5H2bTQTz0Ef+Qz0Ec9CF2F/TQzhzH7WQhe+Brm7n4Rix1LoItdCF74WmrDVE8dnPx5d2Gr7fiKesR/DxH50EWvt+w1bA234GujCVk+0PdFW2Cr74yP+F/qJ/aRt+z0KQtZAH7PRfoFx9HnoT7wM09m3YL74Poou74T5yh4UJ4ag+HoULNejYbkWAXNCGCw3olByIxqWG1GwJEXCcj3S/vP1KBQnRcCcGALL9ShYbkSj5EY0kiP+MSGA9scUJ0WiKDEMluuR7DbFSRH2/YiiUSKKRvFEW8XXo9j2ipMi2f1akib2cy0UxUkR9t9fj0LeuR1IjX4VJaKJ47seheJrobBcj0Sp5DjK006jKvMianLiUFcoRpMpE23lGnTVlaC3rR6Dfd1OI24zhestYE9GoB3vvNTX1yM1NdUnI9Cud1uYAYu8vDxkZGT4RKCnGoGWSqUQiUScBVqn0wW2AO7evRv9/f1ufzc2NgaNRoOXX34ZX/rSlzA6OuqTAxSazz//HPX19WhqakJrays6Ojrw1FNPYdeuXWhsbERHR8esxKWurm5ObgHL5fI5uwUsVHuuAtjb3YmOhmo0VxhhNWShSiVGqfwyiiQnYboRA0NCBPRxodBe3Q9dbDB0caHQx4VBHxcKXWww9HGh0MeHQR8XAu2V/dDFhkAXFzLxb2HIP7sLCQdesv8cHwpdbAi0V/dDHzvxuPgwaK8esD8mzv6zPjYYmiv7v9h3Qhi0V0Ogi7XvVxcb4nBMIex+dHGhkB15G9KYtyaOc6KtuBD7COLENtrY4InnEDaxn31O+7E/twNOP9uPJwT6+C+OO/f0DiSFvgztpT3Qnf8A6pOvQXP8FWgOPw/NoU1QR62DOnQ11MErUBi8HOrglVCHrEZByCoUhk4IY9gzKAheCXXwCqhDltu3DVmNwuAVKAxZZd8mfC2ydj6BjG2/R2HwchQEr4A6dGI/ISuhDl0DddhaFAavROGBZRP7Wmnf5sBKFAZP7CfMLnIF+x23WYOC4JUT+7Jvk/L2r5H30R9QGLwC6tBVUIeuhip4pf2YQtdMiK59P3n7l+P49qfw0ftP4qP3l+Kj9x7HoW1LoQpdC234aqgPLIc2dOWEbNqFuDBkFbThdhnUhtm30YSshPzDx5G1+ym7lAavgjbMvo0ufA3UB5ZBE2oXUG34M9CGrbFvMyGo2rDVUAcvZyVVG/4MK8DaMEayV0MTshzZOx9HxoePQRv+LLTha6AOWQVN2FpowphtVkAdsgLaiLXQRjwLbZhdkjWMeIeugiZ0BdTBK6CL+F/oDm6ALuav0B55Edrj/4Dh7HswXN4FU9wBXAt5Cfnn98KUFAVTYgSMCWEwxIXANHEhY7oWBWNCGEyJkTBPbGNKDIchLgRG5mInKQqGhDD7Y5Ki7I9LDIc+zn7RwmyTFPYK8s7thvmafRtjYjgMscEwJobBmBjB7t+YED6xnyh7W/Eh9oulhAiYk6JhuhYJY0I4TNci7dtci7AfT0Ioeww5Z3YiOfJV+36S7COJJua5JdpHGM1JUfbHJEU5PX99XLD94uv6QVgkJ1CadhZVOfGo08rQXKJCh9WC3o4mDA8O8CaA3oaPyRHz6RbwdALN1PiAFsBFixZBrVY7/Vtvby+OHj2Khx56CLfffjv++Mc/IikpiZdl4pqbm/Hcc8/h7rvvxqJFi/Dggw9Cr9ezvx8fH8euXbvw7W9/G1/60pfwu9/9DiUlJU77sNlsWL9+Pb761a/iq1/9KtavX895hHL58uU4cOAAJ0kJJAH0dZv9/f3oaW9Ba20J6ovyoZVewY3je2FOPQ1dfDhU53Yg/+yHKLiwC5qrwdAlREAXHw5NXDh0CZH4/9k78yg5quv+Y4ODTYI5CfjEzuaTk9hOcrDj/OIY7BD/fo5tbaNd8kJYtIAQWhACraPp6X2r6m2k0TLTe1dXdffMaLQvM9NLVXVVLzNawAaDhBAYYwS22UwALyfx9/fHe1Xd1d3CsoEYO6pz+gxM33n3++57UJ+679V9k1kvKoleVBImVJMWTApunBgO4MSwX7eZynpRTVmITaIXdcGFE0Pku3LKjpxnNaZyLKopG9R4DyoJE2ppB6aGfDgx7MdUzocTI0FMDflQS9uJTdyEGmfH1BBLfbBkaXjYhzrvRCVuorqtmMwyRGvOj+O7unGkfxMmBZfet0rKgsmsF1NDxNfUkJ/YZzx63ypJs963qSEf0TYSwGTGi2qytW9+nBjyQ4xbMcLeh8kcg2rK2t63IT/RnfViMtmLyp61UIJLofi+BZVZhDq7mEIZgcGadx4qrtlQ7DNRts+A6phFAI9dhJJlOsa3/Ttq3vmouOZAccyCYp8JxT6DACG7CFXvAgKc3gWouudCpTZl+wxUPHNRZxahxiygdvNR9c6H6pwFxTETZft0VNxzUWcW4vCmL0F1zUGdXYiqdz4UZxfKtunExjUbdWYhauxCArTMQtS88xFdcSO86/4V3vW34OjWf8OklgFlFxCQ8hFAJZpmoOqZgzpLAKtOgTBv+hqK5q9Bdc6C6piJimsOgTL/YtSZBZhkF2PKvxg1ZgFUx0zycXahzi7AlJ/4mvQtxJT/65hkF6HinImKYxZU5yzUmQV69lK0zMRE7zRMsYtQcXVBtdN2vPOIZh+B3Cn/Ykz5SAxU70JUArehvvtenEhsxcmMHSdzXpwe7cOpvUGcyLhR5yyopcyY5B04NRLAQ6PbMcKsQTnlxOnREE5kPainLKhzFkym7Tg14sPp0e04NRLE6dE+YjPEYDJtpTZWnBz24fRoCKdHQzi1N4SHRkM4OcSinrahzllQT1lwcojB6dE+jPruh5yw46F9fTg54sck70AtZUads+BE1o3Te0N4aF8fTo0E6c8ApgQnaikzaikzpjIunN4bxEP7tuPU3mBb3+qcBZOCA6f2BlGKWbE/eL+urbVvJ4f9OK23E8Lp0T6czHlR56huzoqTQz7S771a3/ra+nZ6NITvTnAQc/0oDg/iucen8OKz5/Cfr770a2UQfxcA8PHHH3/PAuCvgsM333zzfzcAzpkzB5/61KcQi8VQKpWwZMkS/OEf/iE++clPwuPx4IUXXnjHhLz88sv4+Mc/jqVLl2JychJPP/00CoUCnnzySd3G6/Xi2muvxejoKB555BF885vfxMc+9jG89tprus2MGTNw4403olqtolqt4sYbb8Ts2bPflra5c+fC5XK9bQD8nyqv0QpjTz311O8kAL7y0o/x/PfO4unvVHG2ehTfGU9jau92VAUPahkv6lkWNcGD/EA3cp5V5N8zXlTSLqgpu25Tz3hR5RyoCR7UswzqGQZV3g0lZUeV96CWZcjfcQ5UeRdtR7Oxocq7Uc8yqAleVDkXpJgFGedK/Xdqyo5q2o1ahiF/y7tQ5ZwNjRkv1JQDlbRLt6kKHuJP8Bp0V9JOQ98qnAOHd2zCoe0bUcswbX2rCV5UUg7UBDfqGVbvm0r7Vqd9q3IO0o8Mi3qWQVXwUBtNN4Ma70ZhYBuGPKtJTGjfdN0ZFlXejWpaiyXb1H9XQ1PaiUp0K6rhB1HdtRrV7XdBZb+Bsn0mqo6ZqDlnoeKchbzpqzi29SuoehegyiyC6poLxTa9yaYLqmsuKp4FBpuybToqjhmoOWeh5p4D1T0PFc981JiFqDGLoLrnQbFOg2qfgZpzJqruuTj04C2Q7F2oeBag5l2Iim5D/FU981D1LIDqmgvZNQ+71n4V7mW3wLf0X+Bf9nkM3PsFqJ55qDGLiC92ESZ9i1HzzEfVORMV+wzUXF2YpBoqbgKS46avoWT+KqoOYlN1zkKdIZlD0g7JmNa9c2k701F1dpEMqO/rBI49CzDJLkLNO5fExT6dtMMuojYLkLdMx9i2r6DumYOai9hUXHMwGbodk7vuQX3PWlQH12OSM+PEEIsTQ37UMx7UM14C/8MBTOV8qAsenMixODkcwNSwH5MZL2q8W3/4mcqxyLpWoBQx04emACazLGqCizz00AepqYyXtD3caLvGuzCZY5v+jkE948UU/R2xIf+taTZDnlUoDm5r/N2QH3XejckMefg5Sf9uUnA3Hqz0vnn0ByPSNzcmc0yLfw99aAugEDZhL7MGU9mG7sksixrvNvRtMutFXXuw1HQLbv2hjTzcMVSTX38Aq/HEZor+3dH+TTgUXIepIQYnadsnhgJ4+NAgHheH8fSpIi488RBefuH7ePON139nAbBer/+P+nz++ecvA+AlXm8JgD//+c/hcrnwsY99DO9///tx5ZVXgmGYdyUoW7ZswS233HLR73/5y1/iox/9KLxer/67n/3sZ7juuuswMDAAAHjsscdwxRVXGLKWtVoNV1xxBc6cOfMba5s7dy6cTudlAHyXAPCVl36MC089jqceVvC4ehinj0RRy7CQoybIURPKcQsBlWwAlSyLataPqkCgSo6acHzHg8jYl0PlXKhlfahkGNRyflQzDFTOCTnWS9qK9UJJOVDNsqhkaDsZH9S0C+W4WfenpOyoZljaFotaxgeVc6GcsECOmjCxaxPSlmWoCF7UcgFUMyyqOT8qvBtK0gZJ052woMK7Ucv5G7a8B0rK3tQ3M9S0S9dby/lQFYy69/vWYp9/HWpZH6oCi2qWRS3DQk27IGu6Y71QOQeqAtFdzfpQyxp1S1ETlKQdVcGLas6v26ppN5QE0X28fwMy9rtQ4T2oZTUbfwfdFqhpd0N31o+KwEDlHI14x81QOCfRkyG6q5wd6uBGyH1345h1Hg5t+Xeoji4CYMxCVDzzUfXMh+KcjbKjC7JtJmTrdCj2Gai455Fsn2c+ap75UN1zoThnQ7LNgGSZBsU2gywP03ZqnvkE9JxzsG/d51Hq/SrKtulQXXN0m6pnPiru+QT8bDMhW6Zh4N5/hWfpF+FY9iU4lv4bXMtugWvZv2HPmi9DcdDMoW068cUupJnO+aj7CBwqzi7I1uko22bg+NYvo2CeQTKPDFmWJVnK2ZCt0yDbZkB1kWXoSR/JZk76FqPGLITqIjZl2wyorjkky8kupEvti0gfXLNRts/AeO8MHDJ1obJrLepJE+qCG1PDIUwOBVAXvFCTVqgJC9SkFbWMF5PDAZwYCaE+FMDUSIg8bKRsxCZhRY33YHLIj6m9IUwOBzA1HEItSx6SBNsyjO/ciCrvxmTOh6mRPkwOBcjPrA9V3gklYYGSsKCadqKeZTE1HKQ2IUwO+VHj3dSXBRXOjprgbdjQnzXBg4x9OcZ3bYKatBFYHPLjxEhIb8ugO2lFTaC6R9p1a/5quu6QrrueZXF852YMOe9u0R3CZI7GoU23A/Us01G3Fu9KStMdwKRBtxcHA+uwj12t657SdA8167br7Zzcux2P5gWcP5nHc2dOUzC89OLkL7zwwv8aABwbG7sMgJdwXfJLIEePHsWiRYvwB3/wB/jUpz4Fp9OJZ5999h0L0N///d9j/fr1WLx4MT7ykY/gs5/9LMLhsP79+fPnccUVV+D06dOGv5s7dy7uvPNOAEAsFsN1113X1vZ1112HeDz+G2ubN2/eZQB8BwDwJ6++ih8++xS+9+gkHleP4uGJDOrDfRCjJv1TivSgnHKgkvFDpZCmCgzEiMlgJ8VtUDM+qBkf8lE7Mp61kOIWo03MDFVgUM0GoGZ8qGT9kBM2g40Y6YWS9qKaC0AViL9yyolSuMdgp3AuVLMBVAQWpaQbnG0FShGjbjlpRyXrR4X6UgVvB91WVLLk+2o2gGrGBylmNWqKmqFmGFRzAVQyPhzs78Ze39oW3SaoaQ+1IQCqcG6DbhJLp6FvCu8x6BajJshJGyo0RvmYA4J7FcRob5tuNcuSfmV8qGR9bfEWo7003iQG1WwA5aS9ZXxNUNIeVLMBHNm1DSPBDUT3no0Q+9dCDC5HyfNNlJnFqLKLyT4991xU7DMgWcgLFZJtFkTbTMjO2ahoIOeeg6qzC5JlGiQrsZFsMyHau1DxLsThDf+GsmMmas4ulO0z9XYk60yItplQvQtQ8yxAwTIT7LIvwrP0C3AtuRnOO2+Ga8lNcN1xE5xL/xWicx5qrtmoe+eh4p4LyTYLsmM2ZHsXJHsXVJr5q7tno+aZi/HuL+N495d1G9kxG4pzDtkTSdupeReg7JgN2dFFP+Sfa955mPTMIfsW2UVQXPMguxeizN6Kct/dkHfdR7JqI304tqcXo6GNqAgeyHEzygkLAf+YGdUMg8mRPtSHgpgc2Y5qhoEct+g25YQFatqFyZEQsRnuQz3nh5KwGmyUlB314RAE91oUE07Uh4JQknaDTTlhRZ3CTn0ohMnhkP4QomuKm1HP+jC1dzvV1Icq30G34EWGWYdCzIHJkT7Usj6UWzSpaRfqw0HUh0Okj7kAlITNqDtpa/RrmGhSUo423WODJgz7H9TbqvCtui2oZllMjmxvxFJgDLrLcQsqvAdTw30UrqnueItuzonDO7txYPtmfWzKbbrtmBxu6K4PBaFyzra+nTo4iMfk/Th/soTnzz+K117+Ucel5HdiafQyAP5+Xb/2W8Avvvgi+vr6cOONN+Kqq67CjBkzkMlk3vYewKuvvhpXX301uru7cfr0aQwMDOCDH/wgUqkUAKBSqeCKK67Ac889Z/i7FStWYNq0aQAAl8uFT3ziE21tf+ITn4Db7f6Ntc2fPx8Oh+NtQdH/5AkLzZ9CofBbAcBzZ8/gufOP4dwpCd8uDOPEoSgUgYUYs6AUISBQCpsgJ51QeBaKwEDN+FFOM5DiVt2mGO6BlHCgnCbfKwKBPiluRzHcg1LEhMN9DyJtuxvltJfY8MRWSrpQCpv0tsSYBTLnhir4UaY25ZQHpYi5oSnaCznpgiL4oPAs1IwPSpox6D6+czMSluXke8EPRWCh8AykuE3XVAz3QIrbqBbShiL4ICWdKEY6aMqSdtSMD3LKjVKkV7cZ9a3FiO9+2jeW/Ex7O8TSAVVgaTt+qqk1lnYovLfRluCDlHDouo/u2ADOehfKnIfGW9NtjGUpakY55UalKd5tsYz0Qkq6oOqx9KPMNXQfCKxDxnE35KSDxJD2X+UZSAk7ioPbUNr1IIqhlZD8y6AE7kSF+ToqjlmoOLpQtk6D2PsViNaZEG1dEG1dUDxkebfimImqowuKbQbE3q9i77qbULDMhGibhbKb7DkkS7JdUOwzIZmnQbTNwuiWabDf8QXYltwC17JbwC69Geyym8EuvRmeJTdhdMvXIDnmQLTPhuKah6p7Dmru2ag5u1Bzzobi6IJonw3JPhuSfQ6ObPq/yG/7MuruOai6ulBzEQCUHHOIjWMOAUfHLNRcs1F1dpFlbc9CyOytkPxLIO1YBWnPRiicC7WhIGq5IGrDfahkfFBSDshxCw4G70fWeQ+xyQVQGwqiPhRCNReAwrkgxcyQ4wRilJQD1ZyffJ8ltmraDYl+L8ctkBM2VAQWteE+VHOkrQrvhZywgrMsw/GdmyDHLFB5L2rUT30ohEqGhZyw6+1IMTPVHSKahkPkQYRzGjSVU06iZbgPtVwQ9VwQStoNzrIMx/o3EZukHRWBRX24j/rrg8p7IcetDd1xK1Tei/oIsakNhVARGJSTnTVVc1RTxocjOzYh41jRZONELRdElcay1iGWcsKOataHeotuOdYcSyvRPdSHWi6A+nAfKoIX+/z3YcS7mviLW6CmPaRvWWJTzfhQTjqMulNOfQ7osUy1xDJpx+TeHfj2OI8zlSN49vGTePmFZ/H8hQuXAfAyABqut1UG5tSpU7jvvvvwwQ9+EK+//vrbEvKBD3wAX/jCFwy/u++++3DzzTcDaADghQsXDDZ33303pk+fDoAA4Cc/+cm2tv/2b/8WHo/nN9Y2f/582O32ywB4kc/LP/4hnn3iOzg7mcfp4zwy/o04PmCGGLejMNiDYtiEYqQXUsqFMs+gzLMopxmUeQZS0olC2IRi2IRC2AQp6YCc9qIs+FBOe6EIBIiKkV5iM9gDMW6DrH3HeTEWtiLtXIVi1EJ8hU0oRS2QU27iL83o7Ylxm1FT0kW+T3tR5hnIaQZS0qHbFMImCqBelHkWMudFPuZAwnIXimGjpnLaC4VnIXMe8jPlRqlVE+emfqj+tBelmFW3KUbMVDcLmULj/r5NGGbWGTUlnU1tkJjKSZfeDtFk12NY5ry6pmLE3KKJ6k17MB62IuVY2aZJ0mLJa7FkICYacSpSTeV08/iyBHibNSXskDmi6VB/N3K+B9o1xayQOQ/KAm1HIDHVY7lnC0o77oO8YxXU0DIongWoOMiLD7JlGormaShZZ6Fk7YLsnA/FvQAHHvgCFNt0qI6ZKFuno2SehpK1C0XLTMjOeVBc81BxdSHfOw3sspvBLL0Jrjtvgv3OL8Jxxxdgu/O9VTUxAAAgAElEQVRf4Vh6C0rWWag6CaxVnCRbp8Occy4qrrmoumaj4piFmrsLY1u/hLFtX2mCwtlQnSRbWXF2oebqQpVZCCVwO8TgXZB23gdxYAsUzoVKxofaUJBklXMBAsZxK6SYBVLMAjnpJJndoSAO7+zGsH8DKgILKWHXbaSETc+CVzI+PWNcTjkhRs26nZr2opILkMx0LkDAnnPrNmLUjDLnRiXrB+9eg4koyRorvBdSzKipkvGhOhTSs8CqwEDupClH+lYdCkIVWJSTjoZNzAKF94J3r8F4xKbbljtpyvjp9wESp/RFNOVCUDV/PAMpYWvYJOw4smsbhtj1UGmc1IwPctLZpMkKhfcSXxkfqrkgebjjXG2aqlocs+SjpD2GvslJJw5s34x9fZv11YBOmsj4hnR/lbY4EeCtZkl8atS2nDJqUjg3SkkPBP8mPFY+iGcereOlC8/8WkvIlwHw9+/6jQGwOeP3s5+9/WPg/uqv/gp33XWX4Xe7d+/Gn/3ZnwH47S4BL1iw4DIAarD34o/w7LlHcGYyj1PH0qiM9EPmWYgJB/KDPSiETUial+LIrm7IaQYyz0DivDoMFMK9KIRNyGswQMFK4jwUsNwoRs0oUNApUhiQ0yykFLGR0h4UY1bd5tD2DeAc9xJ/nBcyT36WEnZdU2HQBJECisyzkDgv5DQDMekyaCrFjZrkDpqO7+5GwrqCwOJFNBUo8MppptG3dGdNMtUkc17IaZZoGjTpmvb612PY/4AeS5lnIaVa4hTV4qTZMJC5i2uStTFpidPh7Q8iaVvRiEG6s6YShfCywDbGt02T5S017fOvg+C4x6BJ7qApHzZBTBDglWkc28ZuzxaUdj0AeSd5K7nsWQjFPotkAC3TMbLuJuR7p+sZQNU9D4qjCxU7eWNYss1EyToTRetM7LjnFtiX3ALHklvgXvoFMEtvhnfpzdh175dQss6CaCMfxTUPqns+Kq7ZJOPongPFNReSrQuibRZK1lk4suX/IW/6GiquOVAds1DxLoQavBNS6C6IO9dBDHdDStigCCwquYD+UxVYyEkHxJiFfOJWKDyjL9VXsgGogg9lzo1S1Iz9gfuRcd6jAxGx89OsugdizEoyr1EzAUetjYwPajagZ7Ab/mxQBZbAi+6PaEqal+Jo/yaIMSuUtBeVLMnMt2oSYxaUYhaUOXeTP39TBrtJU8qpa9FsFZ5BynIXjuzYCDFmIRn1i2jSdVNI07R01EQhTc34oOaCULNE0+H+reDtK/S2SEa9OU4kS98cJ4MmoUlTyqn7E6MWGieqKUd+7gs+iCHPqqYYuEl8sgEoHeIkxiyQEg46R4JQtLETWIgGTXSuUEAl+lmMDfQg1nOHrqmc9qA6FMKpIzE8Vj6I7393Ci+/8Cx++uablwHwMgC2X7/85S8xMTGBUCgEk8mEnp4emEwmBINBPPLII28rWLfeemvbSyDr16/Xs4LaSyAMw+jf//znP+/4Esjk5KRuU6/X3/ZLIAsXLoTNZnvbADg+Pv47BYCvvvIynnvqDJ44KeKhiSyqe3dBTjMoJRyYGOhBftCEiYEeFON2SGkvJJ6ByHnAudbgyK5tyA/2Ij9oQn7QhELMConzQkoTGzlNAKsQMes2+XAvpKSbAEPaC5n3QeK8KMZsDRsKTVpbUprB0QEzUrYVBk2luF2HJVH7mXQZNBWjVkgpD6Q02wRWHuRbNIkpFyROgxgfxqM2xHqXNvwNmlBKOKlmAk0Sx6CUcGKCtjMx0INizNaw4byQeBZiyoV8uNG3QtRCwDPdgL3R0CZkPauaNJkgJl0NG8EHifOgGLcZNcUdjX5RaOqoifNA5hmInBfHB61I2lciH27EKU8zgFqcJOq3ELE0jUsvSkkXsWnqYylub58rVNOB/q3IMushJp2G8SVzhcwRUYPilNuoKdwLMeWm86nhrxCzNmz2bIU4sAnyzrUY2jQdkmseFPssSLZZKJhnoGiZiULvNEj22Si750Nxz4fimA3ROhM7V/1f2G+/GY47boLzjs+jb8UXIbrmo+JdANUxGxX3XCjueZDssyFaZ0G0zCDLwp75UD3zoTq7UGEW4kjvbBx2fAul/nUoDW6jUKzd6P1Qs8GmLLeZZDkjZkgpsg2BQKEPaiaActqLUtSKUtRCPk3wcbC/G0O+B6AILEpxW8MmaiVbI5qgScloWxEa/gh8+Ah4UFAjDz4WvS0p6YAi+MC51mIsbIWa9RNNsYYmMW4jy/0UiHRASTRrsujbNVTBB5Vm26SUqyUGbnCuNRiL2KguP8qcx6gpYSdbB2gb2jaSZk2lmJVs+aB917RJCbtuU4xacKh/C7LMel0TGZdWTa5GGxk/lIxfz07rMUjYKAw2IK3MMxDjRk2joQ3YG9oElQI7iZOjoSlibporAV23zDXmChkXJxStDWrbOlfEuA0TURuSjlU6FJbb5goZl9rIDpw6lsSZ6jH84ImH8ZOXfvgbl6f5bQDghQsXLgPgJV6XDIAXLlzAv/zLv+Cqq67C3/zN3+CTn/ykfj7wZz/7WVx77bXYtGkTfvGLX/xGQqampnDVVVfB5XLh3LlzEAQB11xzDXie1228Xi+uu+467Nu3D4888ghuvfXWjmVgPvOZz+jHfX36059+22VgFi5cCKvV+jsLgOfPn/+Vdj/5yU/wwx98D+e/U8O3S6Oo7x+EzPtQjNkwPtCDCQoVhYgFIoUmkUJMKeHSv58YNCFhXoYju7eRm3PKA5n3oZR0IR/uNdgVEwTkxDRDYC9FbuDa9+M6oFCASxGwKsbtBk2HdmxE0nGvUVPSafDVABQGIsdQTW7kI2ajv7idwB7PQORZSByDQsxmaOvY7m7ELCsg8T7iL82gFHcYNOXDvSgl3TqAarA3ETYZ2iolnRSoiCYx5UE+ajFoGvHdT5ZKeR/ENAspzbSNSz5qgch5dE1yhxhMhE0oJV067BFNbsO4HAg9iIR1Be0XS3xyXhSiVkNbhaiV+mMp9LFt45KPmCmksSTmaTIPtO/3+tYhbb8bpYSrCeTeYlzS3gY4c962cdHnJu+jY8iiFHdgYtCEcPdtOLZrCyYGtkIc2Ax551rI/jvJXjvHbBQsM1GwzETRPA0F01chOWYjuewTCKz5F7D3fxHj5mmQHHNQss2CaCFLyLJjDhTPAqjeBQT6/LdD7rsbhR1rUBzcimLUgox7Ffbv2AIlR4EhGyBZUAod2qec9kKhN/BKLogyz6AUt+rfFygQqZkAlGwAai6IMgWGYtSCUf/9EJz3oJSwoyz4CFjS9iTOjULErLelA1GzJgoMzZpkzkNggmbKiCYbEualOLxjEwoRM8SkE4rgh5IJ6DArJp1Gf3EbyjwLNReCIvihZgI6XOo2USvktJf4afKXMC/H4R0bGzHg3BSECDyXeR/EuN3YVsJOwCsXhJKhMUi52mOQZqDkglCyJAaH+rcibb+7QwyCBKxyGjS1jouLwmCA9DHjg5h0GDXFbSgLrGFc9gYeQNZ9rzEGnIfGgGgqt4yLFgMlE4CS9etwWUrYDP7EhEMfW83f2IAJ0Z47DDGQeYbGqQGzrXNT5jyoje7CQ+MZPHlSxA+fOWsoaP1Wn8cee+y3AoDj4+OXAfASrksGwG9+85u46aabcP78ef13r7zyCmbMmIF58+bh6aefxl/+5V8iGo3+xi+EHD58GDfeeCOuvvpq/N3f/Z3hLWCgUQj6ox/9KK6++mp86UtfwiOPPGKweemll3Dbbbfh2muvxbXXXovbbrvtbReCXrRo0e8dAL784o/w/bPfxmPV4zhxlEM524d8xIrxQVPjM2BCMeEiN9Q0A4n3IR+zY2ygR7cZG+hBIWaHSG/ykuBH0r4S+0MPGNrKRywopTyQBD/EtA9iyouJiNnoL9zwJ3IMxDSLQsxmtBk0oRh3UBsWkuDHoV3bEDUtMdgUYjaIOlz6UUq5MR42tjMRMUNMUmCg+vMRS1sMCnGn7k/mfTi6uweD3be3xUAHUMGPYtKF8QFTeww4r+6vlPJgItx78RhQsBr23Q/BubJzDNIsJN6PYtxhGJfxQRPyUSuNow8S70cp6WqPgQaqgh9imsHRAQti5mUd5oEDEu8n2nkfCh3ngY3EgIJjMdEegwkaAzHN4uAuEwTvurYYTAz2khhQTWKaQT5qnJtjAz0oxO0UihlIvL9NkxYDKc0gbL4H+YQbpWSHebCnG+KejSjvXAPZfztk52xIq/4c0pJr9E/hno9Cts1ChVkE1bMQlcDtkELLUehbhcKezShELchHzCglnRQYCAxkmXUY8d2HQtSif4pxG8qCD0o2CDUXhMyzZFm82SZqhZxmKFCQ9koJh8EmHzFDTLqgZoM42L8NOf+DBOgjZmNbCTsFIaJJ5hkUWvwVNBjIhqBkAihn/CjF7UabqAVSygPOtRbHI3Yo2QDJYLf4E5NOKHoM+iClSbbYoClmRTlDIE6LQSlmM/qLWJB0rMRY1EkzbgECl51ikAvp/RNT7jbdpbgNZRqDykVisC/wAATvfVBzfQS+OsQgHzFDSrqJDYXxTjEoxh0EvIQA1GyoYwyGmLUYDmxAOauNS4cYRC2QOC/UXEiHRzHpNPjT5p2SfesYHN21FXH7vVCzIVRyIfIgGbW2xVzWYD1LQLSY6BADzouTRxJ4VD6AZ747hZd/+FzHLOFjjz2GycnJywD4Hr1+JQBqMPfHf/zHEEWx7ftz587hT/7kT/D6669jZGQEX/nKV/DGG2+840J/m9fixYt/pwHwySefxAvfP49zDyl4uLgX1dE9GA/3kptz02ciYiHZFQpNExFrm834YC8BPd5HQCfhwtieHoNNrHcZDu3aBlnw6zDXajO2pwf5iBUyHyCZNt6PiYil3V/YTECP90EWyE2+1WZ/6EEk7PdCFgIQaRZtrMVmbE8PCjEHZN5P+sizGB/oEIOwGVLap2vKR21tNof7NyNquQcS74csBFBMtsdgbE8PigkXASuOxLStbwMm5KM2SIKfZNuEACbC7THIedcg599AMm0a7LX6GzChlHRD4gOQeB9KnJfAUGsMojbIQkDP3I0PGmNwILQBsd5lkNI+SDwLORPoGPPxARNKKS9E3geJD6CU9HSMQSHmoPOAxqDJ3wi7DpxtBSYiVki8n8Cs4CMPIh38afNO5v0oJJxvEfNA27wb2HobjuzcQmNupXBJ5lXrvCve//cQl1yD2vJrULvrQ6jfdQ3KS69Bcc3foLBrAwoRM1n+jlgopPVByYYgCyzyEXIT1T68cyVGgxug5vpQzgagZIIoRG0Gm0LEgmLMRm7gWQJNpYSrzSYfNhNwzAWhDvVBSjPIh4mWvb77kXbcg3zYDCnloZqCKGeCyEct7f7idigaXOZCKMbtbTaFiIV8nw1CzfVB5DzIh82I9S7Foe2bdE06qOaCKAs+XVPzR0w4qb8AlGwQpVgHf1ELAcdsA2JipqU4uH2jIQYyz1Jw7IPMt8e8ELFA1CAtG4CSDXWOedROoYrEc39oEzjbCmPMI2aUBT+UbBCVnDHmBn+cB+oQjbkQQCFq7TDGdgrYJObD7Dpk3auNdmELAdVsEGpuux7z1nkgpxlUhvqgZkOQBV/HsSslHPo8ULIhHNnVjUjPnS12VpSbxzjlbvM3Ee6FzLO6jcwzHWNeFvx4OD+EJ6aKeOF7Z/DGf752GQDf49clA+ANN9yA8fHxtu8ff/xxXHvttXj11Vfx/PPP4+Mf//hFzw/+Xb0WL14Mi8XytkDsmWee+R8DwJdf+jHJ7tXGkd3eiwM7tnS+oTaBjp49afr++J5tKKXcjSxT0t0ZYmJ2/QYuplnEepdhf/BBI1gNmpsyVr6OYDW2p6eRIeP9jQySAXR6UEw4CVjxJJN4ILQBMdNSoyYKFRJPsoSd4HJswKRnmCTej4KWRWvxV0jSbBTvQynpxeH+zQh332HsX9QKUfBRSPNhImzuDM9pAp+S4EMh1tlfKemmAEYylznPGvDOlS3gaCegQ2M+NtgOs+Nhc2OJ9iIxHx8wQUx5adbOjyO7TSSb2hrzuLMBs1xnmJ0Im8k84DSgbwe5sYEekpnlfTiwy4S0e23nmCeckJpATstEto0xzSh3AjkdVNMMwpZ7kE94Oo4xgVk3mS+DW1FZ/iGIS65p+5SXfghq3ERvqEEUYu1QUYhqmSYCFRn3Wgyz97XfLHkfytkQuYGn2XbYi5hRSpHMltZeIdIZKpRsCAd2mpD1b0Qp4eygyYoyz0LJhkhGjmNIBqnFn5Ry65k0JRPoeJMvxh1IOddiLOKAkguRrGSrTdRKlzCDUHJ9kDhvm79ChGS2FAoosuDrCE1xy904HnXoUFTsAI7FppgruZC+j7fVTk6zOhDJfHvMR/3rkXauIjHPBlG+2BjHbBSMSTzFpKvdX9RKoIlm0jqNcc6zBjnfeqhZ4k/JXnyMyxmSjSMPBxcbY58eczndPsaHd2xGzHI3lCGa3csGOoJjMU7mVFkg8SzFO40xyWKXM0GouVDnMY5acXjQjiNcP77/2Em8+uIL7+pRd5cB8Ne/LnkJePny5finf/onfOc738F///d/47/+679w4cIFfPnLX0ZXVxd++tOf4qWXXsKHP/xhvPzyy++m5v/x6+tf//o7AoBjY2PvOOz95Cc/wQ+fewbnv13Dw8VRKLntGB/sxRgFnLh5GQ70bYLIsSilWUhpHwG5JpsxCicaeIgcQ5YnI1aDzdiACfmYA2Lah1KaRYlj9Btqs03CugKHBywoUTjp6C9sRinlIZp4H4opNyYiljZ/hYQLIs+ixLEocd4O/npwsH8rEo7VKNFl42LSRZcJG5+JsBmllBelNFkSLSY9bf7GB00EPHgfShyDEufVl7yb/R3dY0LUcq+eASsmXG26JyIWFOlSp0hjPhE2t8W8mHATEE+z1J+tzd+w/wHkAhsb/evoz0o10/4lXBjv5C/ppvFkUEp5kY/aDDb7QxsQt66AyLMQU6StQtzZPg+iNpQ4r+6v0Mlf2Ixi0kXmC/U30eRvmF2HlG0FigkX3UJA5gsZY5MhBvmYnc5LMocLCVfbnJoIm1Gk+1NJLBpzWMsAjg2YqCayBN86hye8t6F054egLLsG1eUfQnX5B1Fbfg3U5QQCC+wdyEdI9q8Yt0MWCFjJmQBZyo079O/zEQt4573Yt32LvpxWzvgh0j2ODTuyV7Kc8UOm4CSlGRSiVkNbxbgDMu/TM1IST/Zd5iMWjPjWIe24BwW65E2WMAMoC34dUJrbElMeAjm6P6/h+3yEZJBknkVZIG1JaRaFmB2x3qU4uH0TAcQo2aOrZIIoC36y3aKTP84DORMgGcxMkAKDxRCDUsIJWfChLAR0SItb7sLB7RsbMYjZaP9oPHk/SnRJtLk9ifOSMaGQ0tFf0kXjSfp3oH8bOPs9BjuytYPRYykLPpQSTqNN1Aop7UU5EyTtZQMkc9fiT0y6SRsUZkeCG5H1rmkZY7KVpJwNQH5LfwyUDAFnJROk0NvJn4+McSaI42EroqalbXOq4S9A4plwtPmTaQxkwY9yNkj2KneaUwKZw+UsifmIbx1450rdRhZ8OD0u4PxDCn707Pl3pQzNc889dxkAL/G6ZAB89dVX8dWvfhVXXnkl/uIv/gJ//dd/jQ984AP4zGc+o+8L/MUvfoF///d//70DwG984xswm83vCQB89ZWX8YPzj+Hxeh5TR1IoJt2Gm2Ax4SI3taQbJY5ByrUGB/q3GqAiH9Nu3l4Ukm6IaYZCU6/h5k1ukF4U4u7GDTxi6eivmHTrbSZs92A08IDh5q0BVSHpafLXCoRUU8JF2koZIW18kNy8SxxD/RL7g/3diJqW6P4KcTvENAGA4kX8aXvRGv6Yi/hzo5hq9E/kvDi6x4TB7tub/Dl04CgmPBCpvov6S7pIX9v8EUArpRjkE8RG5LwY9q1H2rHS4E/kmvpH/bUBYaoxxpq/ZkjT/XENf0cGLIhZ7jbMF71/KS8ByE7+ojbqw9i/i/krJJzYv2MrBOb+NsguxJ1k/Ggbnfzlo2SPZynlRT7h7OwvbEYpRfo+2LMc41FnR8guxJ3ER5KcSFJdfg2UZa3Zv2tQXX4NypGtEDkvhR2WvKEeacCJzLOQBfoijuBDzvcg9gY3GG6WEudFORPQ90qWM4EWQCF7ughw+Il9B3+FmF33t69vMzLsepQFfxsw6P74t/JHtiuQl348kAUfyZJFW/35kHCswtE9vRRQOvhLE3+SQDKz5UwrEJF9e2XqT7qIv2LcjqRjNY4OWiGmvQQ+Wvw14CtAM93sRfy5f6W/faENELzryPjRKgSd/TENf/SfO/rL+A1zodXfELsOw4GNZK8hHeO38ifTvcO/0l+6s7+ju7chbltJHkJSv7p/5AW2i/RPe2DRqix0HD8H9m3fipxvA33Bq71/xbgDU4eiOFMbw3NPPorXXn35HQHAiYmJywB4CdevXQewXq8jHA5j9+7dKBQK74am99z1XgDAHz//AzxcGtWBQd9MzzGYiNr0m1gzVIwPmpByrMLhPb0oxB2YiDaBWFy76TYBRdKLibAFpaS3DZomIhYKJAzGI1bk9Zt0sz9yg0851+BAfzcmojYKKs2ZuyZgSnoxEbaimGqHtGZ/pH8OHQpa/R0ZtCJuXYFx6k80ZHV6DABDQMXTBr0aMIkcg4mYnfSP6+xvLOpA2LSctEXH4KL+Ita39Fei/cvHnG2Qrfnb27eFvCwRbfzNxf3ZGlDYlHlt9Wf8m4a/I7t7kXCsQjHhaoLWi/sbj1hRTGkPERf3RzLHZC5o/kZ894P33AeRY6k/K31BpN2fNrfHIxYCoS2ZZX380gzGqT9trk9ErCQDuKubAizJEjdrbPYnP3gjKnf9ISrLr4F059VQl12Dyl1/BGXjp/WsXCnhoNklslWhlHSRTJLg07OAhagVWXY99veTN+ILMTv9m0BTBsVMMic0W1WMORo34KYsYCnh0LM5pYQLxYRLv+GXEg6aAVypZ2qkNIN83AZZYJv8WQz+yvRlnk7+inHqTwiglHShmHBSQPEhbrkbB7dvMmaG0gzy9KWcshBoyki1+nM0AS2jA4PevyZ/csaPpHM1Du/sbs9Epcnb+XIbYBrjWaClkDRY0fw1sqkB8sJE3IFDu0wQmPt1QDHAHs9Sf2wLQJsbmS/qj/g3Arvuj45FIW7H3tBmjAQ30gxmC3ylWfKSU/ri/srUXynp0gGxkz+J85AtPhE74vZ79Qxta//yMVvT/PEaYU/zlzD6K8TsLf78tByTHWXeh307upHx3tfmT+ZZ/QUtoz8LJvcP4rlzj/zGy8WXAfDSr7d1EghA9gi+3WPg3uvXN7/5TfT29r4nMoAv/fgFPPXoFB4qjqA6ukfPNDVn9Sai5FzLYsKFlGstDu0mQNXI6jEoxJ04vqeRnROboLCQcJGbNb3B6lDINSCtOQND9nr16n+XdKzG/r6Nuj+xxV8rpGl/V0x6yEsC2t81QVNjybGxbFlIuCByDI7sMSNmvkvP+IhpBsUE9adlppr9NcEy6Z+5KVPo1v2JFO40f8UEgd7jERvCPUsaS6ocgwLNUDUvjWpLmVpGq5jykL2BdLm9GWImmnTmozYc39PQORLaBMG9puGP9o9k3hrgqi3VGgAtbCZzQQcfN8bDZgP85ON2HNu9DYW4A0cHrUjY7yX7BfX+sXQ/Jp0LFLS0PjcDGnmJhbzFS37X5I/CXT5G/I0GN4Bn7m9k5ajOEgW0sUETAb6WLGBzxlVb4tXnLM0CtsLr7s234tgeU2MOxexN8SRxGRuky8hRM9SNn4a67BqISz6E8tJrUN5wI+SkHUW6PKZDBu9DMW4ny8FNN1wCNU7kfA9gf383Xfa1tACFldwUNaigAKZlc8p0+W8irN2ENX8Ogz8x5cEwuw68axXZW5gJ0LeBm7JxPIti1NZy02VI+SAtGyfQN8UHe/UMjwa0WvavnPEjYVuJgzs2oRi3UyjVALORjSNwYEMhYtUzkBpg6tnGTMNfqVlDwqlnN5PONTiyp5fsjesAfHrbTcvhRuCzopR06tlDMUW2Ymj7iEmfnSjGbDi4cxsEZj2Ni5XUo2wBPpHT4LLZn8cARKWEU4f1hr/GA4OYdKEQtWIkuBEjwU0N8G4CXClNSi9JTfBcTDjIXEg2zwW7AZ61uUe2J/joFgA3ClEbjoetiNtXEbiMWcnYNM2FQtRigNnWsdHmQitckuywzQi4dJ7t39GNHPsAChRMdfjX5nrKDSUXwqnjaZw7WcKPnj3/tgtRXwbAS78uGQA9Hg96enpgNpsNRaB7e3uxceNG/PSnP303df5Wr29961swmUzvCQDslBl88uEKTo1lUM710eyJk2RcOAZJ52rsC20gy110CVW/WTfBSj5mx/E9PS2QRo49I0ukxr1nzZnCQsKFfLSx7Bq33IV9wQcoCDSW8zQYEzv403VE7XRPGKPflBv7yRqZrYK2J4zz4uD2zYialhogTYMKDSQ1AG2DtJgDRR3QGhmlxnIlgQMSEwK8R3Zt05eAm5cr883ZxURj39xE1IoSp4G3C4VYMzCZjWOTJtA0oQE2x2DItx5pxz2GsdFAuLEk2/A3HmkAO5kLVGPSi/FIY8m5GZq0sTk6aEXMsqIxNk1ZznzMjkLSpWfQxgd6G3vvmsYm3wHQDLHiSCZ2/45uCMz9KMQd+thooKiBmw68yc5jU0i6DFsMNH8EoBtZ48FtSzBOM+DNexoJ0HooCDub5p4Hvjv+D9Zumovbtt2OcZoBk9KsEVaSLkyEzWSPadJF9j/R30s8i6z/QYz2bW4seUUbWSQx5TGAZKFpeZdAhV+voakvD9K9pBpgaqAxGtqIDHN/42YesTaySk0Q08iONQCmFTAJoGmw0vCnQUXCsRpHd/V0zBy2QgUBSZrdpPBMYuWm++p8jb14TUChQUXSsQrHwjZS31EHSY7IC+MAACAASURBVAqzeqwI8ElpVs++ae3q2g3A5zJkq7R2RgMPgPes08emAZc+FOM2Y6y0JdKUuwlmjbEq0yVWMUWKmpP50xibnHcthvwP0n4zjTFoGZuStrzL+wz7+jS4bABYY15pS8XNY3O4fzPi1hU6gJWaMqWGZdmE0zC/NbhsZJEtBjgm/hoPNtrYTITNGA1twpB/A61x6tb3r04djOLs5ARe+N5ZvPnG6+/4HsDLAHhp16/1FvBVV12Ff/zHf8TnPvc5fO5zn8M///M/4/Of/zz+4R/+Aa+99tqvaOl393onAPD73//+uwKAzR9SzPlpPHFKxoljHEqcBynnGhzaZaI3aNYAOYYXA2iGSmzJshlupjRzV0o2YMa4CZ+AR8q1Fod29ZC9es2QM2BqQCHH6NDQDISav3zURt5O5bwkW9aUhTJu+nfjyIAFcetKfV/cRNi4T7EQd9IsZ7P2BnRo4CFSOC2lGtmyseZ9itoScMSOiPnupiVN68VjRfdRNgOaAaA5hvavBQj1PZZO7A1tRpZ9gPavkSFsjxXTtGeu1Z+ZLtWy+pvdZAnXGKvDu3qQsK+CmGL0TF/z2LQCbTHh1sGvOVbNQKtBamushpj7kHatboqVtw3QNKAlc5OlL82werbYMM50X2iR6tbm8fE9PRjYehsO929uxCrN6ODXGistQ9t71xcw0/If+JpjFQoptw4BbdBEMy3NGSbNTnCvwf4dW0ltvTR5oULLMOk304hxn1dZ8JOMT9MLJSTz49JfJCEvZ/h1YNKWgJsBU3uBQ8v4tG7YlzPkJt8JmDTA1F7KaPjzImpaor8E0py1avj1tceK1prU4KVTrIrxJu3Ub8J+b8NXpAn46H4+Lf7FhDFWOjRn/HpMpZYXM0jtQxYK1a7VpWyGSxIrtyGenWJVjDvoW7gB6rd1n2XLOKdZ7O3biuHABh32DMAn+Oinc6yaM276snvLvNIfJGisxqIOxO33GmLV+iDRmknUP3SclZZ51Ryr1uxkWQhg346tyHrXob5/AGeqx/H8U49dchHpywD47l+XnAFMJpP48z//c0ybNg0PP/zwu6npPXfdeuut6OnpedsAePz48XcVADsB4fGDI6iN78XU4QTyURvN6DB6OZZiwt1WYmNisBfFpEuvJ0f24VlbSnWQYsRawWap6W3RuHkZzQCSUh0lejqDyPsI5LSVLKGFf+nbomKaJQDaVOdtTAMdqqe5TMyB0Aa9dIkGOqTkDNHfWltPg0KJbnLWy+C01JXLRwjoaGVwShQ6DvdvxmD37bS0i0nXLtJN6K3lVsb29CAfJ3utShxD9wo5KRAby7bosUqzKNLlzNYyMIW4ViiaaRRlbtWuj7OvMc6tdQ8p0Gr+RI7BoR1bDGVgSC0/O5kLtFxOni5tG+ZMRFsaJuVkiil3h3Gmb1nTWB3o34a0a1XbOBeiNvpWNKlHWYw720vODPailGjSTvcytsadvOXoQ9i8AvkE2evVGquJsKUxjwU/jkXN2NDzz1ix/qP41v0fxTfu/xge6PkcxhI2vSxLWSvMHDHWZxOTLv0NXCUbRMa7DsPsupayHla9rpqS0QpBG8uN5COklp2i+wuSt3lbarSRZVg/DuzsQc6/ATLHdCglYoXMMXodPlkgtSQ7aVdpHTs1F9SXrQ3+ojYk7PdiLGLXy5sUY9Y27RLn0QsTK9kgPQmoVbtDj6WSDZFtKC3+Yr1LcWzATOrnUbgqtdQsJNqdjZI52RCkZHs9O610iVYbUFsi1r4f9a8HZ1sBUaujqI9ze9mVUsIBUpqFFHoWU56OpVlkvinuLeOc86xBxrXKMM5Khsa9VXvMpp+4ouRC5ISi6FvFPUhfuGiM8+EdmxHtWULLvFDtuZCe2WvXrhUrD5EHkpZaivqcyfXRuAfoG+cW1PftweOVo6iXjqFWVd9V4Gv9/OAHP7gMgJd4/Vp7AH/2s5/Bbrfjwx/+MO644w4888wzv/f7/wDgP/7jP7Bt27bfOQB87bXXUCqV8OSTT+K1117Dq6+8ggtPP4HH63lMHorr4FBIOCHzflKfLs12vHGP0zp+WsHi/MWKAyddSHvux5EBKy3I3F5zLR9t1OiTL1Kjb3ywqfBvJoBi/CKFf+MOHIvYkXSugZhmO2oaD5vpG3ukmHQ+2rnQcCnlprX1CKge37Oto/Z83K0Xgu5U729s0ERPTiEZlosXLXbqRYult9A+St+kk/lA5/qJAyYdHMmyTXtRZg0KZVo3T+Z9GB9sj/uBvg1IOFbrY1O8BO0XrwtoIW+xpknx5okW7SO0DAxZQtK0uztrj9lpwWxSXHx88GJxJ+NcFgIoxhz6d3oZmCbt2ikiY7u7Ie56ANX+e3Cy7zYIPZ8At+UGZLZdj2T3DQht/Qjcmz6CYM+nUR7YgEK4l95wzeR4r1wI6hAtStxy4+adK7E3sEE/WUHJdi4SXIhYCXDQQtBiyt1m0yi63Edhx6/7G/GtA+9YqdeNq1B/6kWKPGsFjtVsCOpQqKP2QsQCMeXSCxwrGaI9ZmoUgta10zp2lbfSznmh5rbrJVw6+SvG7fRoMlJ0OG65q8VXi3Z6okVH7RROSIHtIN331l73ToPUQ3vMSLtWd9aeJtoJIHcudl2Mk9qIKq0P2ArZzdqVXAijO7ox7H/w4tqHfpV2q669ktveOe4REvfKUB/GYy7E7Ss7a4/Z6RzVtF98zii5ICrNhcijVh34njv3CP7z1Vd0kPrud7+LqampywD4Hr1+o5dAfvSjH+Gee+7Bddddh23btr3to9be69fvCwC2ZQhffRXPPXUGZybzmDqcQDHuoMeRmelNm6UAYzznVjufVTtCTIMA7UzZhHkZ9gcfoOfBWvSTIKQMybQZzqel2Uft7FYNYFptJgZNdA9SgJ5RS+BrYtCEg30bEDMtoXa9evFjORNAMeF8C+0Uvjhv2znF5GxZ8hSs6SpEyfm7R/o3I9x9u65dO1tY5v0QuYtopydiiGkfpDS5gXSyI4WrWT1LMz7QgyHvGgjOlU3ayWkXWuHtTu3kI2YdvsqCH4WovS0OE4MmenYuAVUx5cHB7c2xpHGI22k5EpKRy0csF9fOMzo4dow7LSgtpVkc6O8GZ1/Rrj1q0W1kwY9i7CLa6VIgOdO4c9wLUfLyQsSyAoUEyayIux9EdedKnNx+O74dWoyzgZl4qq8L53fMw3dCsxDbegO4zddD2PzH4DZfj8Tm65HadD3SW67Hmb5pON+/CGcG7sTpnUswuXsVyoObUKTnzJZodoWcHRtC1nsfRtj72s9X5RlUcn0UKFgUW87hLUTMEBNOVHIhqPRkjFLC0dZOKWaFIvhxoH8bhgIbIaeZNhtyfqwHlaHGyRjFmK29LapdzQZRyYbI26NN5+dqn6RtJcbjTv3s32Ksg/akUz9WTh0KQYx31k6Ogwvpp3q02sR7l+LYbhMB2kwQaiaIYrxdezFm088jrgz1QUq5O2rXT9DIhaBk/Ibv9gXWI21fATHh1AtiV3IhSElnZ+08S05lyYVQ7qBdP7+ZwrOSDaLUdG7xkHcNcp7VKMXJiSRqNoDKUAhy2nsR7d7G6SaZQHsMoiQz2Tz/pKZzmY/0b0bMtEQ/B1nNheiDhK/z/Eu6UKHnKavZICkITWM9eWAQZ6rHcOHJR/H6a69eFKR+WwCYz+cvA+AlXJcMgIqiIJ/Po1gsIp/PQxRFhEIh3HDDDfijP/qj32sIvO2229Dd3f17B4CdgPDC02fxxAkRJ4+lyL6TQRPyYVNjszPvIzeZmA0Tg803ZXIWrCz4kHatxdEBspm4E5iI9LQPreZYIdoKFD3krTmebFaWeRaluKPDzZ28VXl80EIygPQc1DZQoJu+CaCQDdbt2q2QBXLmcZkCTD7coj1M3o7Mx12IWe8h5Q6i1nbtcYdev00DuYtpl2gtOJHesFrtSkkX9u/YRjdSMx20m2hxXJbGykeX23o7ai/TPkqct+MYHtnZjZRzNQU5+hZqGxiTs0BlmkkkcWiHwiLdQyZRXcWEw+Bvr28deNe9NFvKoCz4Oo5hPtyLUsqlb6KXOsahhxTR5Rnij75hKg5sRGXnKhze9jWc8i/CmeBsPBWaiad2zMO5HQvwxPaFOBvswhl2Gs74Z6Lm+iKSm29Aesv1yGy7AdzWGxDrvgHxLTcgtfl6nHDehLOBLpwNzca5vrl4qn8+vtc/B+d3LsJju+/E6Z1LUd+9WofCjOte7N++mQIMuZHKKTeK0eYbvBlSykVAL0ugo8wzKLWAVSlmQ5ln9LaUTIDCiRmj/nUQnCsJKHAeAhR0iU/mvG2gICbsUDK+Bpxk/BAT9nbo4DxQc6StSjYIKeVGvHcpjvRvamhPOqFk/Hr/FIFFqQXSSjEr5LSXAG0mADXjh5RytcVB1oHJj0ouhKR9JY70bzZqj9tRFljaFrEVk+2AWU579P5VhgjQtsUh6YBCl4UP7zEjy6yDGLe3a+e8jTOes0HI3EXGkMahkguhnGZQagHtUtwGmfdCzQUxGtqC0b7NHeKgjWGAxD1HoLB1PogJhx4HoisAqeUhgcCeF0o2iPGYHZxzNdVuMWpPOskSM30AUDI+HValpAMnj8TxxFQezz995tfaw/foo49eBsD38HXJL4H86Z/+Kd73vvfhyiuvxPvf/368//3vx5VXXokPfehDeN/73ocXX3zxXRf727puv/12bN269W2B2LPPPvueB8A2IKQvlTz5sIqHJ3JQMn7kB03ID5og0pu7BmgS50YxYkZ+0ISUZRkOBB8ge53SXgJVaQIKpbgd+cEevZ1CWGuLhZz2QuYZSEk3CuFe3SY/2EP+x5lmaBaKthWzIT/Yg0N9G5DoXUKeWlNu/XuZZ0nJhbCppS0HtWFQpm/yFaOWJhsT+R8f5yHAxDOQ0wzEhAP5QROO7dyM6LbbSRySLpR5TbsxDnpbMRtkzoMyT2GoYxx6ISZcKFPAlgVWj8MIswZZ10qqvQE5ZcEYB70tvXaXNj5MhziYyA2EwqD2RuOR/i2Im5YY45Byk76liV8tDoYxTLpo/72kn21x6EEpZoOU8tJ4sTi4sxsZ9+q2OBB/DN3sz15kPjj0uSWnqd9wNyo778WJvjvxcOgbOBOcg/PBmTi/Yy6q5n/DmdB8PNE3D2cp7D3un4XH/V04F5pNMoDb5+DboZmIbbkBqS036BnA5KbrkdxyA7it1+NM8Gt4asc8nN+5GOd2LMDZYBfO+maQn8E5eHLHAjzVvwBPb5+N8zsXQ3XNQdmzGJO7V0MZ3IRSpBdy0gk1w+qgo2b8KHNulKJmlKIWlKIWiHEbFJ5BhWbZKtkAFJ6BGLPqNqWoGTLnhprx42B/N4YDG6BmWMhJp6EtKW6HIrA0m0Ogr5z2trSlAVMAaob4KwsspITDYCMlHUjZ78VEzAlF8EHNBlBOeww2YswKJe0lbQl+VHJBlHkGUtxu1J5y6b4IFPogt8QhaVmOsUEz1GwASsZH+sAzEOM2g08SBx+JJ+2DnHIZ45CgccgGoGjxTzdiuj+wHoJjBcppL1QKxVqWU0oa4yAnnboeVY+Dt0McGBoHasOzkBIkDsPeNRjyrIaccum61IwfasaHMudpnw8CaUvh6XwQ2uNQ5jxQM37SVkscjvZvRqJ3iR4HNRsgPzNkbpVoHBSBxcMTGTz18Ns/rePRRx/FiRMnLgPge/S65AzgG2+8gddffx2vv/463njjDbz55pv6zzfffPPd1Phbv37XAfDcuXPvWHsv/vACvvfdE/iuchj10V0UnDRA86DMs+Bda3B0twli0olC2NT4RMjNvayDAqs/jWo2+cEeiAlyc5fTDMoCC5nzQEw4DG2RJ24COccHzeBcqyGlCHQ024lJJ8ppBjKvgYlHh69GWw3Y00Eu5UIh0mtoS0q6UOZJqZq4bSV9KrfpbemQw3kaYJVmIFH4ao6DnHLTvmlx8KAUs7bEwQ6Z82L/9i0Y9j9IILQlpsWoGRJHAI1AZntMSRwckHmGvAzAE7/tMbXg2EAvUs5VkOhYdoqpRGFPTlNAa4mpIQ58E9i3xHRf4H5kvfdRm4ZtW0zjJA4KhVCZ80KNmVDdtQontxPYezwwB+dDXXhy+1yc2z4fT+xYjCf65uOsbwbO+GdC3XYzHmVn4Im+2Tjf14Unt8/DE9sX4OyOBTjbNwdn2a9RKOzC/t6/Rar7IxC6r9czgLGtH8HB3r/BWd90nA104UxwDs7tmE9hbw6e6l+AJ/sX4Ynt83E2MAtnfdPxRHAWTtq/jO8wM/DUjvl4evtsPLlzMR7bdQce2rkUU7tXQQ1vhBizQOG9FABYCgysfuMWYw1gIqAQJOCUC0DlGYhxK/b51yHrWgkxboPKM6hk/agIxEYRWMgpJ8SYRW+rTIGpmg0QkMv4ofAECjU7KWGHSsFRpW2pGR9S1rtwtH+TbldOE+jQgEPN+FBOe/TvxZgFctJBNQeh8FqbBIYadlYaB78OhpxzNY4P9LTEwan3XxFYVJugUNcetxKAptnGSpb0ocwZY1rm3KjQ7w/v7MYQu16PqTEODCoUzioZbXyceltiTIMvCrRZPyrZ9pjKSRJTNevHaN8m7Nu+Gargg5x0GOKlpBttVbJ+qFm/IaZ6HAQNoOnP1pjGSUzVjB8TUTs4x2oKmAS0xbgVk6O78Lh6GN9/7ARe+fGFd/S83t8GAD777LOXAfASr7ddCPp/w3XHHXdgy5YtlwGww0c7mu7cKQkPjQlQBBacdTkO9W2AnHJDyfjIzVtgUea8EOM2FMMmFDWYSDhQpoCg8AzKvJcsa4X/P3vvHRzVmeb7w727d1yza+MwtbZnt3ZmfMezt+p6purW/Lx3d3bGnhlHMggBtsEZMNE2GGNMUM4dFbDBJgiUJYKyhBDK6qBOUudWQgjlBBIO8l2vP78/TqtBJEuoaQScp+pbiD5vP8/b53Sf53Oe9z3v2e1pV7Y/kIojbl/JUR4oLDsQyOkvdpEft5XEgLfcwxgx7jW3hCRUcSjU4+f0F7vcwzkRwrBPkhBzrOpwqd1uKg4Llb2qZKHvlUciqTgUQukXuyja8wkHdr5O+cFgqtwQVJXkBjk3MHl8XQZ7VUnR7v0RSflBwdfYfig/FCJsd7erckPo6S93czRmI+nh73kqPtVuUB3rV/nB4HG+xvbpWMyqpGgq3b7G7VN3v6qToqhOlVB1JIqChE9I3P2mp11FYhiVydHuvkmufXwOBAl3HyZLhOGmK47P2D6tPBzu6U9VSgy5CZ+SFrlh3PEpPyhUS6tTJULMpChUB3ei3bMWg3IlDYql2OULaJLPozl2Ia7YxbjiltCoXEiT9GWckpdxSOdgl84RIE0+j6bYBdTu/hM22QIc0nk4Ip/HFvUCluiXsES/jF06F4dkNnbJHKzS+ZiiX+LEridI3fYQSR8LFcCju56gIepFHJKXsUnnYpPNxyadizXqRWyRz2GLfhG7ZA5O+QIaFYtoks+lKXYh+tDnMIU/j0M6m0bJi7hkc2mMXUxzvD8t8X60xC5wQ+EK6uNfR//Ze6j2baH6UBC1KRJU6TJq3bBTmyqAQsWBQLeCqEmOojZVSt6enWTJtlDrBrmKA0GedlWHw6hNveRLlS6jNkVC5aGQS74OCr5UaVJqU6Wo0uUCwCRFetqUu30dCV3LqQMh1KYJQFebEjPOV+XBYGpSolGlyS75SpVSfSRCAKoxyDkS4e6P3PNvTUo0FYeCPb6OBL3LyS8CBWBMi/G0rT4S7vFVMQZMKW4faQLY1iRHU3Hw0n6oPBRCrbvSVpsiQZ0hgHSVG45z5B+SGraG6qRIatOkwn5Kk7pBO2qcr6rEUE+fq937tCYlhqrLj497n9amSS/tizSp4OtAEEejN5AVtX7c8akZi5squbav1Eu+alOvPj7VR8IFX24IVaXJPce6MGEbSaFraShJpcVYQc8ZB19dHL6lMCYC4PS2CQNgamoqX3zxBQcOHGD//v3s37+fL7/8kv3795OQkHBXLwT9xhtvsG3btikDYGFh4V0HgNdSSVE+pppTOGoL0efup+pwmCe516TECEqVCvCVGErZl7s8Kt8fQJX7JFadHO0eFgqn/EDAuHYVh4KFIZ+UGEoOhJAUto7KxJDxvg4EUJUU4b4SjxYS6DV9hVCTGuOphFQlR1F56EpfgVQlR1LrvrEkMWStUFXZf4WvxFBqUiTuoRV3Mr7CV8XBQGGILFUqtEuRUHU4nLL9uy9rNzZUKCE7bhtHFVupToqi4lDwFb6ChSv8tLGYgq/yy3yV77/kqyol2j3kGEnFwaCr9unJLwNJCt9AdUoM1cnRVBwKpXTfDk7t/ZRTez+l5HPhsVxl7gWYSw+GUfJFIEV7PqEg7iPyY7eQp9xMQcInFH6+i8K9uynYs5P8PTvIjd3KCckmjks2clyykbSwNRwJWUN27CccV2zlhGIz+VHvUBK2lIrgOdQEPY8m8Fl0Qc+gD/kz2pDnqAv5K3VBz6IL+AN1u/4v6l3/jmrXH1Dt+gPq3X9EHfgMtbufQRXwDKpd/4Fm59NodjxN7Y7/S82Of6N213+g3v0nVLufQRX4LOrAZ9Hs/g90u/6Vul3/hmb3f6AJ/BPa4D9TsvEJkrf+lv07/0Bd8F/RBf4Rw+5/Q7f7D+52z6IN+jOagGfQBP4ZdcCzqHb9B+qd/4p25+9R7/hXanf+gZpdf0S1+xnUu/6D2oBnqN31R1Q7/4Bm5/+lbtfTaHf9u+Aj+C9og/6MLujP1AX/lZrg56kIfImS4IXkhSznWMQqsqQfclSxlWPyrZxQbuO4fDPHYjaSGrqKpKC3yZa9T27cNgo+30X+Zzsp2hdA0efCtIX82C0UxH1EYfxWTn6+g9L9wcKztQ+FUp4YISznsm8Hpft2cPqLnZTtF6BdqJBJUWUoUKVKSAp+l+I926g8GEjlwUBqkiJQp0nQZCpQpUnRZMipTY6i8mCQp01VYjA1KVGox9pkKlClxlB9ONTTxuMrXYomQ4EqXUZKxAZK9u0e56s6MYTalCjUGXJU6VLUGQpqr+UrOdKzXZUuF4AvOXJcG8FXNOoMOYWf7SJLukXwlRhyWbsgapIjUWfI3DFlaNJlV/s6HEptSozQJk2KJlNJbWoMVZf5qjoURG1yFOo0KSdiPyE77hPU6TJqkiLG+zoiQKE6Q4E6XYYmU0FtShRVicFX+0qXoUob+5wCaFccCKQmKRJj/kGatCfpbKznTJOT4uJin8LY7QLA0tJSEQAnYBOeA/i//tf/4u///u955JFHeOihh5g5cyYPPfQQjz76KH/7t39Lf3//Le/s7bI7GQDLy8t9DoBXzjscHh6mr/MsZ611OGryMOR9SXVSOGVf7KQ6KdJ9xRvjPnmFUb5/N+X7d3lUcTAIVZoUlfvKtjY1hoqDgZ7tRfFbORzwhlDBGKtypMmEKsFVvoLdVY6xSkgMFQcCxrUp+3IXNclRqNMuVUyqDodR/qWwveSzT0jc9TqVbl+qVAlq92co3+/29eUuyr7cyekvdgqVUPdwb4X7ppeTe7Zxcs82ivd8TFHCVk7u/ZRT+4Mp+TJIWCx5327yYreQp/iQ9LDVpAS/Q7bsffLit5O/Zwc58Z+QE/8pJ+QfcjRqHUej1pEVuZbMiPfIitnIMflHZEk/JEu2hYyYD0gNXUVqyLukBL9DcvDbJAW9TUr4elIiN5IUtpaksPUcDnyXQztXcnDnCkE7VnAo4C0Sg9/jUPAaDoesITFoFQd3vU7irtdJ3P06hwPe4HDAmySHryU1ciOpkRtJj36f1PC1pIS8Q1roKtLCBGVFb+SYfCvHpB+SL19PQcRKinbPRhX6MnWhf0Uf8hcMYX/FFPkS9dFzaYiejSX6Razhf8YS9ifM4X+mIeI56iNewBwzR6jCyRdily/ALn0ZR+RfcET+BVvU81hjXsYaMwencjHOuCXU7HoGu3whLtlsGmOexxXzPA7Jy0KlULGYxrgluOL8aYzzxyWZi2XVL7G88hDm5Q9hWvoQ5lVP4FIspilhKc0JS2lO8MelmE+j5CWapC/QKH0Rl2wOjbGLadmzjMZ4f5r3LEMX9jymsL/ginmBxpjnccY8j0MyG4diEc5YP+zyhdgVi7BKZmONfB5bxF+wR/xZ+MzRs7FI52OWzMMcM5f66NkYIl6gLvxlqiMXURb1KkUx75IX+xEZMR+SErmRE8qPyYrZQGbEe2RGvEdG+BrSw1aTEbWBTMmHpEdvIj36fdIi1pEU9DZJgW9xJOBNDge8QWLAmxwJfY/DIcLxTgxew8Fdb1z6PuxcwaFdKzkU+A6HQ9eSFLqWlIiNJIe+R1LQWyQHvU1K8DukBL9DWvgaMmI+IEu2hSzpZo7KtpAZtYGsyLVkRa3laPQ6jsVsIFv5EXkJn5KbsJ38PbvIi99GrvwDchUfkKf8kMO73+CE7ANKvgzi1P5gSg+ECMv7fP4pJz/bRslnn3Dq8+2U7ttBRWKo58KlNk1K9ZFwKg4EUHkggKqDgVQdDKTmSBjaLAWaTDnaTAWaDDnVh0OpOhRInvJDMsLXUJ0YjDo1Bm2mEk26jLosJeqUaKoOBV7SwUBqksIFXxlytFlKtJkKqg+HjGsn+IpGm6UU2mUqUCVHUXUokOMxGzges+GSrww5mkw5dVlj/brC1+EQ1Gkxbl9Cv8Z8qVKiqC88RJOmiE6XiaHezquGcjs7Ozl58qRPYcxisYgAOI3tpoaAL168yEMPPURPT4+3+zMt7c033+Tjjz8WAfAmAfBaGh4eZqC7g3NOIy5NMfXFSajTBWhTp0sEIEyTUJsSTcWBQE7v3c7pvds59fknlLmriRWHwyk7FELR3l0kh6ymOGErRXFbKIzbQmHsZor2fELxvt0U7d1J0d6dFH6+g1zlZk5INpAt2cDxmPVky94nR/kROXHbyFZuJVu5lWPSD4QEGr6ajPDV8w9J/wAAIABJREFU7gS6nsyY98mI3kR61CaOBK8hOeRdjgS8QVLAGxze/TpHAt7iSMhqIYkGu/8NepfEnStJ3LlC0K6VHAl6h+Sw90gOX0tK+DpSItaRHPIuyYFvkhL8NinBb5MWtobMqI0clW0mNWI9qZEbOCbZRFbkexyNfI+jUWs5Fr2ebNmH5MZtIzf+E/ITtlOQ8Am5ys3kSDeSK3+fXPn7FMR9RPHenZz6MoiSfQGU7g/m1L7dFCd8zMmErZzc8zEln23j9Je7OblvN8nha6lOiqQqSagklO37lPIvd1L+5U6qDgWhTolGky5DnRqDJl1KbVIElQcCqNy/y63d1BwOE5LV4UAMh7bR8OUGGuJfwyqdhyPmRaySORjDX0Qb/BzO+KW4YhfTpJxHk2w2rpgX3ID2EjbpXByKRbjiluCM96cx1o9mxVwBuKKfwxX9HI6Yl7DLFuBU+uFK8McVu0TwJ3vZ40uz4//DEvUiDsVCwVfcUlxxS2lUzr/kK+Z5nNHP0/DurzAteoSGxQ9jWvww9YsfoWHpw9jW/JImyQs0SV7AJX0JV+wimhKW0xjvT9OeV2iK98cln02ju02T5AUMQX/EFDWbpj2vCO0SlgtzD6Uve9o0SV6gST6XxoSlNCUsoylhGY0Jy3Eq5uOSvHipjewlmuIW0bRnudB2zzJccf44ZXMxhf2V2uAXqU94A9P+9zEkB6JLj0Z3VEldpoLapDCqDwZQcyiQmkOB1B4OoS5Diu5oLHWZMnRHlWhSo6lJDKbmUCDVhwKpOhhAbVI4mnQpqjQJqjQJNcnRJAe/Q4HyQ07v3U7p559Quu9Tyg+FUJEYTpn72bQl+3ZSFP8RhbGbKVB+SL7iQwrjt1K0dxeFn+2g4LOd5CdsJ0f+Acej13E8Zj3HotdxLHo9J+RbOKHcyjHZFpLD1pEesY70sFWkhb5LWsg7pAS/TWrYGtIiN5ASsY6UiPWkhK3lSOBbHBr7ne1cwaFdr3MkeDVJoe+5f5drOBL8rvu3KvxukwLfJCV0NelRm0gJX09y+Drhdx7+Humh75IZvprMiDVkRa7lhHwzOXHbyFF+TG78J+QqPyJbupEc6UZyZJvIkW2iIH4rxXt3U+xezqjkiwCK93xCYdwWihO2cjJhKyWffUL5oRBOKLdyQvER1clR7tEL4TdW4VbNkVC0GTK0biisy1RQmxyB7mgs1tI0WvWldDebuTDYM6F5e954QsbNAKBerxcBcJraTQHg+fPnefDBB+no6AC46xeDfuutt9i6desdBYDDw8NcuHCBsrIyHA4HAwMD9PX10dvbS3d3N11dXXR2dnLu3Dna29tpa2vjzJkztLa20tzcTFNTE42NjTidThwOB3a7HavVisVioaGhgfr6ekwmEwaDAb1ej06nQ6vVotFoyM/Pp6ysjJqaGqqqqqisrKSiooKysjJOnz5NaWkpJSUlnDx5kqKiIgoLCykoKCAvL4+cE8c5lnKIzP0K0uKDSZFsJTliI0khq0gKfofk0DWCQlaRFPgmyUFvkRK6muSQ1aRHrScjch1Z0RvIitnIUckmsqLXkRGximMxGzgh+4ATis1kKzaTLf+Q3Nit5MVtJU+5RTiBy98nP24rRZ9tp+izTynes12oNOzdScm+nZz8fDtFcR9RmLCV5JBVlB8Idk8WD6AyMYTKxFAqDwVR9uVOyr7YQfXhEGqTI1ElR6JKiUCdGokmLRpNahS1SWFUHdxN7ZFQ1KlRaNJi0KRFo06JENqkxaBOiaAmMYhs2SZOyD9wvx6NOjUKdWoU2rSYq32ljMWIvvR3WgzqlEhqDwdTdWA3quRwTxuN25cmNRp1WhSlX+wkKfBNag+HXupvmuBLm37JV83hYCoPBqBKDkebHIY+cQfG/Zup37cW62dv4Yhbgks2B1vMHOyyedgVfjiUfjhi/XC478a1RD6PKeiPOKWzsUtmY1csxBHrh1PphzPWD6diES7lQhoVc2mUvowj5iUcsnk4lIuF7XF+2BWLcCoFf41y4eYLe8xLOOULPH4cysXU7PoTdvkCGhULaJTOxhH9Ak7pHJyKhThi/XHGLsahXIw9cjYNfo9g9n8E87KHqV/2IA3+AggaFz+CM2o2zrglAszF+dGkmEej5EUaZbNpVC6iMW4JjQlLccYuxpWwFF3oCzREvkiTfA6NkhdolM+lKc4PV7xQcXQp/WiM9xfep1yAS/ISTdKXaVLOd7dbijPWT6hQJiylMXYxjYp5uCQv0iybQ3PsQprilmCKnoM29Hlc8f6C39hFuKSzccnn40h4DdsXazEf3ILx8HYMaaHoMiToMiRoUsKpPRSIJiWCugwJukw5+kypAIdZ7r/TolAdDkaVFIo2PZqMqPVUHgqhLj0GfaYUXabM7SvC40uXIUGXKRO2Z0jRZcku+UoKRXU4mLq0KHSZUvRZMnTpMcK/l/tKDCI9fDUVB4OE1zNl1KVL0GXJ0GVK0aZHo04KpfZwMNq0aI8vbVo0ugwZ2nQJmtRoao+EUrl/F9WJQdQcCacmKYKapDCqE0OoOhzmvgEjgGzZJtJC36X0i52c3h9A6RcBlOzbIfz29+6k+PPtFMZvJVe2iXzlh+THbaUgfhv58R+Tq9xCrvIjcpVbOCH7gGPR68iMWM2xGOHC7ahkE5lRG8iM3kBG9AbSI9eSHPwOh3evJCX4beF8FrqapJDVHAl+h6TQNSRHbCRFspX0+GAy9ys5lnqI3OwT5OfnU1hYSFFRESdPnqSkpITS0lLKysooLy+nsrKSqqoqqqurqa2tRa1Wo9FoqK6uJi8vD4PBgNFopL6+noaGBiwWC1arFbvdjsPhwOVy0djYSHNzM62trZw5c4a2tjba29s5d+4cnZ2ddHd309PTQ19fH/39/QwODjI0NMSFCxcYHh7m4sWLfPXVV5jNZrECOI3tpgBweHiYhx56yAOAd6N9//33fPvttwwPD/PKK6+wadMmTCYTFotlwgDlcrk8AGUwGMjLy8NsNv8oQKlUKmpra8cBVHl5uQegTp06RUlJCcXFxR6Ays/PJy8vj9zcXLKzs6+rnJwccnNzyc/Pp6CggMLCQoqLi8edSE6fPk1ZWRkVFRVUVlZSXV1NTU3NuJOJVqtFp9Oh1+sxGo2YTCbq6+sxm80UFRWh0Wg8JxSn00ljYyNNTU20tLR4Tipnz56lvb2djo4OOjs76erqoqenh97eXvr6+hgYGPCcWAb7e+k+46TNrKJJU4TtdBrG4/FokkMp37+LjKh11GVI0aRGUZchoS49Bm1qBOojIdQe2o06KQRtaiS6TGGbJj2aunQJ2tRINMnhqBIDUCUGoE0JdycQKVq3L21aNNrUSMHXwV1UHdhNSsi7wvvTY9CmRVGXLkGTFoUm5ZIvTUo4denRgo8xX+kxgq8kwZf6SIgn+dZd5kubFoU2JRzV4UAKFJvIlb9PXZrgQ5MWRV26lLr0aLRpUWiS3J/R7UuXIaEuLUaImS5BmxYp9OtwoNCv5HBhW6bwGbXpMZ6Y5V/sID3kTdRHhP1V595WlxKKITkA44GPqN+7lvq41zArlmBTLsGhXIQjdokAZko/nMpFOCRzccjmYpPMwS6bj0MhAJbQzg9n7BJMES+hDXgGu3QuNslcHPIFbh+LBVhUumFQPt99k8ZswZdykTC0q1zsgUGHchEO2VwcMbOxSWbjkC8U2rm3Ve96Brt8EQ7FQhzSudiiX8IumycMxSr9BF+KRVgD/oJp8SPU+z2Myf9BjP4PYvR7GOPihzEuegRH4J/dALgUZ+wSXIqFOCSzccrn4op1DyXH++OKFcBOF/oCpsiXcCrm44h5GZdigXubu53Sj8b4ZUJVUrkIh2QOTslsXEqh6ilUNAVfAtwtEaBVMhuXfJ4QM94fU9Qc6kKfozF+qfC+2MU4ZXNxSufgki/AFecn9DluCa44P5zx/jj2vIY14XUa9rxJw/6NNBzZjjE1FGOWFH2mBONROYYsKfr0aOqSQ6hLDkGXHkVm1DqqDoegz5RiOCrDeFSBPlOCLi0CzZEgdGkRl95/VI4hQ4rBDZP69Gi0yaFok4LRpUcJPrJk6DMlGNz+9Bkx6NIi0RwJIjN8NZUHgzBkuX1kSDAeVWDIlKLPiKYuJRTNkWD06VHoMySeOIYsmbv9JV+61AihTaYU41EFuowYDFlyIX5GDCV7tnIi+j1Pv4TPL3P7FcBUlx6F5kgQdanh6DNi0GdJMRwV+mU4Ksd4VIhZlxqGJkno11jfx3wYjgp9LIzbQkHcFixF+2msPkGboYwul4HBrjNcHL7AV1995bmYP3/+PENDQwwMDNDf3z/uQr6jo2NcHmptbaWlpeWqi3idTkdBQYEnB5lMJoxGI3q9nrq6OrRaLWq12pN/qqurr7p4vzL3FBQUkJ+fT25uLjk5OTfMO3l5eZ68U1RURHFx8bicU15eTkVFxTh4ValU1803DQ0NmM1mrFYrNpvNk2uMRiNFRUW0tLRcE14vzzP9/f0MDAwwNDTE+fPnGR4eZmRkxAOwIgC67ezZszQ1NdHc3IzJZOKBBx6gsrKSs2fPYrfb+f77729lP31mP/zwAzNnzmTGjBnX1NNPP31dgDp16tRVX+YxgKqoqCAnJ2dCAGWxWLDZbNe8IhsDqLa2thsC1NgXu6ysDKfT6bky89UQsK+GnYeHh2lx2sjLPEy7RUWzphBbaSrmgv3U534uJKaMaAyZEvTpMdQlh6E+HIQ2JRx9WhQGd0LQpwttDBkSdKmRaFPcSSo1wr1NSIr69GjUyRFkhK+hLiUc9ZEg6pLC0KdFok+PwZApRZce7Ulo+rQo6pLDhaSRHOaJqc+IQZ8R405kMehSI9AmBaNNDkWXFoXhsm0ln39KQdxWdG4o1CQGU5cchi4tEkNGjLtfMUKiyRT6rzkShDYpBF1q5KU4Y5/R/XddShiaw8Fok0LRJ4dgTApAvfcDCkKWYv5iHdbP38YWuwybbCFW6VxsisXuSp4/NqU/tlg/HLGLccoX4JDOxSqZi1W6ALtiMXblEhyx/gIgxi7BqRAAzS6ZI0ChYjGGyNlogp/DEbsEm0IAQwHQhDY26XxsCj/syiXYlUs8vhyKxThk87FLZmOTzMEqX4BNuQR7rD92pR82pT/2WH8cikUC7MW8RPWOf8MinS+8HrsEu8IPe+xS7Eo/HPKFAoTGvIw17HkMix7CsPARjAsfwrDwYQwLH8Gw6GGMfg9jD/srDulcnIpFwjBy/DIcyiU44pfhSliOM3YJDjewOuXzqQt5DkPkXJzxy3DELsGVsAxn3FKcisVCNVMyG6digVD5jF+OM84fZ6y/0D7O371vZ+OQzcWpFGI64wUfjXFLccYvxaH0wxj2HHUBfxJgL9YPZ9wynPFL3b6W44jzFwBcNs9T+XTFLsEVtxRHrD+u+KU44pcL+0a+CJt8Ebb417DtW43t4AdYDn9MQ9IOGjLCOR61jppDgehSwtCnhmPMjKH+mJz640pMWVLqjymoP6bAmCXFkBaBPjkUQ3qksO24kvrjCuqPyWk4rqT+qAxTZgz6tAjqkkMxZkZTf1RG/XEFpqMyjsVsRJUUjilTgiE9Cl1yKPq0cEyZMdQfl9NwXHEp5lE5xkwJ+pRwdEmhGDOiqc+SuePI3f0S+mjMiEaXFIo+NQJjpoT6YwrK9weQp/yQhuNjvmLQp4VTlxyKIT3K03/TUZng6/glX3UpY75iPJ/NlCWl4UQs1oIvsJ1MpKn6OGeNp+l26RnsaEanUWEymXxWGfPFEPBY5WwMXk0mExqN5ip47enpuW4RpaWlhebm5nHwarPZxo1AXQ6vVxZPysrKyMvLo6qqioqKCsrLy8eNPF2rcHIteG1oaBABcGwH/OM//uO4haD/9m//1vPvzJkz6erqmlJH/vM//5OdO3fyy1/+kvvuu49f/epXBAcHjzsAP/zwA4GBgTz++OPcd999PPvss1it1nF+hoaGWLlyJQ888AAPPPAAK1eunPRTStra2ujs7KSvr48LFy7wxhtvsHnzZi5cuHDToNLR0UFBQYHPhoDHVF5eTmNjo09j+vrO47Nnz1JcXHxtQLxwnoHuc3S3WOmwaTmjP0VzTTaO0mRsxQexFuyj4USscOI+KsV0VIYpMwpdcgiGlFBMGVE0HJV5ElX9UWEYKytyDcb0cPQpwRjSwjBlSdztpO52MuqPyTBmxKBPDkWfGooxPRLTUYnHl5C4ZNQflWBMi0CXHIwhNZz6LPf7j0qpz4rh9L4dFCd8jDEzGn1aGLrkYIzpkdRnSYV2WVJMWTE0HJNTf1SKIT0SXVIwhpQQjGnh1KeG0JC0i4ZDH2E++AGWL9Zj+exdLHGvYpb7YVH4YVX6Y49dgkmykKrdfxEAT74Im3Q+lpi5WGQLsSr8sMcKIGZVLsEW64891g+7bCHW6DlYYuZilS8S3qsU4M8W54/NDYI26TwsMXOwSOdjUfihj5qLKuQFrLFuGItdik2+CKtEaGeVLhTeF7sUmzuuLdZfgEH5Qmwxs4W+yRdhi12KPW4pNsUSrIolWGOXYVP6YZXNwxL1MhXb/40G6SLsscsEf0o/t19/rIrFWGPmYIl+Gat8Ica3f41+4SPoFz6CbuHD6BcIfxvf/p9CFVI6D3usAH3O+OU4Yv0FeIpfjjNuGTb5AuySl7HJF6AJeRF99Dzs8cuEoeY44T32OH/ssnnYYl7GrliEI24Zjvjl2GPdgBi/HGfccuwKP6ySOdglc3HELXGDoRvo4pfjTFiOI24Z+tAXUO/+I3b5fBxxS3HGv4LDDZ12d9/syiVYpfOxS+diVyzGETcGfUs9MR1xy4SbUqRzsEvneT6bPX4Z9tilOOKWUhX4V0yyxdhil2GOew3rvtVYD32A7cg2LEe2Y0kLwpIVieWYlPqsaIypodRnRmI5LseSE4slW4n5mAxLthJrthLzcRmmjEiMaSE0HJVgPaHEmh2L+YSCbOkGtCkRWLKVNGTFYEwNoT49AvNxGdYTyku+TiiwZMdiOaGgPjMSY2ooDVlRWE7IhXYnFJiPy7Fmj71Hiik9HFNaGA1HpViylVQdDKQwbjOWE0qsJ2KxnJBjyowSYmZGXhZD6LMt/zOcxQdwlR6huTKTtrpCOq019DY3MNjRzMXz/Xz7zTfXhaWxi/67CQCv1O2YA9je3s7p06enDK8jIyMiAI6Z0+n0VKYul8PhwGq1TrkCGBYWxiOPPEJ+fj5nzpwhKyuLv//7v0epVHraREVFcf/993Ps2DEsFgvLly/n8ccfZ2RkxNPm5Zdf5qmnnkKlUqFSqXjqqaeYN2/elPr2zjvv8NFHH00JUkQAvD0AOFFdGBpkoKudvrMuupvq6bSpaa8vp62uiDOafFprjtNUlorr1BEs+fvIVmzGlhePPUeJJVuG9bgc23EZ5qPRWI9JsZyQYT0hw3JMguVoNNZjEqzHpdhOKLBmy7BkxWA9Icd2Qob1uBTL0WgasoR2thMybMflmLOiMGdGULn3I0pjN2FOC8Cc9CkNh7dhTtyK+dBHmPd/QP2+tZi/eA/L56sw73kTS9xrNCiWYlb4Y1Ysw6Lwx6JYQoPcH7NyKRaFP1aFH1a5Hw0yPxoUS7Eol2JV+qOLmk/5rr9gVi7DIvfHIvfDIvfDLF+CWblMeL98ifv//ljc/izSxVjkizErl2JWLMWiXE6DzA+zYqngS+mPVbFE8OV+XRM5n+qg52mQX2pnVfhjUfhhUSzGLF+CRblMeL9sifA+pdBXi9wPq1yIaZEL/TArl9EgW4xZscQdc6ngS76Isu1/wijzE15X+Asx3e8xK5e4P6cQ0yxdjP6NJ9HOfxjt/AfRzHsYw1u/xipdjFWxBJvSH6tyKbb4V7DFvSK8FrsMa9yrWJXLBABV+mFV+FMT+hLayHnudv7Y4l7BFu9uF+s+DooxX8uxKpcK/49bjjX+VfdxEYDbErdMaBe7HKvcH1us8B5b3DK0EXOoDXoOq9Ifa9wyrO5tHl9xrwivK/yxyv2wxi4V/MS9ikW5TPh/3CvY4pcL3w/lEsGXcqk7xivuv5dRHvAchphF7r75CX2OXYYtfjnW2GWX+hC/HEvscizxr2HZ8zrWvauw7l+P9cAmLPs3YkncgjVpO7aUT7Ek7cCWuht7Rgj2Y5E4jklwnJCRJ1mPIS0cZ04cjhw5jmzhN2PPUeDMjcWRG4c9W4EjW4EzV4kzNxZ7thzHcYnwb44SZ14sjhwl9uMynLlKHLnC/525sTjzYnEV7qW59CCaDDmnEyM4U3OUdm0e7YZiOupP02NX0ddkZLDdwYWes26wu/mnY9wuAOzo6BABcJIwKAKgj2zu3Lm88847417z8/Nj5cqVgFD9e+yxx4iKivJsHx0dZdasWezduxcAu93OjBkz0Gg0njZqtZoZM2bgdDpvum/vvvsuW7ZsEQHwLgbAyainp4fc3Nxxrw0PDzN8fogLg32c7+9mqKeTwZ52BjrP0N/RwmBnKwMdLfSfa2bgXLPwd0cL/e2NDLQ76W210XvGSl+rhb5mM71N9fQ0N9DbZER3OpvagjS67Bq6HFp6nXX0uPT0NhnobW6gp9FIj8tAj8tAr1NHp0tHt7OOXpeO3kYjvY0Geprr6W000t1ooLdRT7dTS6ddQ7dTS89YuyYjLn0lJzP20+PS0+2so8uupsuupcdZJ7RrMtDbZHLH1NPr0tPtEPrVZdfQ69TR69LT12Skp8lET5OR7st9OerodmjocdbRUJVHZW4a3Y0mel16elwGuh11dDouxex1x+htMtHtNAifxSn46LJr6LZrLrVrNNDTaKKnyUC3S0ePs44um4pOm4bcw/Gcra9y7zejO6aOHqeebodW6JtNRY9D64n5xaa32bw9mNcUcgZaTfQ3GehzaRlo0jPYYmSopZ6hMw0MtloYOmNmsLWBoRYjfU06+hp1DDTpURWm01CZJ2w/Y2WwtYHBFhODLUYGmnT0N+vob9Qx2GpisLWeoTNWhlotbr8mBpoN9DcJvgaaDQw2GxlsrWfwjIWh1gbhPS0m6iuyqclJor9Jx1CLicGWegabTQyesQjtm90xmw2emANNegbG2rY0MNRaz2CLQWjTWMdAUx39TXpPzIFWM0OtZkoyvqTFUEZ/o47+xjqhbfNY/0wMtV0Ws0lHf1MdfU4tfY1az+cYaDYJn7HFJMRs0tPvqmOgUSvsu2YDA81GTqV/SYupkqE2K4NtFs63Oxg662TonIvznc0M955luKeNC11nuNB9huGuNuHfnrNc6D7LSF8HF/u7uDjYy9cXBvh65DzffHXxmnfNulwuVCqVz0BFBEARAG+3TQoA9+/fz7p169i3b59n4efvvvuO7777bsodiYyM5Be/+AUulwuA+vp6/uEf/oHU1FQAWlpamDFjBkajcdz7FixYwBtvvAHAgQMHmDVr1lW+Z82axcGDB2+6b++++y6bN2++IwGwoqLirgfA9vb22w6At1INDQ1oNBqfxPIlTNvtdqqrq30SKycnh97e3gm17e8Z4rhMR8J7pz3KVhgYHvpq0olEq9Vit9tvedJzOBxoNBqfJNiSkhI6OzvvulgiAHpfZrNZBMBpbBNeCHr79u08+OCDvPDCC/z0pz9lx44dACQkJLBkyRKGhoam1JEffviB7du3M3PmTP7mb/6GmTNnEhER4dleW1vLjBkz6OzsHPe+1atX8+KLLwIQHh7Ok08+eZXvJ598cpyvydqqVaumDICdnZ33DAD6eu1BEQC9JxEARzgu07Fn7elxALhnnQCBk00kIgDeObFEAPS+zGYzBsPkfzdTkQiAE7cJ3wTyq1/9ii+//BKAnJwcnnrqKbq7u+nr6+OJJ56gvb19Sh1JS0vjn/7pn0hLS8NsNnPkyBEefvhhEhMTgUsAeOXNJqtWreKll14CBAD8zW9+c5XvX//610RGRt5031avXs2HH344pQR0OwHQ5XL5NKavh53b29t9+pxlXwOg2WwWAXCKmigAdrT0jQO/K9Xbfn5SiUQEwDsnlq8BcGwtPl/F6+jomPIzcier2wGAZ8+epaysbEo+RAB02+UAWFxcDEB3dzePPfYYbW1t/PDDD8yaNYvW1tYpdeSf/umfSEhIGPdaaGgo//Iv/wLc3iHg1atX8/77708pAYkAeOskAqB39+W9DICOuvYbAmCTsXtSiUQEwDsnlgiA3pcIgNPbJjwEHBAQwIYNGzh//jxff/01Dz30EG1tbVRUVPDrX/96yotCP/zww3z22WfjXouIiPAM6Y7dBBIdHe3Z/t13313zJhCtVutpo9FopnwTyJo1a7wCgPn5+T6DhjGJAOh9iQDoHU1HABQrgD+ukydP3pUA6HQ6fQ6ADQ0NPosnAuDEJQLgFRYbG8vPfvYznn76adavX89Pf/pT3n77bR5++GF27NjB6OjolDry5ptv8o//+I+eZWCOHz/Oz372M7Zt2+ZpExUVxaxZszh+/DgWi4VXX331msvA/O53v0OtVqNWq/ntb3875WVg3nvvPTZt2jSlBCQC4K3T7QDAnJwcn8Uzm82o1Wqf7ct7GQBHRsQ5gD+muxkA1Wq1T2KNjvoeAM+dO+dzAGxoaBABcBrbhIeA586dy29/+1uefvppfv/73/Pv//7vLFy4kMTERP7zP/9zyh0ZGRnhgw8+4J//+Z+57777eOKJJ9i5c+e4O4zHFoJ+7LHH+MlPfsIzzzyDxWIZ52dwcJAVK1Zw//33c//997NixYpJLwR9pYkAODmJAOhdiQA4dYl3AXtPIgB6R/cKABqNRp/GFAFw4jZt1gGczrZ27do7FgArKytFAPSyRAD0jhwOx7QEwDFFBezGT3GcF44cvelEIgLg1CQCoPd0rwBgW1ubCIATNBEAJ2Dr1q1j48aNU0pAXV1dIgDeIp07d04EQC9JBMAR+rq6SA/+FOmyuR7eiOPyAAAgAElEQVRlhu7kwuDApBOJCIBTkwiA3tO5c+coLS31WbzRUREAp7tdFwDHbv5Yt24dcrmc4uJiRkenNs/vTrV169axYcOGKSWgewkAfb32oAiA3pMIgCOkB3+K7JX54wBQ9sp8MkN3TjqR3K0A2NXV5ZNYIgB6T/cSAJaXl0/Jxz0PgGNWVVXFH//4R2bOnDnlpV7uVPMWAObl5fkMGsZUWVmJ0+n0acy7HQB7e3tFAPSCpiMAtje6xoHfleppa51UIhEBcGoSAdB7EgFw4hIB8Arr7Ozk+++/v5V9mba2fv161q9fP6UEdK8BoC+rjiIAek++nE85HQHQWlt1QwB0aSe3TIgIgFOPJQKgdyQC4MQlAqBoHlu/fj3r1q2bUgISAfDW6dy5cxQWFvosngiA3tF0BECxAvjj8jUA+iqWrwHQYDDc9QBYX18vAuA0NhEAJ2AbN24UAXASEgHQuxIBcOoS5wB6TyIAeke+BsD29nYRACcoEQBF89imTZtYu3btlBJQd3e3CIC3SCIAek8iAI7Q3y3eBXwjiQDoHRkMBsxms8/i3S4ANJlMPo155swZEQAnaCIATsA2bdrEe++9N6UEdLsAsKqqSgRAL0sEQO9ougLgmIJjtvNviRk8ezTpphOJrwDQbreLADhFiQDofd0uAKyoqJiSDxEARfPY+++/LwLgJCQCoHclAuDUdTMAKFPEsDhDx/zs/JtOJBqNRgTAOySWw+EQAdDLEgFwetuEAfCHH37gv/7rvzz6/vvvPfLGo+Cms33wwQesWbNmSgmou7ub3Nxcn0HDmKqqqnA4HD6NKQKgdyUC4NQ1GQC80DtE9z4T5z6p8qjni3q+OT/5R8GJAHjnxPLlMPro6O0BwNOnT/ss3uioCIDT3Sb8LOC//vWv/MM//AO/+tWv+MUvfuHRL3/5S37yk5/Q0tJyyzt7u+yDDz5g9erVU0pA9xIA+nrx6Y6ODp8DYHZ2ts/iiQA4dU0GALv3mTi3vWocAJ7bLkDgZBOJCIB3TiwRAL0vk8kkAuA0tglXAJOTk1EqlezZs4eEhATi4+MJCwvj//yf/8PMmTNxuVy3sp+31T788EMRACchEQC9K4vFIgLgFDVRADx/pm88+F2hrzovTCqR+BIAtVqtTxKsCIDekQiAt0atra0iAE7QbmoOoE6nY+3atTz66KMsW7aMmpqau3pHbd68mVWrVk0pAd0uAKyurr4tAOjLeYciAHpPvlxU+1YA4PDwMOfPn2dwcJD+/n56e3vp7u4mOzub5uZmzp49S1tbG62trTQ3N9PY2IjT6cRut2O1WrEXGW4IgLZCHWazWWhrt+N0OmlsbKSlpYUzZ85w9uxZzp07R2dnJ93d3VRXV2MymRgaGuLChQuMjIzw1Vdf8c0333g16YkAOHX5GgD1er0IgLdAra2tVFZWTsmHCIDXMLPZzNNPP82//Mu/IJFIuHDhwq3q17SyzZs38+67704pMfX09IgAeIskAqD3dLMAeD3w6uzs5Ny5c5w9e5YzZ87Q0tJCc3MzLpcLtVpNSUkJVqsVs9nsWTNMr9dTV1eHRqNBpVJRU1NDVVUVFRUVlJWVcfr0aU6dOsXJkycpKiqioKCAvLw8cnJyyM7Ovkq5ublkZ2dTUFBAcXExJSUllJaWUlZWRkVFBVVVVdTU1KBSqdCdUt0QABuqDBgMBnQ6HVqtFrVaTW1t7bj+lZaWUlJSQnFxMTk5OR5d2a+cnBzy8vIoKCigqKiIkydPcurUqWv2S6PRUFdXh16vx2Qy0dDQgMViwWaz4XA4UKlUlJeX09raSltbG+3t7XR0dNDV1UVvby/9/f0MDg5y/vx5hoeHuXjxIt988w3ffvvtpJNjcXGxCIBe0L0CgPX1k586MRWJADhxmxQAlpSU8M///M+sWLECvV7Pd999d6v6Na1sy5YtIgBOQrcDAAsKCnwW73YAoEqluua2CxcuMDQ0NCHwampqwuVy4XA4sNlsWCwWGhoaMJlMHvCqqakhNzf3muB1OdgUFhaSn59/XfAag5v8/HwKCwuvCV4lJSUUFBRcBThGo/GakONyuWhqarpute1y0Lm84jYyMj3mAH777bd8/fXXXLx40XPcBgYG6Ovro6enh66uLs6dO0d7e/t1j9n1QPnUqVMUFhZSWVlJeXm5B5KLi4spKioiPz/fA8LXAuRrHafy8nIqKyuprq6mtrYWtVqNVqslLy8PlUpFfX39pKqhvb29DAwMTKoaercDoMVi8Vm8s2fPigA4QYkAeB0bHBwkISGB3/zmN/z+978nLi6OgYGBW9G3aWMfffQR77zzzpSSeE9Pj0/vHB2TCIDe1xgAXiuBTxa8rqwmXQu8CgsLycvLGwde10vmV1aViouLOXXq1HUrXleCl0ajIS8vz5PUJwte58+fHwdeN5Kv5wD29PRMqO3wHXoX8ESGgMcS21dffcXIyMh1q7bt7e3XHCq32Wzk5eWh1Wqv+f293kXDj1Vqr1cNzcnJ4dSpU5OqhrpcLpqbmydVDf366699eiPN6OjtAcCysjKfxRsdvfMB8Icffrjd+HFLbcIAaLfbqaurw2AwoNfraWhoIC4ujv/9v//3uJtA7sYd9tFHH/H2229PKQGJADh1DQ8PX7Ny0tTURH5+/rik1dLSQmNj44TBq7a2lurqak8F5XoVr4mC11gCO3369FWVlGuB1/WqKc3NzWg0GioqKn4UvIaHh6e8j+/0OYDX02QAcExRsVLW7C9hZWraTSeS6QaA3pA3hoAnWg0tKCjAarVOqhp65W/58mroj/2Os7OzJ1UN1el0N/z93uiiSa1WYzQab+nc0MslAuDkvp8iAALff/89AL/73e+YOXMmf/M3f8N/+2//jZkzZ/Lf//t/56c//SkzZ87EbrcDdycAbt269Y4GQLvdPiUf1wOvrq4uOjo6rqoWnDp1ypP4xk7UEwWvsZP1WNXgx07Yubm55OXlkZ2d/aPgdflJ22Aw/Ch4XauC0NPTQ3t7O9nZ2V4FrxvpRkPA3pYIgEKF99ChQwQGBnqUmJjI+fPnJ51IRACceqzu7u5b4vvKaqjZbKampmZS1dBrXVRqNJoJVUOvN2f1RnNDy8vLb7oaWl9fz8mTJydUDb2ZuaHX0tg51hfflTG1tLSIADhBm3AFsKenh3PnztHR0UFnZ6dHYxAwBop3o23dupW33nprSgnoZgDw8on1AwMD9Pb23hC8rryj0Ww2c/LkSSorKycMXldOrJ/IvKGioiJKSko84JWfn09JScl1wWvsRGU2m7HZbBMGr76+vnFziMbAy9dDwH19fdNmDqC3JQLgCIcOHSIoKGgcAAYFBZGYmDjpRHK3AuCtgrLbGet2zQEcq4aOjIxc80L7x6aVXO8mqivP8yUlJeTm5k64Gnq9uaFlZWUTroaOTTkZO7d7a27ojdTS0kJVVdWUjo0IgPew/dd//RfffPMNQ0NDdHV1sXr1alasWEFJSQllZWU/upTEtX6MtbW1ZGdnTxi8bnRH4/V+lNeqeBUVFVFeXj4OvK68QhwbqpgseF1Pvn78nAiA3tO9DoBtbW3jwO9KTbbyJQLgnRPrXrgJ5HpDwJdXQ693R/+Nig7Xq4aWlJRQUlLi9bmhN6qGVlVVUVRUNKm5oT09PVfNY7548aIIgPei/exnP2PGjBnj9D/+x//g7/7u7/j973//o0tJXKviZTAYyM7OntAdjTcLXtdSTU3NlIeAJytfLz4tAqD3dK8DYENDww0B0GazTSrpigB458S62wGwra3N53MAjUYjDQ0NE25/s9VQp9PpqYbW1tZSXFx8w2roWPHlRnO8HQ6HCIC3yiorK5k3bx6PP/44M2bM4MSJE+O2//DDDwQGBvL4449z33338eyzz2K1Wse1GRoaYuXKlTzwwAM88MADrFy5kvPnz49rYzabeeaZZ7jvvvv4+c9/TnBw8I8e1K6uLvr7+xkZGeH//b//x8cff8ybb745pQTk6+fHjuleAMDOzk4RAL2kex0AxQrgj+tuBcC7/S7gOwEAvaGpDgGPQehXX30lAuCtssLCQnbu3MmxY8euCYBRUVHcf//9HDt2DIvFwvLly3n88ccZGRnxtHn55Zd56qmnUKlUqFQqnnrqKebNm+fZPjw8zKOPPsorr7yCxWLh2LFj3H///Uil0kn1ddu2bbzxxhtTSkC+XjtuTCIAel8iAHpH0xEAR0bEOYA/prsZAH21D0dHR9HpdCIA3gI1NzeLcwAnaNNiCPhKAPzhhx947LHHiIqK8rw2OjrKrFmz2Lt3LyAsSzNjxgw0Go2njVqtZsaMGTidTgA+++wzZs2axejoqKdNZGQkP//5zyd1YD/55BMRACehewUAb/Xdv2OyWq13LQBWVVX5JNZkALCvr0+8C/gGEgHQOxIB8NaoubmZ6urqKfkQAdCHdiUAtrS0MGPGDIxG47h2CxYs4I033gDgwIEDzJo16ypfs2bN4uDBgwC8/vrrLFiwYNx2o9HIjBkzaG1tnXD/PvnkE15//fUpJaDbCYA2m82nMW8HAObn5/ssXn9/vwiAXtB0BcAx7Ur8lGVZCaw4rrjpRCIC4J0T63YAoNVq9Vm8trY2ysvLfRZvdFQEwOlu0xIAa2trmTFjBp2dneParV69mhdffBGA8PBwnnzyyat8Pfnkk0RERADwwgsvsHr16nHbOzs7mTFjBiqVasL92759uwiAk5CvF58WAdB7EgFwhKGhc9TpVlJ6+gmP9IbX+eqr3kknEhEA75xYIgB6XwaDQQTAaWzTGgC7urrGtVu1ahUvvfQSIADgb37zm6t8/frXvyYyMhIQAHDNmjXjtnd0dDBjxgzUavWE+/fpp5+ycuXKKSUgX88bG5MIgN6XCIDe0XQFQAH+nhwHgKWnn0RveH3SiUQEwDsnlgiA3pfBYMBsNvs0pgiAE7dpCYDTbQj4008/ZcWKFVNKQLcLAGtra0UA9LLudgAsLCz0SazpCIC9fZYrwG+8zp93TiqRiAB458QSAdD7EgFwetu0BMCxm0Cio6M9r3333XfXvAlEq9V62mg0mqtuAnnwwQf57rvvPG2ioqImfRPIjh07vAaAvoKGMYkA6H2JAOgdTUcAbG8vvCEAdnWXTCqRiAB458QSAdD7EgFwetttA8CLFy9iMpkwmUzMmDEDuVyOyWTi7NmzgABqs2bN4vjx41gsFl599dVrLgPzu9/9DrVajVqt5re//e24ZWAuXLjAo48+yquvvorFYuH48eM88MADk14GZufOnbz22mtTSkD3GgD68s5jEQC9p3sdAMUK4I9LBEDvyNcAeObMmXsCAJuamkQAnKDdNgAsLy+/6mkbM2bM4M033wQuLQT92GOP8ZOf/IRnnnkGi8Uyzsfg4CArVqzg/vvv5/7772fFihXXXAj6T3/6Ez/5yU947LHHCAoKmvRB3bVrF6+++uqUEpAIgLdO9wIA1tbW+iTWvQ6AIyPiHMAf090KgDabzacAWFdXd9cDoF6vvy0AWFNTMyUfIgCK5rHdu3dPGQB9DQ1juhcAsKurSwRAL0kEwBGGhjrEu4BvIF9CWVFRkU8BsK6uziexRkdFALxVEgFw4iYC4AQsICDgjgZAq9Xq05j3CgBeuHDBJ/FEAJy6bmYdwHXHwnnx9AGWF8TddCLRaDQ4HI5bnvREAJy6bgcATvbZ0lPRmTNnqKio8Fm80VHfP+5udFQEwMmYCIATsICAAF555ZU7ChrGJAKg9yUCoHc0XQGwfeg8/nonj5aZPFpmbKT3q68nnUhEAJyaioqK6Onp8UksEQC9r9sBgI2NjSIATtBEAJyABQYGigA4Cfn68XMiAHpPIgCO4K938vPL4O/RMhM/d0PgZBOJCIBTkwiA3pMIgBOXCICieSwoKIhly5bdUdAwJpVKdU8AYF5ens/i3c0A2NHRcU8DYEPfwDjwu1KO8yOTSiS+AkBf3sDgy2FZEQC9p9bW1nsGAGtra6fkQwRA0TwWFBTE0qVL7yhoGJMIgN6XCIDekdPpnHYAmHeu+4YAWNQ9MKlEIgLg1GOJAOgdiQA4cYkAKJrHgoODRQCchHz9+DlfA+DAwIAIgF7QdARAsQL44xIB0DsSAfDWSATAiZsIgBOwkJAQ/P397yhoGJMIgN6XCIDe0XQEwJGRO3MOoAiA3tmHIgB6VzqdTgTAaWwiAE7A7nQAtFgsPo0pAqB3JQLg1DUZADx3B94F7Et4EQHQO7odAFhZWemzeKOjvn/ayeioCICTMREAJ2DeBMDz58/7JOGNSQRA78vXAGiz2UQAnKJuZh3ApSf28WiZiXm5R246kYgAOPVYdysAarVaEQBvgVwulwiAEzQRACdgoaGhLFmyxCvQIAKg99Xd3S0CoJckAuAlLU35nMcz1CxMO3DTieRuBUBfQZkIgN7TvQSAKpVqSj5EABTNY6Ghofj5+XkFGnwNgGq1WgRAL0sEQO/ImwA4PDzM+fPnGRgYoK+vj+7ubjo7O2lvb6etrY3s7GysVitOpxO73Y7FYqGhoQGj0Yher0er1aJWq6mpqaGwtJK5kkJ+8Um+R3OiC8gpOkV5eTlVVVXU1tai0Wioq6vDYDBQX1+PxWLBZrPhdDppamryzLnS6/V0dXXR29vLwMAAQ0NDDA8P89VXX/Htt996JemJAHhn7cPRUQEAffGYwDGJADhxiQAomsfCwsJEAJyEfP38YREAvSdvA+CFCxcYGhqiv7+f3t5eurq66Ojo4OzZs+j1ekpLS2lsbMThcGCz2TCbzdTX12MwGNDpdGg0GlQqFdXV1VRWVlJWVkZpaSknT56kqKiI/Px8cnNzyc7OHqfc3FwKCgooKiqipKSE7OxsSktLqayspKamBpVKhVarRafTYTQaqa+vx2w2Y7PZ8Is7za+2548DwF9tz2dpQgVtbW20tLR4+my1WjGbzZhMpqtAsrKykvz8fAoLCzl58iSFhYXk5eVd1decnBzy8/M9fT19+vSkQVOr1VJVVXXLQXN09O4FQKvVKgKgl+Xr5x2PjooAOBkTAXACFh4ezuLFi6eUCAcHB0UAvEUSAXByGquWDQ4OjquWnTt3DrvdTn5+Pk1NTZ5qmdVqvWa1rLa2lqqqKsrLyzl9+jSnTp2iuLjYAzo5OTlXgU5eXh6FhYXj2lVUVHhgR61WU1dXh16vx2Qy0dDQgNVqxW6343K5PMDT1tbGuXPn6OzspKenh76+PgYHBzl//vw1n7c90SFg85meceB3pZydQ5NKJNcaAh5LLhcvXuTChQsMDg7S399PT0+Pp2p55syZq0CzoaHhuqA5BsOX79cfg+JrgaZOpxsHmna7fRxonj17loKCAhobGz2gOXZO8zZojo76HgB1Op3PQMXXANjS0iIC4AQlAqBoHgsPD2fRokVTSrq3EwDNZrNPY94OAMzNzfVZvFtVzb1etUyv11NeXk5zc/NNVctKSkp+tFo2VoEqKioiJyeHsrIyKisrqa6uRqVSXQUHY9Uyh8NBY2Mjzc3NnDlzhrNnz9LR0eGpRPX39zM0NHRNWJ6OcwALjG03BMCTlo5JJZLbOQfwWqDZ19d3FWhe/r26Fmhe+Z3KycmhsLBwUqB5OeSPfZfGKq/XA82Ojg4KCgpoaWm55aA5OioC4K2Qr+90Hh0dxel0igA4QRMBcAIWERHhNQAcGhryGaiMjNw+APTl2oO3EgCvrJb19PR45pS1trbS2tpKU1MTLpdrXLVsLIHW1dWNq5ZVVFRMqFqWnZ1NXl4eBQUF5Ofnk5eXN65iU1NTg1qtRqvVotfrMRqNNDQ0XJVMW1paxlXLuru76evr8yTUK6tld+ocwB/TdKoA3grdzjmA3377LV9//fVVoHn5PMzrgeblVeUrQfPUqVNkZ2d7vv/XA83i4uJxoFldXX1D0HS5XDQ3N48Dze7ubvR6PSqVygOaX3/99S0BzTGJAHhr5HQ6UavVU/IhAqBoHouMjGThwoVTSkAiAHpXY9WygYEB2trayMnJ8cwtu3z4zOl0jquWGY1GdDqdJ+GMDaGVl5ePq5YVFBTcsFqWnZ3NyZMnKS0tpayszJN4rqyWmUymcdWyseRzZbWsp6dnXLXscjCz2WzU1NT45Njd6wA4MjLCa/tqeeKKOYBPbM9nxReTryrcCwB4K1VYWEhvb68nKX/99dee3/+NQNPlcv0oaFZUVHhAs7i4mNzc3GteiE0GNC+/CLseaI5dgI2t0HCrQXNMLS0tVFVV+eS4jUkEwOltIgBOwCIjI1mwYMGUEtC9AIBj1bLq6mrq6+s9Q03nzp2jra2N1tZWz8n5ymqZwWAYVy271gm68P9n77zjm6r+/58iW9qqgEBBAaWIUECGooiAAgJSxc/ngyIfQES28nGhgjgYMpWhLJGNsqF70L2bdKdN2jTde+8WaJHx+v3B79zvvbc3yU0zGtrzejzeDyVJc3Nyb+55nvc63t7w9PQUvEm7uro2u0nr4y1LT09nvGX5+flavWXmLuihAGi46dUIuqwK//0zkgOAC49JUVbToPdEQgHQMGMDoKmNhIC1gWZhYaFO0GQvMIXuY15eXjo9mv7+/hzQZC8sNYFmTk4O8vPzm4EmuU9lZGRQD6BIowBIxWjXrl0PNQAmJSUx3rKysrJmNzK+t0ypVOrtLdNW3UiqIP39/TneMn6FI/GWJScnc7xlZAVdUFDA8ZZVVVWhtrYWxcXFZs0BNHc+JwVAw60lfQCX/7ULs06cxqdnfmnxREIB0DBrDQA0x7Gampogk8mYSAm/hZEQaPILsvh5v0Kgqa1CnoCmpggGAU3+/VgINMm9uL6eGzqnAGjZogAoQrt378bbb79tFGggAFhXV9esArC4uBgFBQXIy8vjeMv47SaItywqKkrQW0ZaTpBQpabcMpKkHRAQgODgYK0tMtitJ4i3jH8jIFWBERERZq08NncRSFsHQC8vL7Mcy5wA6O7uLh4Ay/Jw5/TbwCYbxu6emYumGv2hhwKgYdaWAdBc1wbxaKrVagQHBzcDTZI2wwZNdp9MIdAMDAyEn5+fVtD08PBgUmaEQJMfkdEEmuxojCbQZJsxAPDWrVsUANurbt68ifLycuTl5SE1NRWfffYZ3nrrLfz999/4+++/GW+Zroay7BYZpBeZGG+Z0MqM3SKDeMv4LTKIt4yd9B8REYGEhAStLTKMbVKptM0UgQgZBUDjmKUC4J3Tb+P+5sc5AHh/8+MPINBCJ3kKgIZbWwVAYpmZmSbNAWSHzolHMyIiAnFxcQxo8tOAhECT7dQQC5psjyaJSukCTXb3Aj5oVlRUoL6+ngJge9Tw4cMhkUggkUjQvXt3dO/eHY8//jgGDBiAl156Sae3jCT9s71lmZmZcHV1RV5eHsdbpqlFhrEsKioKSUlJZplkiZkbAEtLSykAGsnMDYChoaFmOZZYAGzITeSAH99uF+tXtUkB0DAzJwAqlUoKgEY2U1Q6NzY24saNG6iv/z/QZKc2xcTEICgoqBlostOaNIEmuwAwKyuLAqCpFBoaCkdHR/Tr1w8SiQQuLi7Mc//88w++/fZbODg4oHv37ujXrx8WL16MoqIizntUV1dj0aJFsLGxgY2NDRYtWoSamhrOaxQKBSZPnoyuXbvCzs4OW7Zs0XlSa2trOe7fX3/9FXPmzDFoAqquroarqyuqqqrMMuERowBofKMAaByzRAC8meSqFQD/SfGyyEmeAqDhplQqERcXZ5ZjmfPaINZWAFCXpaamIioqyqD3oCFgE8vb2xvff/89nJycmgFgbW0tpk+fjsuXLzPx/AkTJmDcuHGc95g1axYcHBwglUohlUrh4OAAR0dH5vm6ujr06dMHH3zwAZRKJZycnGBtbY09e/bo9VkpAOpnFACNaxQADTfqATSeUQA0jrUGAIaHh5vteE1NFAAtXRYRAuYDoJBiYmIgkUiQl5cHAFCpVJBIJIiKimJeI5PJIJFIoFarAQBHjhyBra0tmpqamNfs3LkTdnZ2ep3YPXv2UADUw0h/K3Mdr7S0FG5ubmY7HgVA45glAmB9Pc0B1GUUAI1jFABNYxQAxeuhAUB/f39YWVmhrq4OAHDy5EnY2to2e52trS1OnToFAFi8eDHeeecdzvMJCQmQSCTIzs4W/fn27NmDt956y6AJiAKg6aytA6BKpaIAaKDpVQVcnk+rgLUYBUDjWHsAwKioKAqAFqyHAgAbGxsxbtw4LFy4kHls+/btsLe3b/Zae3t77NixAwAwY8YMrFixgvN8UVERJBIJpFKp6M+3d+9ezJ4926AJqKamplUAMDo6mgKgkY0CoHHMYgHw/9vHlzdg8flvsfHCBouf5CkAGm4UAE0zRgqAliuLB8B//vkHc+fOxZgxYxjvH/AAAIcOHdrs9UOGDMHOnTsBPADAlStXcp4vLCyERCKBTCYT/fn27dtHAVAPay8AaK6m3uYEwKKionYPgIWVhVjmvQwOZxwYW+GzAuX15RY7yZsTAM0JZW0ZAGUyWbsAQHOOsampCSqVigKgSFk0AP7zzz949913MWrUKFRWVnKeM2cIeN++fZg1a5ZBExABwMrKSrNMeMQoABrfKAAaxywVAJd5L8Oos6M4ADjq7Cis8FlhsRNgWwVALy8vCoBGsoyMjHYDgNHR0Qa9BwVAM0oIAAn8jRgxAuXl5c3+hhSBREdHM49FRUU1KwJ57LHHcPv2beY1u3bt0rsIZP/+/Zg5c6ZBE1BrAmBiYqJZjymTySgAGtEoABpuYgEwuSiZA358S69It8gJkAKg4dYaAKhWq812PAqA4o0CoInV0NAAuVwOuVwOiUSCffv2QS6XIy8vD3fu3ME777yDAQMGIDExESUlJYyxYW7WrFkYNWoUZDIZZDIZRo4cyWkDU1tbiz59+mDBggVQKpVwdnaGjY2N3m1gfv/9dwqAephMJoNCoTDb8ddEaKUAACAASURBVCgAGs/aOwD6pvtqBcDA7ECLnADbMgCWl+sfem+JUQA0vlEAtGy1GgAGBwczu22wbcmSJcjJyRF8TiKRIDg4mHmPqqoqLFy4ENbW1rC2tsbChQsFG0G/9tpr6NKlC/r27YvNmzfrfVJ///13vPnmmwZNQBQATWdlZWVmBUBS0U0B0DCzRACkHkDdRgHQONYaABgREWG24zU1UQC0dFlECNjSdeDAAcyYMcOgCYgCoOmsPQBgeHi4WY7V3gGwvp7mAOoyCoDGMQqAprGUlBQKgCJFAVCEDh48aDAA1tbWUgA0kVEANJ5RAKRVwLqsrQKgQqGgAGiCMbYGABr6W6AASMXo4MGDmD59ukETUGsBYExMDAVAIxsFQOOYpQIgsXlnN2HakZ/w/dnNLZ5IKAAaZhQAjWfp6emtAoDmHGNTEwVAfUQBUIQOHjyIadOmGTQBEQCsqKgwy4RHrL0AoKurq9mORwHQOGapAFhbUICsJR9B9dwwxnKWfoybLQARCoCGmbkBMD4+3izHamqiAGgqowAoXhQARejQoUMPNQDK5XKzHpMCoHGNAqDhpg8AZi35CKrnh3MAUDV8BHKWfqz3REIB0DCjAGg8owAo3igAUjE6dOgQ3njjDYMmIAqApjMKgMaz9g6AVUolF/x41pCWptdEQgHQMGvLACiVSikAmsAoAIoXBUAROnz4MF5//XWDJqD2BIBRUVEUAI1oFAANN7EAWHbdRysAVgcE6DWRUAA0zCgAGs/S09MRGRlptuM1NbUOACYnJ1MAFCkKgCJ05MgRgwGwrq6uVQAwNja2VQDQnNvPtRYAmmtfZwqAhhv1ABrPKAAax6RSKdL0vJ4MMQqA4o0CIBWjI0eOYOrUqQZNQBQATWcUAI1n7R0A6+s15AA+PxxZSz7CrVu30NjYKHoioQBomFEANJ61BgCa28vZ1PQAAGNjYw16DwqAVIz++OMPTJkyxaAJiABgeXm5WSY8Yu0BAMvLy9s0AKamplIA1GB1dXWoqalBVVUVysrKUFxcjIKCAuTm5iIrKwvp6elITU2Fm5sb4uLikJCQgNjYWERFRSEyMhJhYWEIDg5GQEAAfHx84OXlBc9LlxD79tscAIx9+224X7gAV1dXuLm5wdPTEz4+PvD390dQUBDCwsIQGRmJqKgoxMXFQS6XQ6lUIiAgAFKpFFlZWcjNzUVhYSFKSkpQUVGB6upq1NXV4ebNm3pBpZBRADTcKACaZowUAC1XFABF6OjRoxQA9TAKgMY1cwOgp6enSd67trYW1dXVqKioQGlpKRITExEQEIDs7GxkZGRArVYjJSUFCoUCcrkccXFxiI6OhlQqRXh4OEJCQhAYGAg/Pz9cv34dnp6ecHNzg6urK2MeHh7w9vaGr68vAgICEBwcjLCwMLi6uiIyMpKBwKSkJKSkpECtViMjIwPZ2dnIy8tjAK28vBz/OXcYbx84jWNXj6OxsRE3b95EXV0dM4aSkhIUFhYysJmWlgaVSgWlUsl8fgKJYWFhCAoKgr+/v8bP7unpievXr8PPzw9BQUEIDQ1loJL8jhUKBVQqFdLS0pCZmYnc3FwUFBQgNjYWkZGRqKqqQl1dHW7cuGEwVGoycwNgRUWFWY5FAfDhH2NTk/EAsLGxsbXRw+SiAChCR48exeTJkw2a/FoTABMSEsx6TAqAxjVzA6CHhwdqampQWVkp6FUjoJOcnIzExETEx8cjJiYGMpkMERERCA0NZWCHeNXc3d05sOPu7g4PDw+4u7szXrTQ0FBERERAJpMhJiYG8fHxSExMhFKpZKCHeNIKCgpQXFyMsrIyVFZWoqamBnV1dRrH1ZJG0LOdrmLi+Wgc8HZr8USiLQRMoJJcUwSMCwsLkZeXh+zsbMaDqVQqkZiYyIFitveSAKUQEBOoDAwM5HzH5N7AhuHMzEzk5ORwvt+qqirU1tYyUOnl5dUmATApKalNA2BaWlq7AEClUkkBUKQoAIrQn3/+aTAA1tfXUwA0kZkbAMm+zpYAgLW1taiqqkJ5eTnjkSLwoMmrJhT+9PX1hbe3dzNQ43umAgMDERISgvDwcEilUkRHRzMhT4VCIehVKyoq4oQ9a2trUV9fj7S0NIvMAaworYbz3lgcWhXImOv+eNRV39B7IjFXDiDb63Hr1i3mOq2srERpaSmKioqQn5/PXBepqalITk5moCcmJobxtLKvCSF4J9eEr68v53og4E6gMjk5mbkWcnJykJ+fj6KiIgbaa2tr0dDQgFu3bmkcl6enp1kBMCEhwWygQgHQNEYBULwoAIrQsWPH8Nprrxk8CVEANI0RANTmATKmtQQA2aFD9oSck5ODzMxMTviQ71Xz9/eHp6cnAgMDtYYQ3d3d4eXlxclN44cR2ZNzamoq0tPTOV61jIwMeHh4iPKqGWqWCoDOe2NxeHUgBwAPr3kAgfpOJK0BgKawW7duoaGhAbW1tfD09ERWVhbnGmYvNghIkeuXHb4nCw0PDw+N1y4J3YeHh8PNzQ2RkZGMN5h93bIXGKWlpcw1W19frxUqNZm5ATAyMpICoAlMqVQavKUfBUAqRseOHcOkSZMMnoRcXV1RVlZmlgmPWGsAYHR09EMLgHV1dYxXjYQ/2Xle6enpSElJgaurKxISErQWFWia7EgRgTavGpnwFAoFpFIp/P39mfAc8aSUlpZyigmM8V2aMgeQb5YIgIVZ5Rzw41tZfo1eE0lbAUC2GSsE3NjYiBs3bnC82CTdgCyM3N3dkZCQAIVCwfmtkVQDdk6o0O+MvSAi+aBszzVJMSBe9vDwcCYXlP37qq+vN0qxDtvaAwCae4xNTRQA9REFQBE6fvz4QwuAJOndnMeMjo42y/7DxKtWWFgIV1dXFBYWcrxqpioqCA0NhaurK6RSqUavmlBRAcml0necbaUIhG+WCICpMflaATAjoUSviYQCoGGmbwiYQCW5N5DUCJLDyva289MifH19cf369WbFOpoWb0JednYFuFDeKrkXVFdXIzw8HGq12mTFOnxLS0uDVCo1y7GIRUZGIj093azHpAAoXhQARejEiRMUAPUwPgCSVh2aigpIoju7qCA2NlavogJXV1fB8KeuogJ+0js7lKTJq9YaOYBhYWFmOVZ7B0DqAdRtlgyAhpimELBQsQ4735bcw/gV4NHR0ZyoAPv+pa1Yh33v4leAp6SkNKsALy4uZhaY2irAKQCKNwqAVIxOnDiBV1991eBJ6GEAwJYUFbC9asHBwfD09ISnp6dg+JPtVSPhT5LvI7aogO9VI42gLTkH0BCjAGi40RxA41l7A0BTWGNjIyIiIqBSqVBTU8PJDeZXgLMXxvx7Lbt/JX9RzL/PkpQUfrEOvwI8Pz+fU2FPinVa4qmkAGjZogAoQidPnrQ4AGR71bQVFQQHByMoKEhrq47r169rbNWhzaumKfwZGhoKmUymd6uOllpFRQUFQCNZcXFxuwfAh70K2NRmzubMbRUAm5pMA0ekWIcdcSFzQ0xMDAIDA6FWq5kKcKFiHW1dAdzd3TkpMfwK8Pj4eE4FeEBAAGJjY5tVgNfU1OisAG+pKRQKCoAiRQFQhE6dOoWJEye2ePIhXjVXV1fk5OQwRQX8VR75QRqzqMDX1xf+/v4cr5pKpWq24jNmUYG5cgCZCZsCoNGMAuD/2dtnz+Hf+51x0t2lxRMJBUDDjAKg8UytVrcoBMwv1iFpPEL51uw5TCaTwcvLi2kX5Ofnp3H+EqoA5xfEkWIdoQrwiooKpgI8KSmJAqBIUQAUUHl5OdLT0yGXyxEeHo4vv/wSr776Knbu3IktW7YYVFTAX0GRyjSxrTqEigq0gU9cXBzi4+PNMskSay8AWFlZaZbjUQA03PQBwPLiYlza8h32vD+HsSs/f4/aqkq9JxIKgIYZBUDjWUsB0BRjZBfrsFOO+MU67HQjtmOERLA0VYCTXpX8CvDIyEhOmhHJBydzLEkxKi4uRn19fWujiMlFAVBAU6ZMQZcuXdCzZ08MHDgQdnZ2GDBgAMaOHYupU6eKKipge9UqKyuZ3SP09UIYau0JAFtSYdsSowBoHLNUALy05Tvs/eBtDgDu/eBtXPn5e70nQAqAhhkFQOOZWq2GTCYz2/GampoQERFhtjGSYh25XI7o6GjR2zWyo23stKjCwsLWRhGTq9UAMDQ0FI6OjujXrx8kEglcXFw0vnblypWQSCTYv38/5/Hq6mosWrQINjY2sLGxwaJFi1BTU8N5jUKhwOTJk9G1a1fY2dlhy5YtOjd4vnv3LuffZ86cwcsvv2zwJOTm5mZ2AIyPj6cAaGSjAGgcs0QAzE9P44Af30pzs/WalCgAGmYUAI1nrQWAGRkZZj2mMbb0oyFgE8vb2xvff/89nJyctAKgi4sLRo8eDTs7u2YAOGvWLDg4OEAqlUIqlcLBwQGOjo7M83V1dejTpw8++OADKJVKODk5wdraGnv27NHrs545cwYTJkwweBJqLwAYExNDAdCIRgHQcBMLgMmRYVoBMC1avxAaBUDDzJwAmJiYaFYANKd3rKmJAqA+RgHQjNIEgIWFhejfvz+Sk5MxcOBADgCqVCpIJBJERUUxj8lkMkgkEqjVagDAkSNHYGtri6amJuY1O3fuhJ2dnU4vIFtnz56lAKiHxcTEQC6Xm+14FACNZ+0dAKkHULdRADSOUQA0jRnDk0sB0IwSAsB79+7h9ddfx2+//QYAGMgDwJMnT8LW1rbZe9na2uLUqVMAgMWLF+Odd97hPJ+QkACJRILs7GzRn+/s2bN46aWXzDYJGdMoABrfamtrKQAawSwRAOvraQ6gLjMnAHp4eJgVAOVyuVmO1dRkfjiiACjeKACaUUIAuGPHDsyYMYPx1A3kAeD27dthb2/f7L3s7e2xY8cOAMCMGTOwYsUKzvNFRUWQSCSQSqWiP99ff/2FF1980ayTkLEsPj4ecXFxZj0mBUDjmlqtpgBooOnVB7CEVgFrM3MDYGWl/t97S6ytA2BqaioFQJFGAdCM4gNgXFwc+vTpg6KiIuaxgQIAOHTo0GbvNWTIEOzcuRPAAwBcuXIl5/nCwkJIJBLIZDLRn+/vv/82GgCWlJSYZcIj1h4AsLKykgKgkYwC4P/Zv85fwdLfL8A3yL/FEwkFQMOMAqDxrDUAMDw8nAKgBcsiAXD//v2wsrLCI488wphEIkGHDh0wcOBAAOYNAZ87dw7jx483yiREAdD41h4A0FygZG4ADAkJMcux9AHA2rJqlPwpR8H6MMZKjyXiVg3dCaSpiQKgsay9AGBmZqZZj0kBULwsEgArKyuhVCo5Zmdnh/Xr1zMFHqQIJDo6mvm7qKioZkUgjz32GG7fvs28ZteuXXoXgZw/fx7jxo0zyiTUHgCQbF5uruNRADSeUQCsfwB/G8I4AFiw4QEE6juRUAA0zCgAGs/aCwAao5iHAqCJ1dDQALlcDrlcDolEgn379kEulyMvL0/w9QN5IWDgQRuYUaNGQSaTQSaTYeTIkZw2MLW1tejTpw8WLFgApVIJZ2dn2NjY6N0G5sKFCw8tACYkJFAANLJRADSOWSIA1uSUc8GPZzeKavWaSCgAGmYUAI1nqampiIqKMtvxmppaDwANPY8UAE2s4OBgSCSSZrZkyRLB1w8UAMCqqiosXLgQ1tbWsLa2xsKFCwUbQb/22mvo0qUL+vbti82bN+vl/QMeAODYsWONMglRADS+EQAke0Ga2igAGscsEQCrEgq1AmCdslSviYQCoGHWlgHQ3PlxFADFGwVAKkYXL140CgB6eHi0GwBMSEgw2/EoABrP2jsAUg+gbqMAaByjAGi555ECIBWjS5cuUQDUw9oLAFZUVJjleOYGQA8PD7McyxIBsL6e5gDqsrYKgCQlyRzHamoyPxxRABRvFACpGF26dAljxowxeBLy8PBAcXGxWSY8YgkJCYiNjTXrMSkAGtcoABpu+gBgHa0C1mqenp4UAI1g7QEAw8LCzA6AxjiPFACpGF2+fBmjR482eBKiAGgaowBoPKMA+H/n2NEpHCtP+EEak4rGxkbG9JlI2ioAmmt3DgqAxjOVStUqAJiVlWXWY1IAFC8KgCJ05coVCoB6GAVA4xoFQP3ODbGamhrG3N3dkZmZiZKSEpSVlaGyshJVVVWorKxsZoWFhTh58iQ2bdrE2OnTp1FRUYGGhgbcuHGDsZs3bzL/f+vWLdy6dQs3btxAbW0tKisrER4ejtRULkC2FCa1GQVAywAHfYwCoOWeRwqAVIweZgCUy+VtHgCrqqrMCoB1dXUUAI1gBADZ0MYHt+rqasaqqqoYEwI3bRYQEAB3d3e4uroy5uHhgevXr8PPzw+BgYEICQlBeHg4Dhw4gM2bN3MAcPPmzTh48CCioqIgk8kQGRmJ8PBwhISEIDAwEL6+vvDy8mp2DE9PT2RmZqKhoYGxGzduNPuvEEjyTRNENjY2UgA0EjgkJuqf59lSowBoueeRAiAVoytXrmDUqFEGT3ienp7tAgDj4uIoABrRLBUADYU2lUoFDw8PhIaGIiIiAlFRUcziQaFQICUlBWq1GllZWcjNzUVhYSFKSkoY7x05RkVFBUpLS1FUVIS8vDzk5OQgMzMTarUaKSkpzM4AMTExkEqlCAsLQ1BQEPz8/ODt7Q0PDw8G2C5dusQBP75duXIFbm5uHMhzd3eHl5cXfHx8EBAQgNDQUEilUsTExDBjUalUSEtLQ1ZWFvLy8lBYWIjS0lJUVFQ0u27r6upQXV2NsrIyFBcXIz8/Hzk5OcjIyIBarUZycjISExMRHx+P6OhoSKVS+Pr6IiYmxmCQFDM5UgA0jrUGAEZHR5vteE1NFAAtXRQARejq1asUAPUwCoDGNWMCoC5vW0FBARMuzcnJQUFBAYqKilBWVoaKigrRHjc2+LFhrbq6GjU1NaiqqkJxcTGUSqVGOLt+/Tq8vLzg4eHRDLqEzM3NDe7u7vD09IS3tzd8fX0REBCAkJAQREREIDo6GgkJCVAqlVCr1cjJyWkGYklJSVoBUKlU4ubNm2hoaGDCvAQ+c3JykJ6ejuTkZCQkJCA6OhoREREIDQ1lvITe3t7w9PRs5inUNiYPDw94eXlxvJVsyJTL5UhOTha8tzQ0NHD+y36cb0Kh7YaGBtTV1aGqqgplZWUoKiqCh4cHysrKtMKksSZzCoDGMwqA4o0CIBWjq1evYuTIkQZPvp6enigqKjIbGNXXUwA0hbUGALJDpaYIkRIrLS1FUFCQxpAmCZsSuAoKCkJwcDBCQ0MRFhbGWGhoKEJDQxESEoKgoCD4+/trDZMS71lwcDDCw8Mhk8k43kCVSoX09HRkZmYiKyuLY5mZmUhPT0dqaiqUSiUSExMRGxuLqKgoREREICQkBAEBAfDx8YGnp6eg946Mx9PTUysA+vj4ICQkBMHBwQgICGC8iNrGRELLZExyuRwKhQKpqalIS0tDRkZGM0tPT+d4MOPj4zV6MIWOff36dfj7+yMwMJA5P+Hh4YiIiEBERAQiIyMRERGB8PBw5nwFBwcjMDBQ0DPKHlNgYCDTA1MIJNkwefPmTQYmb968qbdXkgKg8aw1ADA0NNTsAJiQkEABUKQoAIrQtWvX4ODgYPBE3loAGBMTY9ZjxsXFIT4+3mzHIwBYXV1tluOJBUBj5bapVCq4u7s3gwl2iDElJQVpaWnIzMxkwqWlpaWM901XmFShUDAFQzKZTBCc2F44vmfq+vXr8PHxYez69esavV3u7u7w9vaGn58fgoKCEB4eLhgyTU9PR3Z2NvLz81FcXIzy8nLmHBPvVE1NDQOuhYWFyM3NbRb+JaHSyMhIDjwJwai7uzv27t0rCH/79u3T6JEUGpMQ8Oka040bN1BfX4/q6mqUl5czIeDs7GxkZGQwkEsWdjKZDOHh4QgODma8pnxwI15RLy8veHt7w9vbmzln5BwJjYnAvr+/f7Mx8c8TP7RdWVnJLMj4XsTi4mIUFBQ0G1NiYiLi4uI44O7q6ory8nKDQVLMpG9uADR3i5SUlJRWAcDs7GyzHpMCoHhRABQhJycnCoB62MMOgLqgjRwvJSWFM/GVlJQYPUxaXl6OoqIipKSkMBMke9IPCAhoFlrUFS4VE1ZMTExESkoKMjIykJeXx4ytpqYGDQ0NzIQs1m7cuMFAQElJCXJzc5lwqVwuZwCNhEsJzGiCE33Dv1FRUYiPj4dCoWDCv0VFRc0A7ObNm6iqqsKZM2c48HfmzBlUVVU1GxMJA5eVlaGgoACZmZlQqVSMF5LtsfP394ePj4/eYW1yrnx8fBgYCwsLg1QqRWxsLJKSkqBSqZCZmYmCggKmyrm2tpbjhRNj/NA2AbXU1FQoFArEx8cjKipK8Prz8PAQFdoWOlekCIeE6uPj46FUKpGens4BSfbvlHgb+c+J8UiS19fU1KCiogLFxcWQSqWQy+VmCW1TADQtACYlJVEAFCEKgCLk5OSEESNGUAC0cAAkk54pw6Tk7yIiIpgJXcg7RiZsAlfBwcEICQkRDJUGBwcjKCiIM5kaEibNzs5moLSwsBAFBQXIz89HXl4esrOzkZ6eDpVKxXj9xIQW3dzcmM/ADy2GhYUhPDycMTIuEv7VNC7298SHtdjYWCQmJkKpVCI1NRUZGRnIyclBXl4e8vPzmfGQMenyjvn7+zNAyfdyEc8df0y+vr5wdXWFr69vs3Ape1x8TyIZFwGb0NBQREZGMmCTmJiI5ORkqNVqJteSWG5uLvP/xJNJij743jF29TH7+iPeSPK9BgUFcULAkZGRHIuIiNA4LqH3JeMKCwvjjCspKYnjic7KykJ2djZjWVlZyMjIQFpaWjPvrNjQNrn+yO+JjEkqlTYzcs7Y4xL6vbK9t+np6aJA0hiV2+bOj6MASAGQLwqAIuTs7Izhw4dTADQBAOobIhUCt9LSUri6usLf319jiJRfhUkKG6qqqpjjVVRUMInu+fn5zcKJhoZJ2SHSloRJCfDxAYId8hXy/JBQaUVFBUpKSlBQUKARMPieOCEQIOBEQorssZExeXl5Nfs++GHF4OBgBvji4uL0HhfxwLELFPLy8pCVldUMMviQqykfke2Z4odKtRVwsAGdD3xsMBK6/urq6pqNq75eOAxMch3516IueBIKAxMj50rXNUi8jtpC9drGxfeaCoXt+bAbHh6usWKbfEYPDw9mbGR8ZEyaQtve3t7MNSgUrhdaTLGvQwKI5D5WV1eH2traZr8xocrtqKgoREZGwtPTExkZGWap3KYASAFQSBQARcjFxcUoAOjl5WV2AExMTDQ6AOrKbYuNjUVERARTRUqa7+oTHhUKkbLDpOR4VVVVqKioQHp6OlNRyq++ZFeUigmR8kFAUzVpcnIy0tPTBatJDQ2TkvCbppAiP0wqdlwEStkeIjIJ8sOk2dnZzPkrLy9nQnH6hhX5k35BQQGysrKQmpqKpKQkJqxtqlCpTCZDXFwckpKSkJqaiqysLI05ePqMSwjSsrKyoFaroVAoOF5I/rjEni/2tagtXE9CwLrgUp9rkA/VarWaAWp2GJh4V4WAWuy1yP6NEXhOSEhASkoK0tPTdS4G9A1ts8GTeI6Fwtvs86VpDGKuRfZvLC4ujvmNVVdXC4a2he67mnpJavNIsq9Tcm80R3ibAuDDIQqAIuTi4oLnn3/+oQdAY3jbxJhKpRIV8gsODkZYWBgTlpJKpYiKimJMJpMxTXf5QGdImJR4YrKzs5lwGztEpSnsxp7s2J4IdsiPXagRGRkJmUyG6OhoxMTEcCw6OhoymYwJVWkL6QmFFDV5zjIyMppVybKrSjWFEzVVyQp9p/xxxcbGciwmJgZRUVGQSqVMs2RN788OwWryMhHvWXp6OlMlSyp/09LSkJqaqve4+J5IctyoqChmTMSTHR8fj7i4OMGxabom+N+dUCWwUqmESqWCWq1GWloax9RqNVQqVbOef/y2MprCtOzvkwAVf0xyuRwJCQnM+MjY+MUymn7HmkLcSUlJSE5OhkqlQmpqKtRqNWOpqalQqVRQKpXNCnS0jUvTMUm6AOk8QAo5EhMTOeOLjY0VdRwxxTzJyclISUmBSqXiWEpKCpKTkwULjzTdt9ipFexFJolgxMfHM0UNiYmJSEpKQlJSEhITEzljE3vNJyUlGSW0LTZP8mEGwKamptZGD5OLAqAIubq6YtiwYUYBwMLCQqN623TltsXHx+P69escYCCTD8mtYnt6KioqNHrbqqurmYR3fpiUhNwUCgWTg8W+KbFzsIQqKNlhHE9PT43hG3bbDr6HRygkJbZ4QSjsxg7jCFUqCgEAf9Jij409Lj68komAQAnxhJA+b+zz1RJviFAYWGzoTWhs7PPGNiHPFvuckcmb7ZXTFh4V45kTE1YU8jRqCisKjU1oXMTTQzxzBBjYnlRd1cyGeOTYYe64uDiOd5hdmCE0NrYJebH4za3J9UhASFeoXqwHXMiLys5TTUpKYjzf/H6KQmMjvzlNY2N7HdmQLJPJWhSu1/c3R+4nKSkpTHpOZGQkB9yI51vb2MSeM3bEQlPIXltom/1vfsi7pqZG43kj84C3tzcyMzNx86ZpKreFjJxHCoC6RQFQhNzc3PQGQCFo8/LyQmZmJgeyjFGUoK2StLS0lKm0JDcbY91I2cDCDyOSGyl7kmBDpj5hUqEJntxIySRBJkD+6l4ItHRNgOyx8Sd2TblqLR2bpgmQTO4k9EvOm7awFBs4CbQIha7YYTeSzE+ATKhAoSVj0wRlbJgmBSjsRYJQLiV74m4JbJJqWT5It2RsuvLz2MU1xGNHWrSQHEJtIC1m8cPfccRYY9MWJhWTnyd0rZHwtdgFEB842Z7glo6NnDNSVa/tnMXExHAWCdpyRfm5h7ryDtn3SnaY25CFq65WSEIeSXIf0ZTfS8amKadSqDco32tK7pVJSUnN2mXxgdLYvSTJ/GMISFIApGJ0kOo/gwAAIABJREFU4cIFDBw4EPHx8cjMzGRWg/pCW0BAgOgwCqmAZIdR2CEitkdKU58zMZV07IIJEhbihxvYoRRyg9QVEhVaYbO9B6QnGgnnsY3d1Jdd0amr6IIdvuF/pyT0RcJExPghIqHKUU3hL37Ikj0Jk6bF7CpIEmZOS0vTWoWrb0hRKGTJDu0Rbyw5BhmbrtCepqR/4jUmVavE+IUl+oT4+OeOhC5JqJmEl+Pi4hgj54wdthQ7Nv7vTSjxn19xzPcGa6s2FnPupFJpsxQBEmYm4yIpAqSStaUhWb5Xq6CgoFmVeEsrxPlhU1JxzD5/fGOnP+gzNrZXS9tirKioCMXFxSgqKtJaHEQgXZ80CJKCQc4fP22FX4GsLfyrqQpe22KsuLgYpaWlKC0tRUlJCYqKigRBXejaFPoM7N9dSEhIs7QckorDHltYWBjznek7Nn4KBN9DTsZG+pbyF8Xa7ivk3CmVSr1Bkjx/69YtxnnS1kUBUIT27NmDjh07omPHjpBIJJBIJOjRowf69++PESNGYOLEiZg9ezYWLFiAlStX4osvvsCGDRvw448/YuvWrdi6dSs2b96MH374gZmcNXnj9Nkmil2owE8OJ9Wi7P5gJJG/JQUKQiEpIa8V8ezwQ6QtTeonxQokLEpuImRLr7S0NOTm5qKkpKRFSe9iPTzsogV+fzd9izHYfdCEEvtNde40jS8vL6/ZFmbssJS+1ybxILDPHbvil/R4S0tLQ05OjtHOnZBXtaioCNnZ2UxhBr+Por7XZkvOXVlZmVHOHd/rU1ZWhvz8fMGQolA/RTHXpqZzx/bus89dcXFxi3sOahsf2SowJyeHOXeaijTEXptC/S/ZeZLk3JH+l/n5+SgrKxMdrhdrdXV1KC8vZ4qh+EVebCAWux0i2/uv69yp1Wrk5uaa7NxVV1dzen2y5wQ2bOvTv1Rb71J2qkxKSgp8fX0ZsCWdCZycnHD69Gn89ttv2LJlC7766issW7YM8+bNw4wZM/Diiy/iueeeQ9++fdGtWzdIJBK8+uqrrY0eJhcFQJG6d+8e7t69i/r6euTl5SEpKQnBwcFwcXHBqVOnsG/fPvz0008YPHgwA4kdOnRAx44d8cQTT+Cpp57CM888g2+//Raff/451q5di08//RRr167FZ599hi+//BLr16/HTz/9hJ07d+LAgQM4deoUnJycEBgYiLi4OGRlZaG8vFxjhZ7Qyo/cSDRtgeXj4wNfX1/4+/sjICAAgYGBCAwMREBAAPz9/eHn58fcZIVaMAgl8GvqC6YrV4ifMyOUD6Rp1S7kcWHfCMnYgoKCEBQUxBmjr6+vYH6iPuPj5wvxb6wEnLWFRIlHiQ+XQgnxxCvh5+fHGVtwcDDTV5CMkQ0BxhofG9jYITZdeWpik9VJiJrdc5D0fiNbsZHebuQaFeNVNGTHETHhQ6FWM5p6RLLHRsbF3kKPbM3Grx7W12Ora3xiwr76FBqwJ+igoCCN/S/F9okUOz5+WJjkqolpE6TJS62tFyZ7bOw+mGK31xMzPn7Ym73LSl1dXYt2jGGnWmg7d+yxadpCkBSvafJ86zu+kpIS5lpMS0tDTEwMEzk7f/48Tpw4gcOHD2P//v349ddfsXv3buzevRu//PIL9u7diwMHDuDVV1+FjY0NOnXqxMzFEokEjzzyCLp374733nsPK1aswNdff43t27fj0KFDOHfuHDw9PREREYHk5GQUFhbi5s2brY0dJhcFQCOL/Djv3LnDPHb//n3cv38f//zzDyoqKpCRkYGYmBj4+fnh8uXLOHbsGHbt2oUNGzZg1apV+OCDDzBr1iy8/PLLGDZsGPr168esSiQSCbp27YonnngCffr0wdNPP41nn30WQ4cOxfjx4zF+/HiMGjUKFy5cgJOTE3Oj0QR/fn5+gvDHnliF4M/Dw4PZF5S9ChP6YbO3JRPy8ojNPdKnYpB4aHx9fTljJNDHBj+hpGtPT0/RNy421GrqfSY2b0xsSJG9GmaPkRj73Al5R7SNTyiXTFfBCX9XDE1hKbFhN7Z3myxS/Pz8GCPnTiivjkysQpXFmnLlxBTUaEvqZ/fmE9tYm98j0tfXlzHiuRC6NtngINTHrqW5gGJBnnji2OdQ2xZ0/F6R+vTANOb4+NcpP5+YDU3sc6jrPsPeDpFt2nphmmp87OtUU14x/xyyc1SF8vs09cXU5Jkk4yOv9fT0hLOzM2bMmIE5c+bA0dERb7zxBqZMmYKJEydi/PjxGD16NDPXde/enZnrOnfujCeffBL29vZ48cUXMX36dMybNw/Lly/H119/jW3btuHgwYP4+++/4eHhgfDwcA7ANTY2ory8HJmZmZDL5YiMjGxFOrA8UQC0cBF4vH//Pm7duoXi4mKkpKRg8eLFeOGFFzB+/HhMmDABr7zyCt544w3MmjULM2fOxPLly/H+++9j2rRpGDVqFPr27YtHH30UHTp0gI2NDZ566imMHDkSkyZNgqOjIxYuXIhPPvkEGzduxO7du3H06FFcvnwZPj4+iI6OhlqtRklJCZNwTFz8qampTLECO/zETjIWG/ZlTxr8EA270lfbzdGQUI1QvzoSPhSqRmSv6jX1A9NUzCBUYRkdHc2EMYxRhSgGYNihezIpCIW2xY6PD+BClZa6AKyloVJtnrqUlJRmhRmaPGv88elTJcveRi8tLU2r503fa1NMwZCmqlJN42tJIRQ7lCimYbfY8elT7WyMQjZtlc4kjM/3nra0zyf/3sJeIAmBma4G2OTzExMqihKqeCbnkCz02OeQVAST3PacnBwkJiYiNDQU7u7u+Ouvv3Dw4EFs27YNX3/9NVasWIH3338fM2fOxCuvvIKxY8fCwcEBw4YNw/DhwzFu3Di8/vrrmDdvHpYtW4YJEybgpZdewsiRI/H000/jqaeegp2dHXr16oUZM2YIAty9e/eY+Y/K+KIA2MZFfjx3795FXV0dcnNzkZCQgODgYDg7O+PkyZPYu3cvfvzxR6xduxaLFy+Go6MjXnvtNYwcORJ9+/bl5D6SVVnXrl0hkUiwaNEiuLi44OrVq7h06RIuXryIS5cu4cqVK3BxcYGXlxcCAwMhk8kYeGP3BiMAqc1DpKnvnrZdMghgkC2p2NZSr5umfl3sbcv4PcJSUlKQkpLC9D1je4iEkpeFjsVO6ucXY7D7GZJCDH22RhMzRnZSOumDxjeFQsH0JtO0O4VQeFZoNwah5HdSlKHv9m/6FkzI5XIkJSVBoVBAqVRCoVBAoVBweq+RcKi271LbcTRt3Zefn4+CggKmKENTioC+Y+SH9klfOVLkRcZGiqLIjjD69lLUtVsNKc4oKipiClCMUbzA9/KyewKSojZ20RcZnxgPn74h9qKiIpSUlDBWWFioM01H0xiFfiPkPLKLvhISEhgjxVEymQwhISGc9BhnZ2c4Ozsz7+/i4oLRo0ejZ8+e6N+/P7p164YuXbrgkUceYe71nTp1Qu/evWFvb4/x48dj2rRp+M9//oNly5Zh3bp1+Pnnn3HgwAH89ddfcHd3R1hYGJRKJQoKCnDjxg3cvXuXApwFiwIglVbl5+fj119/xdGjR3H8+HGcPHkSx44dw9GjR3H48GEcOHAAO3fuxPr167Fq1SrMnz8fM2fOxIQJE5ikWgKLEokE3bp1Q79+/TBs2DC8/PLLmDlzJt5//32sXLkS33zzDbZv346DBw/izz//xKlTp3D69GkcO3YMhw8fRkhIiM5CBX2KTIQ2o2cnFJuiCEObRycvLw8ZGRlM2x7+JKzPGNnFCrqKhLKyslBYWIjy8nKjJoQTrxzb86HPGMUk9WvyGEul0ma7fxQVFaGiosLoY2SHTktKSgSLavgwpc8Yte1wwt65hRRlmGKM5FxWV1cz55E9Rk3FGS0dIxso2WM0ZsGXpnNJKkBzc3Obecc1FQ/pGqM+BRru7u4ICgpiFpihoaHw8PDA33//jUOHDmH79u345ptvsHLlSsyfPx+zZs3CK6+8guHDh6N///7o0aMHB+B69eqFIUOGMAA3b948rF69Ghs3bsQ333yDr7/+GuvWrcO6devw1Vdf4YsvvsCnn36K7777jgJcGxcFQCqTidw47t27h5s3b6KwsBDJyckIDw9nQgoHDhzA1q1b8dVXX2Hq1Kmc1adEImGKaPr164clS5Zg8+bN+PHHH7Fx40Zs3LgRP/zwAzZt2oTt27fj119/xcGDB3Hq1ClcuXKFCV+npaWhrKyMs28sAS4xBTSavFcEqkhrCJIAThKm2YnS7GR3Mbs36JvMLxRGE9ruSmx+E9u7w28PQZLBibHbQujTxkaf/XLZBRlCe64KFWRoahHB/zwEqtjtS6RSKcf44xTzvYnxivHzY0lvNKEqdENamLB3PBHTwoTdUkeXd1Of4gUS4hcqiNLUb1BMwRd/dyHSgiYqKopps8NvQcNu06LpXAo1VWZfr5p+k5WVlcjKykJcXByCgoLg7u6Oixcv4tSpU/jjjz/w+++/Y9++fdizZw/27NmDffv24cCBAzhy5Ah69uzJWTSTgsLOnTtjwIAB+Pe//42PP/4YX331FbZu3Yrff/8dZ8+ehZubG0JDQ6FQKJCfn4+GhgYKcFRaRQGQymJUVVWFlJQUZrcUkv9x9+5d1NbWIicnB/Hx8QgKCsK1a9dw4sQJ7NmzB99//z0+/fRTLFq0CHPmzMGkSZPg4OCAAQMGwNraWnA1PHbsWLz00kuYPHkypk+fjlmzZsHR0RH/+c9/8M477+CTTz5hJjlSYKEt0V0oEZwkgWtqnMrf8aMlBSZic44MCbfxx0kSwtkNYoVeT8L0mpqE83PkWpJfJZS3qa1fn66Qn9A4NTX4JV5kfkNtTbBn6B69usbJTy/Q1C+TeNyEmhgL5cqxoVZXwVdLG6KLHaemJttCv032OPmNqIXyAfm5ciSFYfPmzVi6dClWrFiBZcuW4aOPPsKiRYvw/vvvY+7cuZg1axYmTpyIESNGNLvndOzYET179sSzzz6LcePG4Y033hANcCRfNzs7G3K5HKGhoUhISGjt2zRVGxIFQKo2K7LyvX37NsrKypCWlgaZTAYfHx/89ddf6NatGx577DH06tULffv2hZ2dHV544QWMGzcO06ZNw4cffghHR0dMnjwZ48ePx9ixY/Hiiy/ilVdewdSpUzF79mzMnz8fq1atwrfffosdO3bgyJEjOH/+PLy9vREZGYnk5GQUFRWhrq5Oa/Uh23PFLlLQ1H5HCFI0haPIBK6t2awxik6Eqki1QSeBMRJK0xQWFKo+1ATWYjyMLd2WjZhYDx1/K0RdVZb8BYSmKln2OHU1tNZnVwl+uFdbSyZ+xTPxpOmq6NZUDSxUqEI8e+zUBV1eRjLO2tpa5OfnQ6FQIDw8HJ6enjh37hwOHz6MHTt24Ntvv8Xq1avx4Ycf4v3338e7776LOXPmYPbs2Zg1axbeeustvPfee1i6dCmmT5+OESNGYOjQobC1tUWPHj3QrVs3Jjf6l19+wZkzZ+Dq6oqQkBAkJSUhLy8P9fX11ANHZdGiAEhFJSB++LqgoABKpRKhoaFwc3PD2bNnmaaiX375JT766CO8++67mDp1Kl544QUMHjwYjz/+ODp06MDJf3zsscfQu3dv9OvXD4MHD4aDgwPs7e2xYsUKXL16lZOkTSZP4n3RFaYkYWd2KFZT7zFtBTRqtZoDgwSS+PAgpj+e2NY9bC8T6a/G3pGAHW4moTvSY01bWJ2fa0Wglx9uZsMgf5zaQusEbIUKNLTtmuHr68vZWSIsLEywlxz7XAp584TClLo8rZrGKQb8xIaf+f0OdfUDZJ9LTdvKOTs74+rVq5gzZw7GjBmDCRMmYOjQoRgyZAgGDRoEOzs79OzZk+OBe+SRRxgP3NixY/H666/jX//6F5YuXYovv/wSW7ZswW+//dZigPvnn38o3FE9tKIASEVlApFJ486dO6ipqYG3tzcmTZqEadOm4c0338Ts2bMxZ84czJs3D/PmzcNHH32EpUuXYu7cuXjllVfw7LPPciayzp07C1bjffzxx1i3bl2zUFJISAgSExORm5vLtMeprq5GRUUFiouLBbv086taW7Irjaa9oZVKJdLT05s1fDWk7YsY71xeXh4yMzOZnTL0aQOjrWCBXTxEvFPsohNDvYy6PK38linsXE/SsohfJKWr3Y3QOWVDHDsPjrQrysjI4IS3yTmtra1lFk0RERHw8vLC+fPnceTIEezYsQPr16/H6tWrsWDBArz11lt49dVX4eDggKeeego2NjZM3puNjQ3s7e0xadIkvPvuu/j444/x73//G2+99RZT/DBhwgSml9z48eOZ676uro564KiotIgCIBWVBYpMWk1NTSgtLYVarYZUKsX169dx/vx5HD58GNu3b2f6cb333nuYPn06XnzxRdjb26NXr14c7yN7V5pu3bphxIgRcHV90Ari2rVruHLlCq5evQonJye4u7vDx8cHISEhiImJYbyCaWlpSE9PR3p6OtLS0pg2PvoU0AiFo9lhWv7ODsXFxSgrK2OM3x9OqGDAkOIF9t7b7FZFKpWq2bG07RmtrZkxPz+Qv4MMaabNLlRi9/ozxvGVSiXTooi0LCJjJIuCyMhIBAYGMufQ2dkZTk5OTIN5V1dXbNiwAT169EDv3r3x+OOPo0uXLpy2UR06dMATTzyBZ555BmPGjMHUqVPx7rvv4qOPPsLnn3+OzZs3Y//+/Th9+jRcXFwQHBxMAY6KykyiAEhF1cZEJsyNGzcyFdI7d+7Erl27sHPnTuzYsQPbtm3D1q1b8dlnn2HJkiWYO3cuJk+ejNGjR2PQoEF47LHHYGVlxUzijz/+OAYNGoTRo0dj6tSpeOedd/Dhhx/if//7H3788Ufs3bsXJ06cwLVr1xAQEIDY2FhkZGSgrKwMOTk5iI2NRUJCgmB7FHbrEH32PdXWMDwpKQlqtRrZ2dkoKirSGPI0ppECBn1biIjdA5UdTuW3SCGAKJfLUVRUhNraWqbqPjIyEt7e3rhw4QL++OMP7Ny5Exs2bMCaNWvw3//+lymcIg16bW1tm537wYMH44UXXsCUKVMwd+5cLFmyBF999RV++OEHbNiwAd999x02bNiA9evX4+uvv8aXX36JTz75BNHR0RTgqKgsVBQAqaioOGKHr6urq5GZmYnY2Fj4+/vjypUrOH78OHbv3o3vvvsOa9aswYIFCzB79myMHj2aSY4nAMH2BM2bNw9nzpzB8ePHcfToURw9ehR//vknTpw4gbNnz+LSpUtwc3NDQEAAoqKikJqayvR8q66uRlVVleA+yvoUJGjyAMrlcigUCqSkpAg2K1epVIIVxbo8nezQqZjcPOIBLC0tRXp6OmJjYxEUFARPT09cvXoVf//9N06fPo0TJ07g+PHjOH78OE6dOoW//voLq1evZr5v9vf/yCOPoGvXrhg6dCgH4D777DP89NNP2LdvH06dOgVnZ2cEBwcjISEBOTk5qK2tpR44Kqo2LAqAVFRURlF5eTnOnTvH7AgQFxeHmJgYxvvl7e2Nc+fO4dChQ8x2UsuXL8d//vMfTJs2DePHj8eQIUPQq1cvThjR2toaAwYMgIODA1599VW89dZb+O9//4s1a9bgu+++w65du/DHH3/g4sWLcHJyYnamOX/+PJycnJp5HU2R68jPizt37hwuX77MVLO6ubnh4sWL+OOPP7Br1y589913+OSTT7Bw4ULOzjtPP/00x/tqZWXF8b5OnjxZ0Pt68uRJODk5MW2LSO9GX19fXL16FcePH0d+fn5rXyJUVFQWJAqAVFRUFiP21oX19fXIy8tDYmIigoOD4eLiglOnTmHfvn346aef8L///Q+LFy/Go48+2my7wu7du6Nnz54YN24cdu3ahZ9//hmbN2/Gpk2bsGnTJmzduhU7duzA3r17ceTIEZw5cwZOTk6c8HVOTg5UKhWkUim8vb1x+fJlnDhxAgcPHsSvv/6KHTt2YOvWrcx7btmyhWlI3r9/f9ja2qJTp04cr1znzp3x9NNPawS4oKAgxMfHIzs7GzU1Nbhz5w71wFFRUZlEFACpqKgeaoWHh3Mqnu/evYt//vkHlZWVyMjIQExMDPz8/HD58mUcO3YMu3btwoYNG7Bq1Sp88MEHmDVrFl5++WUMGzYM/fr1Q7du3TjQ9thjj2HgwIEYNWoUJk+ejLfffhuLFy/G2rVr8cMPP2DPnj1M/mNgYCDi4uKQlZXFAFxjYyNKS0uRlpaGqKgoyOXy1v7KqKioqCgAUlFRUQH/5328f/8+amtrkZWVRT1wVFRUbVbtGgC3bduGV155Bd26dYOtra3ga/Ly8uDo6MiElP73v//h9u3bnNeEhIRg7Nix6NKlCwYPHow//vij2fscPnwYgwYNQpcuXTB27FiEhYWZZExUVFRUVFRUzUXnfK7aNQCSCrivvvpK8GK4e/cuHBwc8PrrryMhIQH+/v6ws7PD2rVrmddkZ2eje/fu+Pzzz6FSqXD8+HF06tQJ165dY15z6dIldOrUCcePH4dKpcLnn3+ORx99FHl5eWYZJxUVFRUVVXsXnfO5atcASHT69GnBi8Hb2xsdOnRAUVER89jFixfRpUsX1NXVAQC+/fZbDBs2jPN3q1atwssvv8z8+6WXXsLq1auZfwcHB3MS1tkWExMDAMjJyRF8/vr165xjiVmJUFFRUVFRPQwyx/xo7jkfAIYNG4YNGzYY8M0YXxQAofli+PHHHzFq1CjOY9XV1ZBIJAgKCgIAvPbaa/jss884r3F2dkbHjh3xzz//4Pbt23jkkUfg7OzMPH/79m0sW7YML7/8MkpKSlBSUoLly5dj0KBBTK4RucADAgKY15SUlHBc0WJWIlRUVFRUVA+Lbt++zZnzTDE/mnvOB4DPPvsMkydPNsp3ZCxRAIRmAFyxYgVmzJjR7PHOnTvjwoULAAB7e3ts376d83xkZCQkEgmKi4tRVFQEiUSCyMhIzmu2b9+OoUOHAniwofiTTz6JrVu3Ms+TC1xbxaCYlcjAgQObrZLWr1/P+Rtj5TxQUVFRUbVNtdZcYor5sbXnfEtRmwPATZs2aXQfE4uNjeX8jbaL4c0332z2eKdOnXDx4kUADy6GHTt2cJ6PiIiARCJBSUkJczFIpVLOa7Zt24bnnnsOAHDt2jV06NCB06iVXOBPPfUUevfujYkTJ+Lq1auc99C1EgEe/Gi3bt3KWSU1NDQwrzdWzkNOTg4+/vhjDBo0CF27dsUzzzyDn376ifPjp2FtKioqqodT5ppL+NI1P3bv3l30nE/mx+PHj7fqnG8panMAWFFRwWzlpMkaGxs5f9Pa7uDZs2dj9uzZzcaxb98+REdHIzY2Fj/++CM6dOiAv//+m3mNrpUI8OBHu3//fo3fl7FyHq5fv46PPvoIvr6+yMrKgpubG5588kmsW7eOeQ0Na1NRUVEZR+ZedJtrLuFL1/zo7++PNWvWoEOHDti9ezczzw8cOBBffPEFZ84n8+P+/ftpCBhtEABbIl0JoQSmgAfVPfwL+vnnnwegn/fx+eefx4YNG1BQUIAOHTqIApy1a9di5MiRzL91rUSABz/avn374oknnsDo0aOxbds2zg3CGBe8Jv3yyy8YPHgw829jhbU16WEou6eiomp/MsW9ydyLbkPnkpZE50w1P/72229GmfOJVq9e3awIZM2aNZzXkDnfktSuATAvLw9yuRxbtmxBjx49IJfLIZfLGbc2cWlPmzYNCQkJCAgIwIABAwRd2l9++SUiIyOxbds2dOzYEb///juzEtm7dy86duyIbdu2QS6X44svvsCjjz6K3NxcbN26Fb1799YKUkTnzp1D165dmX+LAbN9+/YhJCQESUlJOH78OHr16oVly5YxrzdGzoMmff/99xg3bhzzb2OFtYX0sJTdU1FRtS+Z895kykW3oXNJRUUFxytH7MKFC5BIJAgNDW0WnTP2/Pjnn3+iY8eO+Omnn4wy56tUKpw8eVJjG5iTJ09CpVJx5nxLUrsGwCVLlgiuQoKDg5nX5OXlYc6cOejWrRueeOIJrF27Fk1NTZz3CQkJwZgxY9C5c2cMGjRIY1PIgQMHonPnzhg7dixCQ0Nx//59DB48mLNi06Z169Zh8ODBLVpJEV27dg0SiQSVlZUAjJPzIKTMzEzY2Njg+PHjzGPGCmsLyVhl9zt27MD48ePRo0cP9O7dG3PnzoVarea8ZsqUKc2+7/nz53NeU11djUWLFsHGxgY2NjZYtGgRampq9PosVFRU4mWpv11ztgTRd9FtyXNJS+dHIiFP3dChQ1t1zrc0tWsAbG0FBARAIpFApVI1e+7MmTM4f/48VCoV1Go1fv31V3Tq1An79u1j8hz9/f3RtWtXLFmyBJ6enhzvI38lRVRYWAiJRIKoqCgApnHbFxUVYciQIZzVoSa1JKzNlzFzLmbOnInTp08jOTkZiYmJmDNnDp5++mncuHGDec2UKVOwYsUKTkiltraW8z6zZs2Cg4MDpFIppFIpHBwc4OjoqNdnoaKiEi9L/O2aMx+sJYvulnjliPSdSwD9IjwtnR+JxHjq2rsoALaiFixYgIkTJwo+d+bMGTz//PPo3r07rK2tMW7cOI6njEjMSoQtDw8PSCQSJvygK+ehoqICy5YtwzPPPMO5QcyfPx+jR49uVlRTVFSEoUOHYvHixbh3757O76AlYW2+TFl2X15eztwIiaZMmYLPP/9c49+oVCrOjREAZDIZJBJJM48EILwK79OnD/P8/fv3sWnTJvTr1w9du3bFlClTkJyczHkP6nGksiRZwjVtjt+uLrXk3vQwLLoB/ecSQFz+HFFrzI/tTRQA27CkUin27dsHuVyO7OxsXL58GXZ2dnjnnXeY1xgr5wF4sCK0t7fHBx98gLt374r6jGLc9ppuEESmLLvPyMiARCKBUqlkHpsyZQqd9mRkAAAVpElEQVR69eqFnj17Yvjw4Vi3bh3q6+uZ50+ePCmYYGxra4tTp041e3zTpk0YMWIExytRXl7OPL9r1y5YW1vDyckJSqUS8+fPR79+/TjHpB5HKkuSJVzT5vjt6lJL7k36drIwx6Lb3HMJlXlEAbANKz4+HhMmTICtrS26du2K5557Dps2bcLNmzc5rzNGzgNZgb7xxhsoLCzk3PiJTOW2N1WY5f79+3j77bcxadIkzuPHjh2Dv78/lEolLl68iEGDBmH69OnM89u3b4e9vX2z9xNaaQMPJsvRo0dr/Ax9+/bFrl27mMeamppga2uLo0ePAmiZ10KoqatEIsEnn3wCgOY5tiW1xrlujWuafwxz/HZ1ydQhYHMtus05l1CZTxQAqYyi06dPawxXEJnSbW+KsvtPPvkEAwcOREFBgdbXxcXFQSKRID4+HoDm8M6QIUOwc+fOZo9v2rQJ3bt3R79+/TBo0CDMnz8fWVlZAICsrCxIJBIkJCRw/uadd97Bhx9+CKBlXovy8nIOpPv7+3OSoWmeY9tRa5zr1rim2TLXb1eMTNUSpDUX3Q+z7t+/L8pT2h5EAZCqTcjYZfdr167FgAEDkJ2drfO19+/fR6dOnXDp0iUA+k9e3t7euHbtGhQKBfz9/TFlyhT06dMHlZWVTAU0u7kqwK24M4bX4vPPP8ezzz7L7LVpjFyp0NBQODo6ol+/fpBIJHBxceG8h7HywBQKBSZPnoyuXbvCzs4OW7ZsYcbR2rLE78AU55qv1rymzfnbFSNTtQRp7UW3pctS7gGWLAqAVG1Gxii7v3//Pj799FPY2dkhPT1d1N8olUpOsjmZMKOjo5nXREVFiQ5f3bhxA3369MHevXs1tsBZvnw5Zs6cCcBwr8Xt27fRs2dPTvsdY+RKeXt74/vvv4eTk5Mg/BgjD6yurg59+vTBBx98AKVSCScnJ1hbW2PPnj06x20OWdp3YKpzrUvmuKYt4berSQ9DSxBzSYwHzpQeuqSkJHh5eXFyUturKABSUbG0Zs0a2NraIiQkhBNSuXXrFoAHrRa2bNmC2NhY5OTkwMvLC8OGDcOYMWM4OTizZs3CqFGjIJPJIJPJMHLkSL3Co9OnT8fq1avNEi67fPkyHnnkEY5Hxti5Unz4MVYe2JEjR2Bra8vJM9q5cyfs7OwszgNgCd+BOc61Jpn6mraU32571L1793D37l3cuXNHdC6iviosLOQsTHTpvffeQ9euXXH58mXO4/3794eVlRU8PDyM/REfOlEApKJiSVNI5fTp0wCA/Px8TJ48GU888QQ6d+6MZ599Fp999hmqqqo471NVVYWFCxfC2toa1tbWWLhwoegCiaamJvTv358J4/Xt2xe7d+9mnr99+7YgJLTUa/Hmm2/qnOAMzZXiw4+xIGDx4sWcSkQASEhIgEQiERUCNKcs4Tswx7kWkjmuaUv47T4MIh64e/fuGWWRpO975Ofnw8vLS+NOKDdu3MDYsWPx22+/Me8dHR2tN7TNmTMHvXv3xqRJk5hekBEREZg0aRKsrKzg6uqq1+dui6IASEXVylq3bh1CQkKQnZ2NqKgoODo6wtramskR2rVrF2xtbeHs7AylUokFCxYIhglb4rXIzc1Fhw4ddN4MDc2V4sOPsfLAZsyYgRUrVnCe19R6o7XV2t+Buc410LrXdHvVnTt3GA/c3bt3jRpGvXXrFvLz85GamtoMmIEHYLVs2TJMmDABU6dOxV9//YX79+9DoVDAysoKmZmZzGvfeustWFlZ4dChQxrh8dy5c+jevTv8/PwAACNHjsQXX3wh6rOS95w3bx5WrVqFJ598kmlEvXjxYhw7dgzW1tY4ceKEXt9BWxQFQCqqVhbJ++rUqRPs7Ozw73//GykpKczzpFCgb9++6NKlCyZPnszpbQa03GtB3vfOnTtaX2dorpQm+DE0D2zGjBlYuXIl53myQ4FMJtM6JnOrtb8Dc51roHWvaUsXH3ru3bsneE5MlcKgUqlw9epVnDp1inNONcnf3x9jxoxBjx49YGdnh3/9619MRTfwoNBp9OjRmD9/Pn7//Xf89ttvOHToEBobG5GRkYFOnTox3uTo6GiMGzcOVlZWOHz4sNZw8bp16zB8+HAsWLAAo0aN0lnRTUTA98MPP8TSpUuxceNGrF69GhUVFRg5ciTkcjmef/55jge6vYoCIBVVO9W9e/fw9NNPY/369ZzHTZErZQnhz9ZWa34H5jzXbV0khEo8bezH9c1/Ewt5t2/f1vp8SkoKli9fjjFjxuCZZ55B7969YWtrCysrK3h6ejKv8/DwwNixY2Fvb4/x48dj+PDhcHFx0egtrKysxJNPPolPPvkEFRUVSEtLw3PPPYf58+ejoqICADBx4kQ4OjpyAI2EXPPy8tCjRw/4+voCAN544w0cO3YMTz31FH788Uedi5F58+bBysqqWR6fNpGxrF27Fo6OjsjIyMD06dOxePFirFy5ElVVVRg3bhy+++470e/ZVkUBkIqqncrX1xcSiQRpaWmcx02RK6WpAMLQPLAjR47gscce40yQu3bteqiKQMzxHZjzXFu6NAEcAJOET8kxAeDmzZuIjY3l7ORx/fp1rFy5EnFxccxjt2/fxrp169C7d288/vjjmDp1arPt5Njy9fVFhw4d8M0338DV1RU+Pj6IiYmBjY0Ns1BobGyEnZ0dVq5ciVu3buHOnTtYunQphgwZwlRNk89J/rt7926MGTMGOTk5zLH8/PzQu3dvyGQy3Lp1C9bW1hp7BpaUlKBnz55wc3NDcnIy7O3tUVpaiqlTp2LNmjUat/ck5+XNN9+ElZUV1q9fz/SmJJ9NUw4j+duNGzfi9ddfR1VVFf744w907NiR+a299tprWLt2bbvvB0gBkIqKyiRqaGiAXC6HXC6HRCJhtpIiyd/GyAOrra1Fnz59sGDBAiiVSjg7O8PGxsZi2sDQ78D40lbEQLxwd+/e1WsBIPa1VVVVkMlkuHLlCo4ePYrdu3ejsLAQABAWFobly5dzPGH5+fno0aMHfHx8AACBgYGwsrLiVHW/8sorsLKy4uSkvfvuu3jzzTcREBCA/Px8ZvcOvreYKCYmBn379uVAJAA8++yz+OWXXwA86Alob2/PCduXlZWhd+/ezXoDEohatWoV/vWvf3HyVAsKCtC3b1+4uLigrKwMvXr1YnY6IR49AlZVVVUYMGAArl69io8//pjZfWb69OlYuHAhB4SJyHts27YNEyZMwIEDBzBixAj8/PPPzGu0nS9y7N27d2PKlClISUlBY2MjLly4wIDu5MmT4ejoqNMD2dZFAZCKisokCg4OFqzKXLJkCQDj5YEpFAq89tpr6NKlC/r27YvNmzdbjPePfgcPdOfOHZSWliIpKQlBQUHw9vZGYmIi5zVseGuJZ0bbeG/evIn8/HwoFApER0fDyckJhw8fxtdff438/HwAD77n77//Hg4ODhg+fDh+/vlnNDQ0MO9RW1uLRYsWYeDAgRg+fDjGjBkDKysrXLlyBQBw9uxZ9OvXjym8uX//PoqLi9G7d2+moCY2Nhb9+/dnihuOHDmCWbNmoVOnTvjtt98AAOHh4Zg4cSKTN0dg7JlnnsGmTZsEx5eUlIQBAwYwHmYCNqNHj2bC/r/88gumTZuGpKQkzvuOGTMGW7du5bwfee6rr77C7NmzOekUeXl5GDx4MONZJNvCCam2thYvvfQSZs6ciTlz5jBVvPPmzcPcuXOZUDEROYdqtRrPPfcc47H7888/MWjQIMYzDjwAbk9Pz2YQRz77/v37MW7cOMFc4D179uCXX34xWcuah0UUAKmoqKioTKqtW7fCysoKXbt2xVNPPYXhw4fDwcEBp0+f1pnfxta9e/egVqvh4uKCkydPws3NjQNpgYGBcHR0xNNPP40hQ4bgyJEjUKvVeOGFF2BlZQVra2tYWVmhV69emDJlCsaOHcsA99KlSzF27FgcOPD/2rvX2CbIBQ7jafyCcUHURVDLJcPCGFvLRVI3lE0QBhvIGnBORBCCWdi4ZOCFEQIjQNRIuBQY4pjKxQxBYSZEQrgFSPgETAXkssAyE9xGwnQQ5ui2/s+Hpu9WHBc9p57jeZ9fQkig7dqGhCfv1a+SkhI5nU7Nnj1b9fX1kkIbcnr37m3Ws926dUu9e/dWSUmJpND6OrfbHRHwv//+u3r16qXi4mJJoVDr0aOHCcLk5GStWbNGL774otnlWlxcrCeeeML8iomJUZcuXfTQQw+pqKgo4v7d9sHkcrlUWloqqS0AU1NTzQahTz/9VF6vN2JneFNTk9xut4qKisz32/73rVu3KikpSd988415zmeffaZ+/frpu+++kyS9//77iouL05YtW8z3cujQIVVVVSkQCJh1fPPmzTNnVU6ZMkVut7vDZQTNzc3KyMhQampqRCAuXrxYmZmZJkbT09OVkpLSwb+Stu++oxFGtCEAAQBRtWrVKg0dOtRMP/72228aN26cunbtaka69u/fb8IgKSlJRUVFJr7CQVJWVqYhQ4bI5XIpOTlZGRkZZkTr22+/VXx8vN566y3t3btXO3bs0Jdffqna2loFAgG1traqoaFBLpfLjNqFHTt2THFxcSbmpNCInsvlMtOb+fn5GjlyZMQUr9vt1vLlyyWFdsvGx8frqaeeUp8+fdStWzfFxsbK4XCY0b0LFy7o2Wef1VdffaW9e/fqhRde0JUrV5SVlWU2/mzYsEH9+/eX3+/XhQsXdPHiRXM/892mLKuqquTxeMx0b/hx48ePV3Z2tiSpoqJCbrdb7733nnne1q1b1bNnT+3atSview4LBALKycmRy+VSWVmZdu7cqQEDBujtt982B2xfu3ZN8+fPV3x8vBISEtSzZ09NnDhR58+fV2trq9544w117tzZTIOHv9sFCxZExGxYMBjUzz//fM81plevXlV2drYZIfyzI8Z/ZcPO/yMCEAAQVZ988om8Xm/EdNzBgwf16KOPqqysTFJozVZubq4+//xzbd68WS6XS7m5uSYEjh49KqfTqTlz5piRne+//151dXWSpBEjRuiVV16JCIdwGIRHyhoaGpSYmKiPP/5YkkzEfPTRR0pJSdFPP/1knltbW6ukpCSz9mz79u3q27evCgsLdfjwYRUXF+vxxx/XokWLJIWmbgcOHKgpU6bo4MGDOnz4sE6cOCGPx2NG9y5fvqxBgwZpxYoVysvLM3cw+3w+ZWVlSQqFZGJiopliDX+GxsbGiNHO9q5evaphw4Zp4cKFktoCcPr06eZIISk09dm9e3fNnDlTixcv1oABA5Sfn2++h47U1NSosLBQTqdTTqdTc+fOVU1NjaS26dbGxkYdOnRIX3/9tY4cOaLq6uqobLAIf65Lly5p8+bNdz1MGg+GAAQARNW2bdvk9XojdrKWlJTokUceMaNxd/5nXl5errS0NHOMSV5enp5//nlzh2v7wLh48aISExO1evVqSbrr6E5jY6OGDh2qBQsWSJIJyZUrVyo1NVU//vijeeyvv/6qlJQUzZ8/3/y8bdu2KSYmRg6HQ8OHD5fD4dCsWbMkhdb3JScny+/3m9cIT2dOnjxZUugw7qysLD399NN6/fXXzaaN3Nxcc/i3JM2ePVuxsbEqLS1VdXW1Tp8+rYKCAq1fv/4Pn10KRdrgwYP16quvSpLZXTtnzhx5vV7z+ObmZu3Zs0eZmZkaNWqUPvzwQ9XW1nb4Xd3Pv7vGlBG4/z4CEAAQVXv27NFzzz0nv9+vs2fPasuWLfJ4PMrMzDTh19TUpE2bNmn48OHq37+/YmNjFRMTY65ye/PNN5Wenm7WDAaDQRM6586dU3JysrlX+W5TpYFAQBkZGZoxY4b5mZK0Y8cOeTwes65NkiorK+X1eiM2SJw/f16ZmZlmrV1OTo58Pp95Dy+//LKWLl1q3l9LS4smTZqk0aNHSwod0D1hwgQ5HA6988475nXz8/PVo0cP877r6+vl9/sVHx+vhx9+WE8++aTGjBmjAwcOmNdu7/bt2zp69KiZTm//eR/Eg8Rc+93X9/r7/6XNR7g3AhAAEFVHjhyRy+VSp06dFBcXpz59+mjatGnmdpCWlhYVFRUpISFBy5cvV3l5uTZt2hSxxq6wsFADBw5UQ0ODpMhRsOvXr2vs2LGaNGnSPd9HS0uLJk+erAkTJkhqO2C5rq5OPp9PHo9H1dXVampq0syZM+VyuXT27FlJ0o0bN5STk2OeGwgE9NprrykhIUFSKA6HDBmiadOmSWoLory8PKWlpUkKjSouWbJEPp/PrF2UpFOnTqm8vDwinlpbW3Xr1q2oBFVLS4u5Ng72IgABAFF14sQJs+O1I5WVlUpLS1NBQYH5s4qKCnXv3t3c2LB7927FxcVpw4YN5jH19fXmWrLS0lI99thj+uCDD9TY2Khr165p3759EaEVDAY1Y8YMDR48WFLkCNmpU6eUkZEhp9Op2NhYeTyeiN2vu3btUlpamjn3r7W1Vbt379a6deskhaaXT548GXHv7X/S/UIwGAwy+oY/hQAEAETVDz/8oNTUVLP5IhAIRNzEcfnyZb300kuaOHGipNBhw1OnTpXD4TBReOPGDS1atEjPPPOM3n33XS1btkzTp0/X2rVrJYWuH1u3bp369eunrl27qkuXLho7dmzEHcSStHHjRnM0yp3BVFNTo+PHj+v06dOqq6uLSlAFg0E1Nzd3eCcw8HciAAEAUVVZWalhw4aZ0byOph537typXr16yel0KjExUbNmzZLP5zMbG6RQOH7xxRdKT0/XiBEjVFBQEHGrhhSaiq2oqFBVVdUfDhpu76/E3Z2RdudxIozC4Z+EAAQARNUvv/yi7OxsrVixQtLd4+vkyZM6cOCAzpw5o5s3b+r27dtRWwN3N0QcbEEAAgD+McKjbuFNDB3FGgEH3B8BCAD4WzzoRgYCDog+AhAAAMAyBCAAAIBlCEAAAADLEIAAAACWIQABAAAsQwACAABYhgAEAACwDAEIAABgGQIQAADAMgQgAACAZQhAAAAAyxCAAAAAliEAAQAALEMAAgAAWIYABAAAsAwBCAAAYBkCEAAAwDIEIAAAgGUIQAAAAMsQgAAAAJYhAAEAACxDAAIAAFiGAAQAALAMAQgAAGAZAhAAAMAyBCAAAIBlCEAAAADLEIAAAACWIQABAAAsQwACAABYhgAEAACwDAEIAABgGQIQAADAMgQgAACAZQhAAAAAyxCAAAAAliEAAQAALEMAAgAAWIYABAAAsAwBCAAAYBkCEAAAwDIEIAAAgGUIQAAAAMsQgAAAAJYhAAEAACxDAAIAAFiGAAQAALAMAQgAAGAZAhAAAMAyBCAAAIBlCEAAAADLEIAAAACWIQABAAAsQwACAABYhgAEAACwDAEIAABgGQIQAADAMv8CuC8J4KC4D+sAAAAASUVORK5CYII=\" width=\"640\">"
      ],
      "text/plain": [
       "<IPython.core.display.HTML object>"
      ]
     },
     "metadata": {},
     "output_type": "display_data"
    }
   ],
   "source": [
    "fig1 = plt.figure()\n",
    "ax = Axes3D(fig1)\n",
    "ax.invert_zaxis()\n",
    "\n",
    "ax.view_init(0, - 90)\n",
    "\n",
    "model.plot(ax=ax)\n",
    "\n",
    "survey_borehole.plot(ax=ax)\n",
    "\n",
    "# Create cubic bounding box to simulate equal aspect ratio\n",
    "# max_range = np.array([horizons[-1].X.max()-horizons[-1].X.min(), horizons[-1].Y.max()-horizons[-1].Y.min(), horizons[-1].Z.max()-horizons[-1].Z.min()]).max()\n",
    "# Xb = 0.5*max_range*np.mgrid[-1:2:2,-1:2:2,-1:2:2][0].flatten() + 0.5*(horizons[-1].X.max()+horizons[-1].X.min())\n",
    "# Yb = 0.5*max_range*np.mgrid[-1:2:2,-1:2:2,-1:2:2][1].flatten() + 0.5*(horizons[-1].Y.max()+horizons[-1].Y.min())\n",
    "# Zb = 0.5*max_range*np.mgrid[-1:2:2,-1:2:2,-1:2:2][2].flatten() + 0.5*(horizons[-1].Z.max()+horizons[-1].Z.min())\n",
    "# # Comment or uncomment following both lines to test the fake bounding box:\n",
    "# for xb, yb, zb in zip(Xb, Yb, Zb):\n",
    "#     ax.plot([xb], [yb], [zb], 'w')\n",
    "\n",
    "ax.set_xlabel(\"Расстояние по оси x, м\")\n",
    "# ax.set_ylabel(\"Расстояние по оси y, м\",)\n",
    "ax.set_zlabel(\"Глубина, м\")\n",
    "\n",
    "plt.show()"
   ]
  },
  {
   "cell_type": "markdown",
   "metadata": {},
   "source": [
    "Можно также нарисовать годографы"
   ]
  },
  {
   "cell_type": "code",
   "execution_count": null,
   "metadata": {},
   "outputs": [],
   "source": [
    "T = traveltime_curve.reshape(receivers.shape)\n",
    "X, Y = np.meshgrid(rec_loc_x, rec_loc_x)"
   ]
  },
  {
   "cell_type": "code",
   "execution_count": null,
   "metadata": {
    "scrolled": false
   },
   "outputs": [],
   "source": [
    "fig12 = plt.figure()\n",
    "ax = Axes3D(fig12)\n",
    "ax.plot_surface(X, Y, T)"
   ]
  },
  {
   "cell_type": "markdown",
   "metadata": {},
   "source": [
    "Аналогично, **нет спецального метода для отрисовки сейсмограмм** - приходится сочинять что-то вроде этого:"
   ]
  },
  {
   "cell_type": "code",
   "execution_count": null,
   "metadata": {},
   "outputs": [],
   "source": [
    "%%time\n",
    "A = np.ones(shape=(1000,2000))\n",
    "B = np.array(A)"
   ]
  },
  {
   "cell_type": "code",
   "execution_count": null,
   "metadata": {},
   "outputs": [],
   "source": [
    "%%time\n",
    "B = np.empty(A.ravel().shape)\n",
    "for i, a in enumerate(A.ravel()):\n",
    "    a += 1\n",
    "B = B.reshape(A.shape)"
   ]
  },
  {
   "cell_type": "code",
   "execution_count": null,
   "metadata": {
    "scrolled": false
   },
   "outputs": [],
   "source": [
    "%%time\n",
    "for i, t_i in enumerate(A):\n",
    "    for j, t_ij in enumerate(t_i):\n",
    "        t_ij += 1"
   ]
  },
  {
   "cell_type": "code",
   "execution_count": null,
   "metadata": {},
   "outputs": [],
   "source": [
    "plt.figure()\n",
    "plt.imshow(Tt)\n",
    "plt.show()"
   ]
  },
  {
   "cell_type": "code",
   "execution_count": null,
   "metadata": {},
   "outputs": [],
   "source": [
    "fig2 = plt.figure()\n",
    "\n",
    "plt.title(\"Сейсмограмма (Z-компонента)\")\n",
    "plt.gca().invert_yaxis()\n",
    "m = len(survey.rays[:16])\n",
    "plt.yticks(np.arange(0, m, 1), np.round(rec_loc_x),\n",
    "           fontsize = - 5 / 16 * m + 11 + 21 * 5 / 16)\n",
    "\n",
    "for i in range(m):\n",
    "\n",
    "    plt.fill_between(record_time, seismogram_z[i, :] / np.max(abs(seismogram_x)) / 1.5 + i,\n",
    "                     np.ones(record_time.shape) * i,\n",
    "                     linewidth = 0.3, color = 'b', alpha = 0.5)\n",
    "\n",
    "\n",
    "plt.ylabel(\"Координаты вдоль профиля, м\")\n",
    "plt.xlabel(\"Время, с\")\n",
    "\n",
    "plt.show()"
   ]
  },
  {
   "cell_type": "markdown",
   "metadata": {},
   "source": [
    "Питон выдаёт предупреждение о потере мнимой части сейсмограмм - и это тоже проблема, с которой пока что надо мириться."
   ]
  },
  {
   "cell_type": "code",
   "execution_count": null,
   "metadata": {
    "collapsed": true
   },
   "outputs": [],
   "source": []
  },
  {
   "cell_type": "code",
   "execution_count": null,
   "metadata": {
    "collapsed": true
   },
   "outputs": [],
   "source": []
  },
  {
   "cell_type": "code",
   "execution_count": null,
   "metadata": {
    "collapsed": true
   },
   "outputs": [],
   "source": []
  },
  {
   "cell_type": "code",
   "execution_count": null,
   "metadata": {
    "collapsed": true
   },
   "outputs": [],
   "source": []
  },
  {
   "cell_type": "code",
   "execution_count": null,
   "metadata": {
    "collapsed": true
   },
   "outputs": [],
   "source": []
  },
  {
   "cell_type": "markdown",
   "metadata": {},
   "source": [
    "# Cubic interp"
   ]
  },
  {
   "cell_type": "code",
   "execution_count": null,
   "metadata": {
    "collapsed": true
   },
   "outputs": [],
   "source": [
    "from src.tprt import bicubic_interpolation"
   ]
  },
  {
   "cell_type": "code",
   "execution_count": null,
   "metadata": {
    "collapsed": true
   },
   "outputs": [],
   "source": [
    "_y_set, _x_set = np.meshgrid(*[np.linspace(-1,1,10)]*2)\n",
    "y_set, x_set = [np.linspace(-1,1,10)]*2\n",
    "z_set = _x_set.copy() * 0"
   ]
  },
  {
   "cell_type": "code",
   "execution_count": null,
   "metadata": {
    "collapsed": true
   },
   "outputs": [],
   "source": [
    "a = bicubic_interpolation.two_dim_polynomial(x_set, y_set, z_set)"
   ]
  },
  {
   "cell_type": "code",
   "execution_count": null,
   "metadata": {},
   "outputs": [],
   "source": [
    "a.shape"
   ]
  },
  {
   "cell_type": "code",
   "execution_count": null,
   "metadata": {},
   "outputs": [],
   "source": [
    "x = np.linspace(-1,1, 10)\n",
    "a_0 = x[1:-1] - x[:-2]\n",
    "a_1 = x[2:] - x[:-2]\n",
    "a_2 = x[1:-1] - x[:-2]\n",
    "a_1.shape\n",
    "# np.ones(3) - np.ones(3)"
   ]
  },
  {
   "cell_type": "code",
   "execution_count": null,
   "metadata": {
    "collapsed": true
   },
   "outputs": [],
   "source": [
    "def second_derivatives(x_set, z_set):\n",
    "    \"\"\"\n",
    "\n",
    "    :param x_set: strictly ascending 1D-numerical array\n",
    "    :param z_set: 1D-numerical array of corresponding values z = z(x)\n",
    "    :return: 1D-numerical array of second derivatives z'' = z''(x) at points from x_set\n",
    "    \"\"\"\n",
    "\n",
    "    # Returns array of second derivatives of z in x = x_set[i].\n",
    "\n",
    "    # Here a system of linear equations is solved:\n",
    "    # A m = B\n",
    "    # Matrix A is three-diagonal. Som there is no need to keep it all.\n",
    "\n",
    "    a = np.zeros((3, z_set.shape[0] - 2))  # here we shall write all three non-zero diagonals of the system's matrix\n",
    "    b = np.zeros(a.shape[1])  # right part of the system\n",
    "\n",
    "    a[1, 0] = (x_set[2] - x_set[0]) / 3\n",
    "    a[2, 0] = (x_set[2] - x_set[1]) / 6\n",
    "\n",
    "    a[0, -1] = (x_set[-2] - x_set[-3]) / 6\n",
    "    a[1, -1] = (x_set[-1] - x_set[-3]) / 3\n",
    "\n",
    "    b[0] = (z_set[2] - z_set[1]) / (x_set[2] - x_set[1]) - (z_set[1] - z_set[0]) / (x_set[1] - x_set[0])\n",
    "\n",
    "    b[-1] = (z_set[- 1] - z_set[- 2]) / (x_set[- 1] - x_set[- 2]) -\\\n",
    "            (z_set[- 2] - z_set[- 3]) / (x_set[- 2] - x_set[- 3])\n",
    "    \n",
    "    for i in np.arange(1, a.shape[1] - 1, 1):\n",
    "\n",
    "        a[0, i] = (x_set[i + 1] - x_set[i]) / 6\n",
    "        a[1, i] = (x_set[i + 2] - x_set[i]) / 3\n",
    "        a[2, i] = (x_set[i + 1] - x_set[i]) / 6\n",
    "\n",
    "        b[i] = (z_set[i + 2] - z_set[i + 1]) / (x_set[i + 2] - x_set[i + 1]) -\\\n",
    "               (z_set[i + 1] - z_set[i]) / (x_set[i + 1] - x_set[i])\n",
    "    return a, b"
   ]
  },
  {
   "cell_type": "code",
   "execution_count": null,
   "metadata": {
    "collapsed": true
   },
   "outputs": [],
   "source": [
    "x = np.linspace(-1,1,20)\n",
    "z = np.random.randn(20)"
   ]
  },
  {
   "cell_type": "code",
   "execution_count": null,
   "metadata": {
    "collapsed": true
   },
   "outputs": [],
   "source": [
    "a, b = second_derivatives(x, z)"
   ]
  },
  {
   "cell_type": "code",
   "execution_count": null,
   "metadata": {
    "collapsed": true
   },
   "outputs": [],
   "source": [
    "from scipy.linalg import solve_banded\n",
    "\n",
    "\n",
    "def second_derivatives_ad(x_set, z_set):\n",
    "    \"\"\"\n",
    "\n",
    "    :param x_set: strictly ascending 1D-numerical array\n",
    "    :param z_set: 1D-numerical array of corresponding values z = z(x)\n",
    "    :return: 1D-numerical array of second derivatives z'' = z''(x) at points from x_set\n",
    "    \"\"\"\n",
    "\n",
    "    # Returns array of second derivatives of z in x = x_set[i].\n",
    "\n",
    "    # Here a system of linear equations is solved:\n",
    "    # A m = B\n",
    "    # Matrix A is three-diagonal. Som there is no need to keep it all.\n",
    "    n0, n1 = z_set.shape\n",
    "    a = np.zeros((3, n1 - 2, n0))  # here we shall write all three non-zero diagonals of the system's matrix\n",
    "    b = np.zeros((n1 - 2, n0))  # right part of the system\n",
    "\n",
    "    a[1, 0] = (x_set[2] - x_set[0]) / 3\n",
    "    a[2, 0] = (x_set[2] - x_set[1]) / 6\n",
    "\n",
    "    a[0, -1] = (x_set[-2] - x_set[-3]) / 6\n",
    "    a[1, -1] = (x_set[-1] - x_set[-3]) / 3\n",
    "\n",
    "    b[0] = (z_set[2] - z_set[1]) / (x_set[2] - x_set[1]) - (z_set[1] - z_set[0]) / (x_set[1] - x_set[0])\n",
    "\n",
    "    b[-1] = (z_set[- 1] - z_set[- 2]) / (x_set[- 1] - x_set[- 2]) -\\\n",
    "            (z_set[- 2] - z_set[- 3]) / (x_set[- 2] - x_set[- 3])\n",
    "    \n",
    "    a[0, 1:-1] = (x_set[2:-2] - x_set[1:-3]) / 6\n",
    "    a[1, 1:-1] = (x_set[3:-1] - x_set[1:-3]) / 3\n",
    "    a[2, 1:-1] = (x_set[2:-2] - x_set[1:-3]) / 6\n",
    "    b[1:-1] = (z_set[3:-1] - z_set[2:-2]) /  (x_set[3:-1] - x_set[2:-2]) - \\\n",
    "                (z_set[2:-2] - z_set[1:-3]) / (x_set[2:-2] - x_set[1:-3])\n",
    "    \n",
    "#     sec_deriv = solve_banded((1, 1), a, b)  # here are second derivatives in points x[1]...x[- 2].\n",
    "#     # So, let's append left and right edges which are supposed to be equal to zero:\n",
    "\n",
    "#     sec_deriv = np.append(0, sec_deriv)\n",
    "#     sec_deriv = np.append(sec_deriv, 0)\n",
    "\n",
    "    return a, b\n",
    "\n",
    "\n",
    "def one_dim_polynomial(x_set, z_set):\n",
    "    \"\"\"\n",
    "\n",
    "    :param x_set: strictly ascending 1D-numerical array\n",
    "    :param z_set: 1D-numerical array of corresponding values z = z(x)\n",
    "    :return: array of polynomial coefficients of cubic spline interpolation of z(x) function\n",
    "    \"\"\"\n",
    "\n",
    "    # Returns array of coefficients of the interpolation ploynomials for function z_set defined on grid x_set with\n",
    "    # second derivatives at the edges given.\n",
    "\n",
    "    one_dim_coefficients = np.zeros((x_set.shape[0] - 1, 4))  # first index represents x_i (nearest left neighbour of\n",
    "    # current x) and the second indicates the power of x in the polynomial.\n",
    "    m_i = second_derivatives_ad(x_set, z_set)\n",
    "    \n",
    "    _step_i = x_set[1:] - x_set[:-1]\n",
    "    \n",
    "    _aa = m_i[:-1] * x_set[1:] ** 3 / (_step_i * 6)\n",
    "    _bb = m_i[1:] * x_set[:-1] ** 3 / (_step_i * 6)\n",
    "    _cc = (z_set[:-1] - m_i[:-1] * _step_i ** 2 / 6) * x_set[1:] / _step_i\n",
    "    _dd = (z_set[1:] - m_i[1:] * _step_i ** 2 / 6) * x_set[:-1] / _step_i\n",
    "    \n",
    "    one_dim_coefficients[:, 0] = _aa- _bb + _cc - _dd\n",
    "                \n",
    "    _aa = -m_i[:-1] * 3 * x_set[1:] ** 2 / (_step_i * 6)\n",
    "    _bb = m_i[1:] * 3 * x_set[:-1] ** 2 / (_step_i * 6)\n",
    "    _cc = (z_set[:-1] - m_i[:-1] * _step_i ** 2 / 6) / _step_i\n",
    "    _dd = (z_set[1:] - m_i[1:] * _step_i ** 2 / 6) / _step_i\n",
    "    \n",
    "    one_dim_coefficients[:, 1] = _aa + _bb - _cc + _dd\n",
    "    \n",
    "    _aa = m_i[:-1] * 3 * x_set[1:] / (_step_i * 6)\n",
    "    _bb = m_i[1:] * 3 * x_set[:-1]  / (_step_i * 6)\n",
    "    \n",
    "    one_dim_coefficients[:, 2] = _aa - _bb\n",
    "    \n",
    "    _aa = -m_i[:-1]  / (_step_i * 6)\n",
    "    _bb = m_i[1:]  / (_step_i * 6)\n",
    "    \n",
    "    one_dim_coefficients[:, 3] = _aa + _bb\n",
    "    \n",
    "    return one_dim_coefficients"
   ]
  },
  {
   "cell_type": "code",
   "execution_count": null,
   "metadata": {
    "collapsed": true
   },
   "outputs": [],
   "source": [
    "a_list = []\n",
    "b_list = []\n",
    "x = np.linspace(-1,1,20)\n",
    "z = np.random.randn(10,20)\n",
    "for _z in z:\n",
    "    _a, _b = second_derivatives(x, _z)\n",
    "    a_list.append(_a)\n",
    "    b_list.append(_b)"
   ]
  },
  {
   "cell_type": "code",
   "execution_count": null,
   "metadata": {},
   "outputs": [],
   "source": [
    "x[None,...].repeat(10, axis=0)[0]"
   ]
  },
  {
   "cell_type": "code",
   "execution_count": null,
   "metadata": {},
   "outputs": [],
   "source": [
    "np.ones((3,4)) +np.ones((1,4))"
   ]
  },
  {
   "cell_type": "code",
   "execution_count": null,
   "metadata": {},
   "outputs": [],
   "source": [
    "a, b = second_derivatives_ad(x[..., None], z.T)"
   ]
  },
  {
   "cell_type": "code",
   "execution_count": null,
   "metadata": {},
   "outputs": [],
   "source": [
    "a"
   ]
  },
  {
   "cell_type": "code",
   "execution_count": null,
   "metadata": {
    "collapsed": true
   },
   "outputs": [],
   "source": [
    "a1 = one_dim_polynomial(x, z)"
   ]
  },
  {
   "cell_type": "code",
   "execution_count": null,
   "metadata": {
    "collapsed": true
   },
   "outputs": [],
   "source": [
    "a0 =  bicubic_interpolation.one_dim_polynomial(x, z)"
   ]
  },
  {
   "cell_type": "code",
   "execution_count": null,
   "metadata": {},
   "outputs": [],
   "source": [
    "a1 - a0"
   ]
  }
 ],
 "metadata": {
  "kernelspec": {
   "display_name": "Python 3",
   "language": "python",
   "name": "python3"
  },
  "language_info": {
   "codemirror_mode": {
    "name": "ipython",
    "version": 3
   },
   "file_extension": ".py",
   "mimetype": "text/x-python",
   "name": "python",
   "nbconvert_exporter": "python",
   "pygments_lexer": "ipython3",
   "version": "3.6.2"
  }
 },
 "nbformat": 4,
 "nbformat_minor": 2
}
